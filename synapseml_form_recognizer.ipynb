{
  "cells": [
    {
      "cell_type": "markdown",
      "source": [
        "# Form Recognizer tutorial\r\n",
        "\r\n",
        "__Setup__\r\n",
        "\r\n",
        "- Create Form Recognizer service instance\r\n",
        "- Create secret scope to store access key\r\n",
        "- Create Azure Synapse Spark pool"
      ],
      "metadata": {
        "nteract": {
          "transient": {
            "deleting": false
          }
        }
      }
    },
    {
      "cell_type": "markdown",
      "source": [
        "__Setup__"
      ],
      "metadata": {
        "nteract": {
          "transient": {
            "deleting": false
          }
        }
      }
    },
    {
      "cell_type": "code",
      "source": [
        "#from synapse.ml.cognitive import *\r\n",
        "from synapse.ml.cognitive import *\r\n",
        "\r\n",
        "from notebookutils import mssparkutils\r\n",
        "\r\n",
        "# A general Cognitive Services key for Text Analytics and Computer Vision (or use separate keys that belong to each service)\r\n",
        "cognitive_service_key = mssparkutils.credentials.getSecret(\"ezzat-keyvault\", \"ez-cog-lang\")\r\n",
        "cognitive_service_form_key = mssparkutils.credentials.getSecret(\"ezzat-keyvault\",\"ez-cog-form\")\r\n",
        "\r\n",
        "# A Bing Search v7 subscription key\r\n",
        "#bingsearch_service_key = mssparkutils.credentials.getSecret(\"ADD_YOUR_KEY_VAULT_NAME\", \"ADD_YOUR_BING_SEARCH_KEY\",\"ADD_YOUR_KEY_VAULT_LINKED_SERVICE_NAME\")\r\n",
        "# An Anomaly Dectector subscription key\r\n",
        "#anomalydetector_key = mssparkutils.credentials.getSecret(\"ADD_YOUR_KEY_VAULT_NAME\", \"ADD_YOUR_ANOMALY_KEY\",\"ADD_YOUR_KEY_VAULT_LINKED_SERVICE_NAME\")\r\n",
        "\r\n",
        "#Ref: https://microsoft.github.io/SynapseML/docs/documentation/transformers/transformers_cognitive/#analyzedocument\r\n"
      ],
      "outputs": [],
      "execution_count": null,
      "metadata": {
        "jupyter": {
          "source_hidden": false,
          "outputs_hidden": false
        },
        "nteract": {
          "transient": {
            "deleting": false
          }
        }
      }
    },
    {
      "cell_type": "markdown",
      "source": [
        "## AnalyzeLayout"
      ],
      "metadata": {
        "nteract": {
          "transient": {
            "deleting": false
          }
        }
      }
    },
    {
      "cell_type": "code",
      "source": [
        "import pyspark.sql.functions as f\r\n",
        "\r\n",
        "imageDf = spark.createDataFrame([\r\n",
        "  (\"https://mmlspark.blob.core.windows.net/datasets/FormRecognizer/layout1.jpg\",),\r\n",
        "  (\"https://raw.githubusercontent.com/MicrosoftDocs/azure-docs/master/articles/cognitive-services/Computer-vision/Images/readsample.jpg\",),\r\n",
        "  (\"https://www.nist.gov/sites/default/files/images/2019/04/27/sd19.jpg\",),\r\n",
        "  (\"https://formrecognizer.appliedai.azure.com/documents/samples/layout/layout-checklist.jpg\",)\r\n",
        "], [\"source\",])\r\n",
        "\r\n",
        "analyzeLayout = (AnalyzeLayout()\r\n",
        "            .setSubscriptionKey(cognitive_service_form_key)\r\n",
        "            .setLocation(\"eastus\")\r\n",
        "            .setImageUrlCol(\"source\")\r\n",
        "            .setOutputCol(\"layout\")\r\n",
        "            .setConcurrency(5))\r\n",
        "\r\n",
        "df_analyse_layout=(analyzeLayout.transform(imageDf)\r\n",
        "        .withColumn(\"lines\", f.flatten(f.col(\"layout.analyzeResult.readResults.lines\")))\r\n",
        "        .withColumn(\"readLayout\", f.col(\"lines.text\"))\r\n",
        "        .withColumn(\"tables\", f.flatten(f.col(\"layout.analyzeResult.pageResults.tables\")))\r\n",
        "        .withColumn(\"cells\", f.flatten(f.col(\"tables.cells\")))\r\n",
        "        .withColumn(\"pageLayout\", f.col(\"cells.text\"))\r\n",
        "        .select(\"source\", \"readLayout\", \"pageLayout\",\"*\"))\r\n",
        "\r\n",
        "df_analyse_layout.cache()\r\n",
        "\r\n",
        "display(df_analyse_layout)"
      ],
      "outputs": [],
      "execution_count": null,
      "metadata": {
        "jupyter": {
          "source_hidden": false,
          "outputs_hidden": false
        },
        "nteract": {
          "transient": {
            "deleting": false
          }
        },
        "collapsed": false
      }
    },
    {
      "cell_type": "code",
      "source": [
        "#Analyse table\r\n",
        "\r\n",
        "display(df_analyse_layout\r\n",
        "        .filter(\"source='https://formrecognizer.appliedai.azure.com/documents/samples/layout/layout-checklist.jpg'\")\r\n",
        "        .withColumn('tables',f.explode_outer(f.col(\"tables\")))\r\n",
        "        .select(\"tables.*\")\r\n",
        "        .withColumn('cells',f.explode_outer(f.col(\"cells\")))\r\n",
        "        .select(\"rows\",\"columns\",\"cells.*\")\r\n",
        "        )"
      ],
      "outputs": [],
      "execution_count": null,
      "metadata": {
        "jupyter": {
          "source_hidden": false,
          "outputs_hidden": false
        },
        "nteract": {
          "transient": {
            "deleting": false
          }
        },
        "collapsed": false
      }
    },
    {
      "cell_type": "markdown",
      "source": [
        "## Analyze document"
      ],
      "metadata": {
        "nteract": {
          "transient": {
            "deleting": false
          }
        }
      }
    },
    {
      "cell_type": "code",
      "source": [
        "from synapse.ml.cognitive import *\r\n",
        "import pyspark.sql.functions as f\r\n",
        "\r\n",
        "imageDf = spark.createDataFrame([\r\n",
        "  (\"https://mmlspark.blob.core.windows.net/datasets/FormRecognizer/layout1.jpg\",),\r\n",
        "  (\"https://raw.githubusercontent.com/MicrosoftDocs/azure-docs/master/articles/cognitive-services/Computer-vision/Images/readsample.jpg\",),\r\n",
        "   (\"https://www.nist.gov/sites/default/files/images/2019/04/27/sd19.jpg\",),\r\n",
        "   (\"https://formrecognizer.appliedai.azure.com/documents/samples/layout/layout-checklist.jpg\",)\r\n",
        "], [\"source\",])\r\n",
        "\r\n",
        "analyzeDocument = (AnalyzeDocument()\r\n",
        "            # For supported prebuilt models, please go to documentation page for details\r\n",
        "            .setPrebuiltModelId(\"prebuilt-layout\")\r\n",
        "            .setSubscriptionKey(cognitive_service_form_key)\r\n",
        "            .setLocation(\"eastus\")\r\n",
        "            .setImageUrlCol(\"source\")\r\n",
        "            .setOutputCol(\"result\")\r\n",
        "            .setConcurrency(5))\r\n",
        "\r\n",
        "df_analyzeDocument=(analyzeDocument.transform(imageDf)\r\n",
        "        .withColumn(\"content\", f.col(\"result.analyzeResult.content\"))\r\n",
        "        .withColumn(\"cells\", f.flatten(f.col(\"result.analyzeResult.tables.cells\")))\r\n",
        "        .withColumn(\"cells\", f.col(\"cells.content\"))\r\n",
        "        .select(\"source\", \"result\", \"content\", \"cells\",\"*\"))\r\n",
        "\r\n",
        "df_analyzeDocument.cache()        \r\n",
        "display(df_analyzeDocument)"
      ],
      "outputs": [],
      "execution_count": null,
      "metadata": {
        "jupyter": {
          "source_hidden": false,
          "outputs_hidden": false
        },
        "nteract": {
          "transient": {
            "deleting": false
          }
        },
        "collapsed": false
      }
    },
    {
      "cell_type": "code",
      "source": [
        "#Analyse table\r\n",
        "\r\n",
        "display(df_analyzeDocument\r\n",
        "        .filter(\"source='https://formrecognizer.appliedai.azure.com/documents/samples/layout/layout-checklist.jpg'\")\r\n",
        "        .select(\"result.analyzeResult.*\")\r\n",
        "        .withColumn('tables',f.explode_outer(f.col(\"tables\")))        \r\n",
        "        .select(\"tables.*\")\r\n",
        "        .withColumn('cells',f.explode_outer(f.col(\"cells\")))\r\n",
        "        .select(\"rowCount\",\"columnCount\",\"cells.*\")\r\n",
        "        )"
      ],
      "outputs": [],
      "execution_count": null,
      "metadata": {
        "jupyter": {
          "source_hidden": false,
          "outputs_hidden": false
        },
        "nteract": {
          "transient": {
            "deleting": false
          }
        },
        "collapsed": false
      }
    },
    {
      "cell_type": "markdown",
      "source": [
        "## Analyse receipt"
      ],
      "metadata": {
        "nteract": {
          "transient": {
            "deleting": false
          }
        }
      }
    },
    {
      "cell_type": "code",
      "source": [
        "from synapse.ml.cognitive import *\r\n",
        "\r\n",
        "\r\n",
        "imageDf = spark.createDataFrame([\r\n",
        "  (\"https://mmlspark.blob.core.windows.net/datasets/FormRecognizer/receipt1.png\",),\r\n",
        "  (\"https://mmlspark.blob.core.windows.net/datasets/FormRecognizer/receipt1.png\",)\r\n",
        "], [\"image\",])\r\n",
        "\r\n",
        "analyzeReceipts = (AnalyzeReceipts()\r\n",
        "                  .setSubscriptionKey(cognitive_service_form_key)\r\n",
        "                  .setLocation(\"eastus\")\r\n",
        "                  .setImageUrlCol(\"image\")\r\n",
        "                  .setOutputCol(\"receipts\")\r\n",
        "                  .setConcurrency(5))\r\n",
        "\r\n",
        "display(analyzeReceipts.transform(imageDf))"
      ],
      "outputs": [],
      "execution_count": null,
      "metadata": {
        "jupyter": {
          "source_hidden": false,
          "outputs_hidden": false
        },
        "nteract": {
          "transient": {
            "deleting": false
          }
        },
        "collapsed": false
      }
    },
    {
      "cell_type": "markdown",
      "source": [
        "## Analyze ID document"
      ],
      "metadata": {
        "nteract": {
          "transient": {
            "deleting": false
          }
        }
      }
    },
    {
      "cell_type": "code",
      "source": [
        "from synapse.ml.cognitive import *\r\n",
        "\r\n",
        "imageDf = spark.createDataFrame([\r\n",
        "  (\"https://mmlspark.blob.core.windows.net/datasets/FormRecognizer/id1.jpg\",),  \r\n",
        "], [\"source\",])\r\n",
        "\r\n",
        "analyzeIDDocuments = (AnalyzeIDDocuments()\r\n",
        "                  .setSubscriptionKey(cognitive_service_form_key)\r\n",
        "                  .setLocation(\"eastus\")\r\n",
        "                  .setImageUrlCol(\"source\")\r\n",
        "                  .setOutputCol(\"ids\")\r\n",
        "                  .setConcurrency(5))\r\n",
        "\r\n",
        "display(analyzeIDDocuments\r\n",
        "        .transform(imageDf)\r\n",
        "        .withColumn(\"documents\", f.explode_outer(f.col(\"ids.analyzeResult.documentResults.fields\")))\r\n",
        "        .select(\"source\", \"documents\",\"*\"))"
      ],
      "outputs": [],
      "execution_count": null,
      "metadata": {
        "jupyter": {
          "source_hidden": false,
          "outputs_hidden": false
        },
        "nteract": {
          "transient": {
            "deleting": false
          }
        },
        "collapsed": false
      }
    }
  ],
  "metadata": {
    "kernelspec": {
      "name": "synapse_pyspark",
      "display_name": "Synapse PySpark"
    },
    "language_info": {
      "name": "python"
    },
    "description": null,
    "save_output": true,
    "synapse_widget": {
      "version": "0.1",
      "state": {}
    }
  },
  "nbformat": 4,
  "nbformat_minor": 2
}