{
  "nbformat": 4,
  "nbformat_minor": 2,
  "metadata": {
    "kernelspec": {
      "name": "synapse_pyspark",
      "display_name": "Synapse PySpark"
    },
    "language_info": {
      "name": "python"
    },
    "description": null,
    "save_output": true,
    "synapse_widget": {
      "version": "0.1",
      "state": {
        "43f4ee72-8346-4ce5-a923-29c966800352": {
          "type": "Synapse.DataFrame",
          "sync_state": {
            "table": {
              "rows": [
                {
                  "0": "Hello World",
                  "1": "English",
                  "2": "en",
                  "3": "0.98"
                },
                {
                  "0": "Bonjour tout le monde",
                  "1": "French",
                  "2": "fr",
                  "3": "0.88"
                },
                {
                  "0": "Bonjour tout le monde, my name is John",
                  "1": "French",
                  "2": "fr",
                  "3": "0.43"
                },
                {
                  "0": "La carretera estaba atascada. Había mucho tráfico el día de ayer.",
                  "1": "Spanish",
                  "2": "es",
                  "3": "1.0"
                },
                {
                  "0": "你好",
                  "1": "Chinese_Traditional",
                  "2": "zh_cht",
                  "3": "0.67"
                },
                {
                  "0": "こんにちは",
                  "1": "Japanese",
                  "2": "ja",
                  "3": "1.0"
                },
                {
                  "0": ":) :( :D",
                  "1": "(Unknown)",
                  "2": "(Unknown)",
                  "3": "0.0"
                }
              ],
              "schema": [
                {
                  "key": "0",
                  "name": "text",
                  "type": "string"
                },
                {
                  "key": "1",
                  "name": "name",
                  "type": "string"
                },
                {
                  "key": "2",
                  "name": "iso6391Name",
                  "type": "string"
                },
                {
                  "key": "3",
                  "name": "confidenceScore",
                  "type": "double"
                }
              ],
              "truncated": false
            },
            "isSummary": false,
            "language": "scala"
          },
          "persist_state": {
            "view": {
              "type": "details",
              "tableOptions": {},
              "chartOptions": {
                "chartType": "bar",
                "aggregationType": "sum",
                "categoryFieldKeys": [
                  "0"
                ],
                "seriesFieldKeys": [
                  "3"
                ],
                "isStacked": false
              }
            }
          }
        },
        "19d6d4b1-f093-4823-98d0-fa0ae5685065": {
          "type": "Synapse.DataFrame",
          "sync_state": {
            "table": {
              "rows": [
                {
                  "0": "Hello world. This is some input text that I love.",
                  "1": "en",
                  "2": "0",
                  "3": [
                    "Hello world",
                    "input text"
                  ],
                  "4": []
                },
                {
                  "0": "Bonjour tout le monde",
                  "1": "fr",
                  "2": "0",
                  "3": [
                    "monde"
                  ],
                  "4": []
                },
                {
                  "0": "La carretera estaba atascada. Había mucho tráfico el día de ayer.",
                  "1": "es",
                  "2": "0",
                  "3": [
                    "mucho tráfico",
                    "día",
                    "carretera",
                    "ayer"
                  ],
                  "4": []
                }
              ],
              "schema": [
                {
                  "key": "0",
                  "name": "text",
                  "type": "string"
                },
                {
                  "key": "1",
                  "name": "lang",
                  "type": "string"
                },
                {
                  "key": "2",
                  "name": "id",
                  "type": "string"
                },
                {
                  "key": "3",
                  "name": "keyPhrases",
                  "type": "ArrayType(StringType,true)"
                },
                {
                  "key": "4",
                  "name": "warnings",
                  "type": "ArrayType(StructType(StructField(code,StringType,true), StructField(message,StringType,true), StructField(targetRef,StringType,true)),true)"
                },
                {
                  "key": "5",
                  "name": "statistics",
                  "type": "StructType(StructField(charactersCount,IntegerType,false), StructField(transactionsCount,IntegerType,false))"
                }
              ],
              "truncated": false
            },
            "isSummary": false,
            "language": "scala"
          },
          "persist_state": {
            "view": {
              "type": "details",
              "tableOptions": {},
              "chartOptions": {
                "chartType": "bar",
                "aggregationType": "count",
                "categoryFieldKeys": [
                  "0"
                ],
                "seriesFieldKeys": [
                  "0"
                ],
                "isStacked": false
              }
            }
          }
        },
        "0a694d39-e486-49d1-bfce-82a060027992": {
          "type": "Synapse.DataFrame",
          "sync_state": {
            "table": {
              "rows": [
                {
                  "0": "I had a wonderful trip to Seattle last week.",
                  "1": "en",
                  "2": "trip",
                  "3": "Event",
                  "5": "18",
                  "6": "4",
                  "7": "0.74"
                },
                {
                  "0": "I had a wonderful trip to Seattle last week.",
                  "1": "en",
                  "2": "Seattle",
                  "3": "Location",
                  "4": "GPE",
                  "5": "26",
                  "6": "7",
                  "7": "1.0"
                },
                {
                  "0": "I had a wonderful trip to Seattle last week.",
                  "1": "en",
                  "2": "last week",
                  "3": "DateTime",
                  "4": "DateRange",
                  "5": "34",
                  "6": "9",
                  "7": "0.8"
                },
                {
                  "0": "I visited Space Needle 2 times.",
                  "1": "en",
                  "2": "Space Needle",
                  "3": "Location",
                  "5": "10",
                  "6": "12",
                  "7": "0.96"
                },
                {
                  "0": "I visited Space Needle 2 times.",
                  "1": "en",
                  "2": "2",
                  "3": "Quantity",
                  "4": "Number",
                  "5": "23",
                  "6": "1",
                  "7": "0.8"
                }
              ],
              "schema": [
                {
                  "key": "0",
                  "name": "text",
                  "type": "string"
                },
                {
                  "key": "1",
                  "name": "language",
                  "type": "string"
                },
                {
                  "key": "2",
                  "name": "text",
                  "type": "string"
                },
                {
                  "key": "3",
                  "name": "category",
                  "type": "string"
                },
                {
                  "key": "4",
                  "name": "subcategory",
                  "type": "string"
                },
                {
                  "key": "5",
                  "name": "offset",
                  "type": "int"
                },
                {
                  "key": "6",
                  "name": "length",
                  "type": "int"
                },
                {
                  "key": "7",
                  "name": "confidenceScore",
                  "type": "double"
                }
              ],
              "truncated": false
            },
            "isSummary": false,
            "language": "scala"
          },
          "persist_state": {
            "view": {
              "type": "details",
              "tableOptions": {},
              "chartOptions": {
                "chartType": "bar",
                "aggregationType": "sum",
                "categoryFieldKeys": [
                  "0"
                ],
                "seriesFieldKeys": [
                  "5"
                ],
                "isStacked": false
              }
            }
          }
        },
        "b90acc22-1573-47c0-afdc-7ab8cf1a3270": {
          "type": "Synapse.DataFrame",
          "sync_state": {
            "table": {
              "rows": [
                {
                  "0": "Microsoft released Windows 10",
                  "1": "Microsoft",
                  "2": "en",
                  "3": [
                    {
                      "confidenceScore": 0.13,
                      "text": "Microsoft",
                      "offset": 0,
                      "length": 9
                    }
                  ],
                  "4": "Microsoft",
                  "5": "https://en.wikipedia.org/wiki/Microsoft"
                },
                {
                  "0": "Microsoft released Windows 10",
                  "1": "Windows 10",
                  "2": "en",
                  "3": [
                    {
                      "confidenceScore": 0.12,
                      "text": "Windows 10",
                      "offset": 19,
                      "length": 10
                    }
                  ],
                  "4": "Windows 10",
                  "5": "https://en.wikipedia.org/wiki/Windows_10"
                },
                {
                  "0": "In 1975, Bill Gates III and Paul Allen founded the company.",
                  "1": "Bill Gates",
                  "2": "en",
                  "3": [
                    {
                      "confidenceScore": 0.87,
                      "text": "Bill Gates III",
                      "offset": 9,
                      "length": 14
                    }
                  ],
                  "4": "Bill Gates",
                  "5": "https://en.wikipedia.org/wiki/Bill_Gates"
                },
                {
                  "0": "In 1975, Bill Gates III and Paul Allen founded the company.",
                  "1": "Paul Allen",
                  "2": "en",
                  "3": [
                    {
                      "confidenceScore": 0.4,
                      "text": "Paul Allen",
                      "offset": 28,
                      "length": 10
                    }
                  ],
                  "4": "Paul Allen",
                  "5": "https://en.wikipedia.org/wiki/Paul_Allen"
                }
              ],
              "schema": [
                {
                  "key": "0",
                  "name": "text",
                  "type": "string"
                },
                {
                  "key": "1",
                  "name": "name",
                  "type": "string"
                },
                {
                  "key": "2",
                  "name": "language",
                  "type": "string"
                },
                {
                  "key": "3",
                  "name": "matches",
                  "type": "ArrayType(StructType(StructField(confidenceScore,DoubleType,false), StructField(text,StringType,true), StructField(offset,IntegerType,false), StructField(length,IntegerType,false)),true)"
                },
                {
                  "key": "4",
                  "name": "id",
                  "type": "string"
                },
                {
                  "key": "5",
                  "name": "url",
                  "type": "string"
                }
              ],
              "truncated": false
            },
            "isSummary": false,
            "language": "scala"
          },
          "persist_state": {
            "view": {
              "type": "details",
              "tableOptions": {},
              "chartOptions": {
                "chartType": "bar",
                "aggregationType": "count",
                "categoryFieldKeys": [
                  "0"
                ],
                "seriesFieldKeys": [
                  "0"
                ],
                "isStacked": false
              }
            }
          }
        },
        "8ac46ce2-a861-45ce-9088-624431a071a4": {
          "type": "Synapse.DataFrame",
          "sync_state": {
            "table": {
              "rows": [
                {
                  "0": "My SSN is 859-98-0987",
                  "1": "My SSN is ***********",
                  "2": "en",
                  "3": [
                    {
                      "confidenceScore": 0.65,
                      "text": "859-98-0987",
                      "offset": 10,
                      "category": "USSocialSecurityNumber",
                      "length": 11
                    }
                  ]
                },
                {
                  "0": "Your ABA number - 111000025 - is the first 9 digits in the lower left hand corner of your personal check.",
                  "1": "Your ABA number - ********* - is the first 9 digits in the lower left hand corner of your personal check.",
                  "2": "en",
                  "3": [
                    {
                      "confidenceScore": 0.8,
                      "text": "111000025",
                      "offset": 18,
                      "category": "PhoneNumber",
                      "length": 9
                    },
                    {
                      "confidenceScore": 0.75,
                      "text": "111000025",
                      "offset": 18,
                      "category": "ABARoutingNumber",
                      "length": 9
                    },
                    {
                      "confidenceScore": 0.65,
                      "text": "111000025",
                      "offset": 18,
                      "category": "NZSocialWelfareNumber",
                      "length": 9
                    }
                  ]
                },
                {
                  "0": "Is 998.214.865-68 your Brazilian CPF number?",
                  "1": "Is 998.214.865-68 your Brazilian CPF number?",
                  "2": "en",
                  "3": []
                }
              ],
              "schema": [
                {
                  "key": "0",
                  "name": "text",
                  "type": "string"
                },
                {
                  "key": "1",
                  "name": "redactedText",
                  "type": "string"
                },
                {
                  "key": "2",
                  "name": "language",
                  "type": "string"
                },
                {
                  "key": "3",
                  "name": "entities",
                  "type": "ArrayType(StructType(StructField(text,StringType,true), StructField(category,StringType,true), StructField(subcategory,StringType,true), StructField(offset,IntegerType,false), StructField(length,IntegerType,false), StructField(confidenceScore,DoubleType,false)),true)"
                }
              ],
              "truncated": false
            },
            "isSummary": false,
            "language": "scala"
          },
          "persist_state": {
            "view": {
              "type": "details",
              "tableOptions": {},
              "chartOptions": {
                "chartType": "bar",
                "aggregationType": "count",
                "categoryFieldKeys": [
                  "0"
                ],
                "seriesFieldKeys": [
                  "0"
                ],
                "isStacked": false
              }
            }
          }
        },
        "cf3c2adc-bbe7-4f0b-95f4-193d790d0d80": {
          "type": "Synapse.DataFrame",
          "sync_state": {
            "table": {
              "rows": [
                {
                  "0": "I am so happy today, its sunny!",
                  "1": "en-US"
                },
                {
                  "0": "this is a dog",
                  "1": "en-US"
                },
                {
                  "0": "I am frustrated by this rush hour traffic!",
                  "1": "en-US"
                }
              ],
              "schema": [
                {
                  "key": "0",
                  "name": "text",
                  "type": "string"
                },
                {
                  "key": "1",
                  "name": "language",
                  "type": "string"
                },
                {
                  "key": "2",
                  "name": "sentiment",
                  "type": "string"
                },
                {
                  "key": "3",
                  "name": "positive",
                  "type": "double"
                },
                {
                  "key": "4",
                  "name": "neutral",
                  "type": "double"
                },
                {
                  "key": "5",
                  "name": "negative",
                  "type": "double"
                }
              ],
              "truncated": false
            },
            "isSummary": false,
            "language": "scala"
          },
          "persist_state": {
            "view": {
              "type": "details",
              "tableOptions": {},
              "chartOptions": {
                "chartType": "bar",
                "aggregationType": "sum",
                "categoryFieldKeys": [
                  "0"
                ],
                "seriesFieldKeys": [
                  "3"
                ],
                "isStacked": false
              }
            }
          }
        },
        "0d0dbbfd-fc17-4063-a973-f81be63cd088": {
          "type": "Synapse.DataFrame",
          "sync_state": {
            "table": {
              "rows": [
                {
                  "0": "happy",
                  "1": "en-US",
                  "2": [
                    "feliz",
                    "contento",
                    "alegre",
                    "encantado",
                    "satisfecho",
                    "dispuestos",
                    "gusto"
                  ]
                },
                {
                  "0": "unfriendly",
                  "1": "en-US",
                  "2": [
                    "antipático",
                    "hostil",
                    "desagradable",
                    "dañinos"
                  ]
                },
                {
                  "0": "unpredictable",
                  "1": "en",
                  "2": [
                    "impredecible"
                  ]
                }
              ],
              "schema": [
                {
                  "key": "0",
                  "name": "text",
                  "type": "string"
                },
                {
                  "key": "1",
                  "name": "language",
                  "type": "string"
                },
                {
                  "key": "2",
                  "name": "normalizedTarget",
                  "type": "ArrayType(StringType,true)"
                }
              ],
              "truncated": false
            },
            "isSummary": false,
            "language": "scala"
          },
          "persist_state": {
            "view": {
              "type": "details",
              "tableOptions": {},
              "chartOptions": {
                "chartType": "bar",
                "aggregationType": "count",
                "categoryFieldKeys": [
                  "0"
                ],
                "seriesFieldKeys": [
                  "0"
                ],
                "isStacked": false
              }
            }
          }
        },
        "ad6bbe3e-9335-4635-825c-2fa8b8f88501": {
          "type": "Synapse.DataFrame",
          "sync_state": {
            "table": {
              "rows": [
                {
                  "0": "fly",
                  "1": "volar",
                  "2": [
                    {
                      "normalizedSource": "fly",
                      "normalizedTarget": "volar",
                      "examples": [
                        {
                          "sourcePrefix": "I mean, for a guy who could ",
                          "sourceSuffix": ".",
                          "targetPrefix": "Quiero decir, para un tipo que podía ",
                          "targetTerm": "volar",
                          "sourceTerm": "fly",
                          "targetSuffix": "."
                        },
                        {
                          "sourcePrefix": "Now it's time to make you ",
                          "sourceSuffix": ".",
                          "targetPrefix": "Ahora es hora de que te haga ",
                          "targetTerm": "volar",
                          "sourceTerm": "fly",
                          "targetSuffix": "."
                        },
                        {
                          "sourcePrefix": "One happy thought will make you ",
                          "sourceSuffix": ".",
                          "targetPrefix": "Uno solo te hará ",
                          "targetTerm": "volar",
                          "sourceTerm": "fly",
                          "targetSuffix": "."
                        },
                        {
                          "sourcePrefix": "They need machines to ",
                          "sourceSuffix": ".",
                          "targetPrefix": "Necesitan máquinas para ",
                          "targetTerm": "volar",
                          "sourceTerm": "fly",
                          "targetSuffix": "."
                        },
                        {
                          "sourcePrefix": "That should really ",
                          "sourceSuffix": ".",
                          "targetPrefix": "Eso realmente debe ",
                          "targetTerm": "volar",
                          "sourceTerm": "fly",
                          "targetSuffix": "."
                        },
                        {
                          "sourcePrefix": "It sure takes longer when you can't ",
                          "sourceSuffix": ".",
                          "targetPrefix": "Lleva más tiempo cuando no puedes ",
                          "targetTerm": "volar",
                          "sourceTerm": "fly",
                          "targetSuffix": "."
                        },
                        {
                          "sourcePrefix": "I have to ",
                          "sourceSuffix": " home in the morning.",
                          "targetPrefix": "Tengo que ",
                          "targetTerm": "volar",
                          "sourceTerm": "fly",
                          "targetSuffix": " a casa por la mañana."
                        },
                        {
                          "sourcePrefix": "You taught me to ",
                          "sourceSuffix": ".",
                          "targetPrefix": "Me enseñaste a ",
                          "targetTerm": "volar",
                          "sourceTerm": "fly",
                          "targetSuffix": "."
                        },
                        {
                          "sourcePrefix": "I think you should ",
                          "sourceSuffix": " with the window closed.",
                          "targetPrefix": "Creo que debemos ",
                          "targetTerm": "volar",
                          "sourceTerm": "fly",
                          "targetSuffix": " con la ventana cerrada."
                        },
                        {
                          "sourcePrefix": "They look like they could ",
                          "sourceSuffix": ".",
                          "targetPrefix": "Parece que pudieran ",
                          "targetTerm": "volar",
                          "sourceTerm": "fly",
                          "targetSuffix": "."
                        },
                        {
                          "sourcePrefix": "But you can ",
                          "sourceSuffix": ", for instance?",
                          "targetPrefix": "Que puedes ",
                          "targetTerm": "volar",
                          "sourceTerm": "fly",
                          "targetSuffix": ", por ejemplo."
                        },
                        {
                          "sourcePrefix": "At least until her kids can be able to ",
                          "sourceSuffix": ".",
                          "targetPrefix": "Al menos hasta que sus hijos sean capaces de ",
                          "targetTerm": "volar",
                          "sourceTerm": "fly",
                          "targetSuffix": "."
                        },
                        {
                          "sourcePrefix": "I thought you could ",
                          "sourceSuffix": ".",
                          "targetPrefix": "Pensé que podías ",
                          "targetTerm": "volar",
                          "sourceTerm": "fly",
                          "targetSuffix": "."
                        },
                        {
                          "sourcePrefix": "I was wondering what it would be like to ",
                          "sourceSuffix": ".",
                          "targetPrefix": "Me preguntaba cómo sería ",
                          "targetTerm": "volar",
                          "sourceTerm": "fly",
                          "targetSuffix": "."
                        },
                        {
                          "sourcePrefix": "But nobody else can ",
                          "sourceSuffix": ".",
                          "targetPrefix": "Pero nadie puede ",
                          "targetTerm": "volar",
                          "sourceTerm": "fly",
                          "targetSuffix": "."
                        }
                      ]
                    }
                  ],
                  "3": "I mean, for a guy who could ",
                  "4": "fly",
                  "5": ".",
                  "6": "Quiero decir, para un tipo que podía ",
                  "7": "volar",
                  "8": "."
                },
                {
                  "0": "fly",
                  "1": "volar",
                  "2": [
                    {
                      "normalizedSource": "fly",
                      "normalizedTarget": "volar",
                      "examples": [
                        {
                          "sourcePrefix": "I mean, for a guy who could ",
                          "sourceSuffix": ".",
                          "targetPrefix": "Quiero decir, para un tipo que podía ",
                          "targetTerm": "volar",
                          "sourceTerm": "fly",
                          "targetSuffix": "."
                        },
                        {
                          "sourcePrefix": "Now it's time to make you ",
                          "sourceSuffix": ".",
                          "targetPrefix": "Ahora es hora de que te haga ",
                          "targetTerm": "volar",
                          "sourceTerm": "fly",
                          "targetSuffix": "."
                        },
                        {
                          "sourcePrefix": "One happy thought will make you ",
                          "sourceSuffix": ".",
                          "targetPrefix": "Uno solo te hará ",
                          "targetTerm": "volar",
                          "sourceTerm": "fly",
                          "targetSuffix": "."
                        },
                        {
                          "sourcePrefix": "They need machines to ",
                          "sourceSuffix": ".",
                          "targetPrefix": "Necesitan máquinas para ",
                          "targetTerm": "volar",
                          "sourceTerm": "fly",
                          "targetSuffix": "."
                        },
                        {
                          "sourcePrefix": "That should really ",
                          "sourceSuffix": ".",
                          "targetPrefix": "Eso realmente debe ",
                          "targetTerm": "volar",
                          "sourceTerm": "fly",
                          "targetSuffix": "."
                        },
                        {
                          "sourcePrefix": "It sure takes longer when you can't ",
                          "sourceSuffix": ".",
                          "targetPrefix": "Lleva más tiempo cuando no puedes ",
                          "targetTerm": "volar",
                          "sourceTerm": "fly",
                          "targetSuffix": "."
                        },
                        {
                          "sourcePrefix": "I have to ",
                          "sourceSuffix": " home in the morning.",
                          "targetPrefix": "Tengo que ",
                          "targetTerm": "volar",
                          "sourceTerm": "fly",
                          "targetSuffix": " a casa por la mañana."
                        },
                        {
                          "sourcePrefix": "You taught me to ",
                          "sourceSuffix": ".",
                          "targetPrefix": "Me enseñaste a ",
                          "targetTerm": "volar",
                          "sourceTerm": "fly",
                          "targetSuffix": "."
                        },
                        {
                          "sourcePrefix": "I think you should ",
                          "sourceSuffix": " with the window closed.",
                          "targetPrefix": "Creo que debemos ",
                          "targetTerm": "volar",
                          "sourceTerm": "fly",
                          "targetSuffix": " con la ventana cerrada."
                        },
                        {
                          "sourcePrefix": "They look like they could ",
                          "sourceSuffix": ".",
                          "targetPrefix": "Parece que pudieran ",
                          "targetTerm": "volar",
                          "sourceTerm": "fly",
                          "targetSuffix": "."
                        },
                        {
                          "sourcePrefix": "But you can ",
                          "sourceSuffix": ", for instance?",
                          "targetPrefix": "Que puedes ",
                          "targetTerm": "volar",
                          "sourceTerm": "fly",
                          "targetSuffix": ", por ejemplo."
                        },
                        {
                          "sourcePrefix": "At least until her kids can be able to ",
                          "sourceSuffix": ".",
                          "targetPrefix": "Al menos hasta que sus hijos sean capaces de ",
                          "targetTerm": "volar",
                          "sourceTerm": "fly",
                          "targetSuffix": "."
                        },
                        {
                          "sourcePrefix": "I thought you could ",
                          "sourceSuffix": ".",
                          "targetPrefix": "Pensé que podías ",
                          "targetTerm": "volar",
                          "sourceTerm": "fly",
                          "targetSuffix": "."
                        },
                        {
                          "sourcePrefix": "I was wondering what it would be like to ",
                          "sourceSuffix": ".",
                          "targetPrefix": "Me preguntaba cómo sería ",
                          "targetTerm": "volar",
                          "sourceTerm": "fly",
                          "targetSuffix": "."
                        },
                        {
                          "sourcePrefix": "But nobody else can ",
                          "sourceSuffix": ".",
                          "targetPrefix": "Pero nadie puede ",
                          "targetTerm": "volar",
                          "sourceTerm": "fly",
                          "targetSuffix": "."
                        }
                      ]
                    }
                  ],
                  "3": "Now it's time to make you ",
                  "4": "fly",
                  "5": ".",
                  "6": "Ahora es hora de que te haga ",
                  "7": "volar",
                  "8": "."
                },
                {
                  "0": "fly",
                  "1": "volar",
                  "2": [
                    {
                      "normalizedSource": "fly",
                      "normalizedTarget": "volar",
                      "examples": [
                        {
                          "sourcePrefix": "I mean, for a guy who could ",
                          "sourceSuffix": ".",
                          "targetPrefix": "Quiero decir, para un tipo que podía ",
                          "targetTerm": "volar",
                          "sourceTerm": "fly",
                          "targetSuffix": "."
                        },
                        {
                          "sourcePrefix": "Now it's time to make you ",
                          "sourceSuffix": ".",
                          "targetPrefix": "Ahora es hora de que te haga ",
                          "targetTerm": "volar",
                          "sourceTerm": "fly",
                          "targetSuffix": "."
                        },
                        {
                          "sourcePrefix": "One happy thought will make you ",
                          "sourceSuffix": ".",
                          "targetPrefix": "Uno solo te hará ",
                          "targetTerm": "volar",
                          "sourceTerm": "fly",
                          "targetSuffix": "."
                        },
                        {
                          "sourcePrefix": "They need machines to ",
                          "sourceSuffix": ".",
                          "targetPrefix": "Necesitan máquinas para ",
                          "targetTerm": "volar",
                          "sourceTerm": "fly",
                          "targetSuffix": "."
                        },
                        {
                          "sourcePrefix": "That should really ",
                          "sourceSuffix": ".",
                          "targetPrefix": "Eso realmente debe ",
                          "targetTerm": "volar",
                          "sourceTerm": "fly",
                          "targetSuffix": "."
                        },
                        {
                          "sourcePrefix": "It sure takes longer when you can't ",
                          "sourceSuffix": ".",
                          "targetPrefix": "Lleva más tiempo cuando no puedes ",
                          "targetTerm": "volar",
                          "sourceTerm": "fly",
                          "targetSuffix": "."
                        },
                        {
                          "sourcePrefix": "I have to ",
                          "sourceSuffix": " home in the morning.",
                          "targetPrefix": "Tengo que ",
                          "targetTerm": "volar",
                          "sourceTerm": "fly",
                          "targetSuffix": " a casa por la mañana."
                        },
                        {
                          "sourcePrefix": "You taught me to ",
                          "sourceSuffix": ".",
                          "targetPrefix": "Me enseñaste a ",
                          "targetTerm": "volar",
                          "sourceTerm": "fly",
                          "targetSuffix": "."
                        },
                        {
                          "sourcePrefix": "I think you should ",
                          "sourceSuffix": " with the window closed.",
                          "targetPrefix": "Creo que debemos ",
                          "targetTerm": "volar",
                          "sourceTerm": "fly",
                          "targetSuffix": " con la ventana cerrada."
                        },
                        {
                          "sourcePrefix": "They look like they could ",
                          "sourceSuffix": ".",
                          "targetPrefix": "Parece que pudieran ",
                          "targetTerm": "volar",
                          "sourceTerm": "fly",
                          "targetSuffix": "."
                        },
                        {
                          "sourcePrefix": "But you can ",
                          "sourceSuffix": ", for instance?",
                          "targetPrefix": "Que puedes ",
                          "targetTerm": "volar",
                          "sourceTerm": "fly",
                          "targetSuffix": ", por ejemplo."
                        },
                        {
                          "sourcePrefix": "At least until her kids can be able to ",
                          "sourceSuffix": ".",
                          "targetPrefix": "Al menos hasta que sus hijos sean capaces de ",
                          "targetTerm": "volar",
                          "sourceTerm": "fly",
                          "targetSuffix": "."
                        },
                        {
                          "sourcePrefix": "I thought you could ",
                          "sourceSuffix": ".",
                          "targetPrefix": "Pensé que podías ",
                          "targetTerm": "volar",
                          "sourceTerm": "fly",
                          "targetSuffix": "."
                        },
                        {
                          "sourcePrefix": "I was wondering what it would be like to ",
                          "sourceSuffix": ".",
                          "targetPrefix": "Me preguntaba cómo sería ",
                          "targetTerm": "volar",
                          "sourceTerm": "fly",
                          "targetSuffix": "."
                        },
                        {
                          "sourcePrefix": "But nobody else can ",
                          "sourceSuffix": ".",
                          "targetPrefix": "Pero nadie puede ",
                          "targetTerm": "volar",
                          "sourceTerm": "fly",
                          "targetSuffix": "."
                        }
                      ]
                    }
                  ],
                  "3": "One happy thought will make you ",
                  "4": "fly",
                  "5": ".",
                  "6": "Uno solo te hará ",
                  "7": "volar",
                  "8": "."
                },
                {
                  "0": "fly",
                  "1": "volar",
                  "2": [
                    {
                      "normalizedSource": "fly",
                      "normalizedTarget": "volar",
                      "examples": [
                        {
                          "sourcePrefix": "I mean, for a guy who could ",
                          "sourceSuffix": ".",
                          "targetPrefix": "Quiero decir, para un tipo que podía ",
                          "targetTerm": "volar",
                          "sourceTerm": "fly",
                          "targetSuffix": "."
                        },
                        {
                          "sourcePrefix": "Now it's time to make you ",
                          "sourceSuffix": ".",
                          "targetPrefix": "Ahora es hora de que te haga ",
                          "targetTerm": "volar",
                          "sourceTerm": "fly",
                          "targetSuffix": "."
                        },
                        {
                          "sourcePrefix": "One happy thought will make you ",
                          "sourceSuffix": ".",
                          "targetPrefix": "Uno solo te hará ",
                          "targetTerm": "volar",
                          "sourceTerm": "fly",
                          "targetSuffix": "."
                        },
                        {
                          "sourcePrefix": "They need machines to ",
                          "sourceSuffix": ".",
                          "targetPrefix": "Necesitan máquinas para ",
                          "targetTerm": "volar",
                          "sourceTerm": "fly",
                          "targetSuffix": "."
                        },
                        {
                          "sourcePrefix": "That should really ",
                          "sourceSuffix": ".",
                          "targetPrefix": "Eso realmente debe ",
                          "targetTerm": "volar",
                          "sourceTerm": "fly",
                          "targetSuffix": "."
                        },
                        {
                          "sourcePrefix": "It sure takes longer when you can't ",
                          "sourceSuffix": ".",
                          "targetPrefix": "Lleva más tiempo cuando no puedes ",
                          "targetTerm": "volar",
                          "sourceTerm": "fly",
                          "targetSuffix": "."
                        },
                        {
                          "sourcePrefix": "I have to ",
                          "sourceSuffix": " home in the morning.",
                          "targetPrefix": "Tengo que ",
                          "targetTerm": "volar",
                          "sourceTerm": "fly",
                          "targetSuffix": " a casa por la mañana."
                        },
                        {
                          "sourcePrefix": "You taught me to ",
                          "sourceSuffix": ".",
                          "targetPrefix": "Me enseñaste a ",
                          "targetTerm": "volar",
                          "sourceTerm": "fly",
                          "targetSuffix": "."
                        },
                        {
                          "sourcePrefix": "I think you should ",
                          "sourceSuffix": " with the window closed.",
                          "targetPrefix": "Creo que debemos ",
                          "targetTerm": "volar",
                          "sourceTerm": "fly",
                          "targetSuffix": " con la ventana cerrada."
                        },
                        {
                          "sourcePrefix": "They look like they could ",
                          "sourceSuffix": ".",
                          "targetPrefix": "Parece que pudieran ",
                          "targetTerm": "volar",
                          "sourceTerm": "fly",
                          "targetSuffix": "."
                        },
                        {
                          "sourcePrefix": "But you can ",
                          "sourceSuffix": ", for instance?",
                          "targetPrefix": "Que puedes ",
                          "targetTerm": "volar",
                          "sourceTerm": "fly",
                          "targetSuffix": ", por ejemplo."
                        },
                        {
                          "sourcePrefix": "At least until her kids can be able to ",
                          "sourceSuffix": ".",
                          "targetPrefix": "Al menos hasta que sus hijos sean capaces de ",
                          "targetTerm": "volar",
                          "sourceTerm": "fly",
                          "targetSuffix": "."
                        },
                        {
                          "sourcePrefix": "I thought you could ",
                          "sourceSuffix": ".",
                          "targetPrefix": "Pensé que podías ",
                          "targetTerm": "volar",
                          "sourceTerm": "fly",
                          "targetSuffix": "."
                        },
                        {
                          "sourcePrefix": "I was wondering what it would be like to ",
                          "sourceSuffix": ".",
                          "targetPrefix": "Me preguntaba cómo sería ",
                          "targetTerm": "volar",
                          "sourceTerm": "fly",
                          "targetSuffix": "."
                        },
                        {
                          "sourcePrefix": "But nobody else can ",
                          "sourceSuffix": ".",
                          "targetPrefix": "Pero nadie puede ",
                          "targetTerm": "volar",
                          "sourceTerm": "fly",
                          "targetSuffix": "."
                        }
                      ]
                    }
                  ],
                  "3": "They need machines to ",
                  "4": "fly",
                  "5": ".",
                  "6": "Necesitan máquinas para ",
                  "7": "volar",
                  "8": "."
                },
                {
                  "0": "fly",
                  "1": "volar",
                  "2": [
                    {
                      "normalizedSource": "fly",
                      "normalizedTarget": "volar",
                      "examples": [
                        {
                          "sourcePrefix": "I mean, for a guy who could ",
                          "sourceSuffix": ".",
                          "targetPrefix": "Quiero decir, para un tipo que podía ",
                          "targetTerm": "volar",
                          "sourceTerm": "fly",
                          "targetSuffix": "."
                        },
                        {
                          "sourcePrefix": "Now it's time to make you ",
                          "sourceSuffix": ".",
                          "targetPrefix": "Ahora es hora de que te haga ",
                          "targetTerm": "volar",
                          "sourceTerm": "fly",
                          "targetSuffix": "."
                        },
                        {
                          "sourcePrefix": "One happy thought will make you ",
                          "sourceSuffix": ".",
                          "targetPrefix": "Uno solo te hará ",
                          "targetTerm": "volar",
                          "sourceTerm": "fly",
                          "targetSuffix": "."
                        },
                        {
                          "sourcePrefix": "They need machines to ",
                          "sourceSuffix": ".",
                          "targetPrefix": "Necesitan máquinas para ",
                          "targetTerm": "volar",
                          "sourceTerm": "fly",
                          "targetSuffix": "."
                        },
                        {
                          "sourcePrefix": "That should really ",
                          "sourceSuffix": ".",
                          "targetPrefix": "Eso realmente debe ",
                          "targetTerm": "volar",
                          "sourceTerm": "fly",
                          "targetSuffix": "."
                        },
                        {
                          "sourcePrefix": "It sure takes longer when you can't ",
                          "sourceSuffix": ".",
                          "targetPrefix": "Lleva más tiempo cuando no puedes ",
                          "targetTerm": "volar",
                          "sourceTerm": "fly",
                          "targetSuffix": "."
                        },
                        {
                          "sourcePrefix": "I have to ",
                          "sourceSuffix": " home in the morning.",
                          "targetPrefix": "Tengo que ",
                          "targetTerm": "volar",
                          "sourceTerm": "fly",
                          "targetSuffix": " a casa por la mañana."
                        },
                        {
                          "sourcePrefix": "You taught me to ",
                          "sourceSuffix": ".",
                          "targetPrefix": "Me enseñaste a ",
                          "targetTerm": "volar",
                          "sourceTerm": "fly",
                          "targetSuffix": "."
                        },
                        {
                          "sourcePrefix": "I think you should ",
                          "sourceSuffix": " with the window closed.",
                          "targetPrefix": "Creo que debemos ",
                          "targetTerm": "volar",
                          "sourceTerm": "fly",
                          "targetSuffix": " con la ventana cerrada."
                        },
                        {
                          "sourcePrefix": "They look like they could ",
                          "sourceSuffix": ".",
                          "targetPrefix": "Parece que pudieran ",
                          "targetTerm": "volar",
                          "sourceTerm": "fly",
                          "targetSuffix": "."
                        },
                        {
                          "sourcePrefix": "But you can ",
                          "sourceSuffix": ", for instance?",
                          "targetPrefix": "Que puedes ",
                          "targetTerm": "volar",
                          "sourceTerm": "fly",
                          "targetSuffix": ", por ejemplo."
                        },
                        {
                          "sourcePrefix": "At least until her kids can be able to ",
                          "sourceSuffix": ".",
                          "targetPrefix": "Al menos hasta que sus hijos sean capaces de ",
                          "targetTerm": "volar",
                          "sourceTerm": "fly",
                          "targetSuffix": "."
                        },
                        {
                          "sourcePrefix": "I thought you could ",
                          "sourceSuffix": ".",
                          "targetPrefix": "Pensé que podías ",
                          "targetTerm": "volar",
                          "sourceTerm": "fly",
                          "targetSuffix": "."
                        },
                        {
                          "sourcePrefix": "I was wondering what it would be like to ",
                          "sourceSuffix": ".",
                          "targetPrefix": "Me preguntaba cómo sería ",
                          "targetTerm": "volar",
                          "sourceTerm": "fly",
                          "targetSuffix": "."
                        },
                        {
                          "sourcePrefix": "But nobody else can ",
                          "sourceSuffix": ".",
                          "targetPrefix": "Pero nadie puede ",
                          "targetTerm": "volar",
                          "sourceTerm": "fly",
                          "targetSuffix": "."
                        }
                      ]
                    }
                  ],
                  "3": "That should really ",
                  "4": "fly",
                  "5": ".",
                  "6": "Eso realmente debe ",
                  "7": "volar",
                  "8": "."
                },
                {
                  "0": "fly",
                  "1": "volar",
                  "2": [
                    {
                      "normalizedSource": "fly",
                      "normalizedTarget": "volar",
                      "examples": [
                        {
                          "sourcePrefix": "I mean, for a guy who could ",
                          "sourceSuffix": ".",
                          "targetPrefix": "Quiero decir, para un tipo que podía ",
                          "targetTerm": "volar",
                          "sourceTerm": "fly",
                          "targetSuffix": "."
                        },
                        {
                          "sourcePrefix": "Now it's time to make you ",
                          "sourceSuffix": ".",
                          "targetPrefix": "Ahora es hora de que te haga ",
                          "targetTerm": "volar",
                          "sourceTerm": "fly",
                          "targetSuffix": "."
                        },
                        {
                          "sourcePrefix": "One happy thought will make you ",
                          "sourceSuffix": ".",
                          "targetPrefix": "Uno solo te hará ",
                          "targetTerm": "volar",
                          "sourceTerm": "fly",
                          "targetSuffix": "."
                        },
                        {
                          "sourcePrefix": "They need machines to ",
                          "sourceSuffix": ".",
                          "targetPrefix": "Necesitan máquinas para ",
                          "targetTerm": "volar",
                          "sourceTerm": "fly",
                          "targetSuffix": "."
                        },
                        {
                          "sourcePrefix": "That should really ",
                          "sourceSuffix": ".",
                          "targetPrefix": "Eso realmente debe ",
                          "targetTerm": "volar",
                          "sourceTerm": "fly",
                          "targetSuffix": "."
                        },
                        {
                          "sourcePrefix": "It sure takes longer when you can't ",
                          "sourceSuffix": ".",
                          "targetPrefix": "Lleva más tiempo cuando no puedes ",
                          "targetTerm": "volar",
                          "sourceTerm": "fly",
                          "targetSuffix": "."
                        },
                        {
                          "sourcePrefix": "I have to ",
                          "sourceSuffix": " home in the morning.",
                          "targetPrefix": "Tengo que ",
                          "targetTerm": "volar",
                          "sourceTerm": "fly",
                          "targetSuffix": " a casa por la mañana."
                        },
                        {
                          "sourcePrefix": "You taught me to ",
                          "sourceSuffix": ".",
                          "targetPrefix": "Me enseñaste a ",
                          "targetTerm": "volar",
                          "sourceTerm": "fly",
                          "targetSuffix": "."
                        },
                        {
                          "sourcePrefix": "I think you should ",
                          "sourceSuffix": " with the window closed.",
                          "targetPrefix": "Creo que debemos ",
                          "targetTerm": "volar",
                          "sourceTerm": "fly",
                          "targetSuffix": " con la ventana cerrada."
                        },
                        {
                          "sourcePrefix": "They look like they could ",
                          "sourceSuffix": ".",
                          "targetPrefix": "Parece que pudieran ",
                          "targetTerm": "volar",
                          "sourceTerm": "fly",
                          "targetSuffix": "."
                        },
                        {
                          "sourcePrefix": "But you can ",
                          "sourceSuffix": ", for instance?",
                          "targetPrefix": "Que puedes ",
                          "targetTerm": "volar",
                          "sourceTerm": "fly",
                          "targetSuffix": ", por ejemplo."
                        },
                        {
                          "sourcePrefix": "At least until her kids can be able to ",
                          "sourceSuffix": ".",
                          "targetPrefix": "Al menos hasta que sus hijos sean capaces de ",
                          "targetTerm": "volar",
                          "sourceTerm": "fly",
                          "targetSuffix": "."
                        },
                        {
                          "sourcePrefix": "I thought you could ",
                          "sourceSuffix": ".",
                          "targetPrefix": "Pensé que podías ",
                          "targetTerm": "volar",
                          "sourceTerm": "fly",
                          "targetSuffix": "."
                        },
                        {
                          "sourcePrefix": "I was wondering what it would be like to ",
                          "sourceSuffix": ".",
                          "targetPrefix": "Me preguntaba cómo sería ",
                          "targetTerm": "volar",
                          "sourceTerm": "fly",
                          "targetSuffix": "."
                        },
                        {
                          "sourcePrefix": "But nobody else can ",
                          "sourceSuffix": ".",
                          "targetPrefix": "Pero nadie puede ",
                          "targetTerm": "volar",
                          "sourceTerm": "fly",
                          "targetSuffix": "."
                        }
                      ]
                    }
                  ],
                  "3": "It sure takes longer when you can't ",
                  "4": "fly",
                  "5": ".",
                  "6": "Lleva más tiempo cuando no puedes ",
                  "7": "volar",
                  "8": "."
                },
                {
                  "0": "fly",
                  "1": "volar",
                  "2": [
                    {
                      "normalizedSource": "fly",
                      "normalizedTarget": "volar",
                      "examples": [
                        {
                          "sourcePrefix": "I mean, for a guy who could ",
                          "sourceSuffix": ".",
                          "targetPrefix": "Quiero decir, para un tipo que podía ",
                          "targetTerm": "volar",
                          "sourceTerm": "fly",
                          "targetSuffix": "."
                        },
                        {
                          "sourcePrefix": "Now it's time to make you ",
                          "sourceSuffix": ".",
                          "targetPrefix": "Ahora es hora de que te haga ",
                          "targetTerm": "volar",
                          "sourceTerm": "fly",
                          "targetSuffix": "."
                        },
                        {
                          "sourcePrefix": "One happy thought will make you ",
                          "sourceSuffix": ".",
                          "targetPrefix": "Uno solo te hará ",
                          "targetTerm": "volar",
                          "sourceTerm": "fly",
                          "targetSuffix": "."
                        },
                        {
                          "sourcePrefix": "They need machines to ",
                          "sourceSuffix": ".",
                          "targetPrefix": "Necesitan máquinas para ",
                          "targetTerm": "volar",
                          "sourceTerm": "fly",
                          "targetSuffix": "."
                        },
                        {
                          "sourcePrefix": "That should really ",
                          "sourceSuffix": ".",
                          "targetPrefix": "Eso realmente debe ",
                          "targetTerm": "volar",
                          "sourceTerm": "fly",
                          "targetSuffix": "."
                        },
                        {
                          "sourcePrefix": "It sure takes longer when you can't ",
                          "sourceSuffix": ".",
                          "targetPrefix": "Lleva más tiempo cuando no puedes ",
                          "targetTerm": "volar",
                          "sourceTerm": "fly",
                          "targetSuffix": "."
                        },
                        {
                          "sourcePrefix": "I have to ",
                          "sourceSuffix": " home in the morning.",
                          "targetPrefix": "Tengo que ",
                          "targetTerm": "volar",
                          "sourceTerm": "fly",
                          "targetSuffix": " a casa por la mañana."
                        },
                        {
                          "sourcePrefix": "You taught me to ",
                          "sourceSuffix": ".",
                          "targetPrefix": "Me enseñaste a ",
                          "targetTerm": "volar",
                          "sourceTerm": "fly",
                          "targetSuffix": "."
                        },
                        {
                          "sourcePrefix": "I think you should ",
                          "sourceSuffix": " with the window closed.",
                          "targetPrefix": "Creo que debemos ",
                          "targetTerm": "volar",
                          "sourceTerm": "fly",
                          "targetSuffix": " con la ventana cerrada."
                        },
                        {
                          "sourcePrefix": "They look like they could ",
                          "sourceSuffix": ".",
                          "targetPrefix": "Parece que pudieran ",
                          "targetTerm": "volar",
                          "sourceTerm": "fly",
                          "targetSuffix": "."
                        },
                        {
                          "sourcePrefix": "But you can ",
                          "sourceSuffix": ", for instance?",
                          "targetPrefix": "Que puedes ",
                          "targetTerm": "volar",
                          "sourceTerm": "fly",
                          "targetSuffix": ", por ejemplo."
                        },
                        {
                          "sourcePrefix": "At least until her kids can be able to ",
                          "sourceSuffix": ".",
                          "targetPrefix": "Al menos hasta que sus hijos sean capaces de ",
                          "targetTerm": "volar",
                          "sourceTerm": "fly",
                          "targetSuffix": "."
                        },
                        {
                          "sourcePrefix": "I thought you could ",
                          "sourceSuffix": ".",
                          "targetPrefix": "Pensé que podías ",
                          "targetTerm": "volar",
                          "sourceTerm": "fly",
                          "targetSuffix": "."
                        },
                        {
                          "sourcePrefix": "I was wondering what it would be like to ",
                          "sourceSuffix": ".",
                          "targetPrefix": "Me preguntaba cómo sería ",
                          "targetTerm": "volar",
                          "sourceTerm": "fly",
                          "targetSuffix": "."
                        },
                        {
                          "sourcePrefix": "But nobody else can ",
                          "sourceSuffix": ".",
                          "targetPrefix": "Pero nadie puede ",
                          "targetTerm": "volar",
                          "sourceTerm": "fly",
                          "targetSuffix": "."
                        }
                      ]
                    }
                  ],
                  "3": "I have to ",
                  "4": "fly",
                  "5": " home in the morning.",
                  "6": "Tengo que ",
                  "7": "volar",
                  "8": " a casa por la mañana."
                },
                {
                  "0": "fly",
                  "1": "volar",
                  "2": [
                    {
                      "normalizedSource": "fly",
                      "normalizedTarget": "volar",
                      "examples": [
                        {
                          "sourcePrefix": "I mean, for a guy who could ",
                          "sourceSuffix": ".",
                          "targetPrefix": "Quiero decir, para un tipo que podía ",
                          "targetTerm": "volar",
                          "sourceTerm": "fly",
                          "targetSuffix": "."
                        },
                        {
                          "sourcePrefix": "Now it's time to make you ",
                          "sourceSuffix": ".",
                          "targetPrefix": "Ahora es hora de que te haga ",
                          "targetTerm": "volar",
                          "sourceTerm": "fly",
                          "targetSuffix": "."
                        },
                        {
                          "sourcePrefix": "One happy thought will make you ",
                          "sourceSuffix": ".",
                          "targetPrefix": "Uno solo te hará ",
                          "targetTerm": "volar",
                          "sourceTerm": "fly",
                          "targetSuffix": "."
                        },
                        {
                          "sourcePrefix": "They need machines to ",
                          "sourceSuffix": ".",
                          "targetPrefix": "Necesitan máquinas para ",
                          "targetTerm": "volar",
                          "sourceTerm": "fly",
                          "targetSuffix": "."
                        },
                        {
                          "sourcePrefix": "That should really ",
                          "sourceSuffix": ".",
                          "targetPrefix": "Eso realmente debe ",
                          "targetTerm": "volar",
                          "sourceTerm": "fly",
                          "targetSuffix": "."
                        },
                        {
                          "sourcePrefix": "It sure takes longer when you can't ",
                          "sourceSuffix": ".",
                          "targetPrefix": "Lleva más tiempo cuando no puedes ",
                          "targetTerm": "volar",
                          "sourceTerm": "fly",
                          "targetSuffix": "."
                        },
                        {
                          "sourcePrefix": "I have to ",
                          "sourceSuffix": " home in the morning.",
                          "targetPrefix": "Tengo que ",
                          "targetTerm": "volar",
                          "sourceTerm": "fly",
                          "targetSuffix": " a casa por la mañana."
                        },
                        {
                          "sourcePrefix": "You taught me to ",
                          "sourceSuffix": ".",
                          "targetPrefix": "Me enseñaste a ",
                          "targetTerm": "volar",
                          "sourceTerm": "fly",
                          "targetSuffix": "."
                        },
                        {
                          "sourcePrefix": "I think you should ",
                          "sourceSuffix": " with the window closed.",
                          "targetPrefix": "Creo que debemos ",
                          "targetTerm": "volar",
                          "sourceTerm": "fly",
                          "targetSuffix": " con la ventana cerrada."
                        },
                        {
                          "sourcePrefix": "They look like they could ",
                          "sourceSuffix": ".",
                          "targetPrefix": "Parece que pudieran ",
                          "targetTerm": "volar",
                          "sourceTerm": "fly",
                          "targetSuffix": "."
                        },
                        {
                          "sourcePrefix": "But you can ",
                          "sourceSuffix": ", for instance?",
                          "targetPrefix": "Que puedes ",
                          "targetTerm": "volar",
                          "sourceTerm": "fly",
                          "targetSuffix": ", por ejemplo."
                        },
                        {
                          "sourcePrefix": "At least until her kids can be able to ",
                          "sourceSuffix": ".",
                          "targetPrefix": "Al menos hasta que sus hijos sean capaces de ",
                          "targetTerm": "volar",
                          "sourceTerm": "fly",
                          "targetSuffix": "."
                        },
                        {
                          "sourcePrefix": "I thought you could ",
                          "sourceSuffix": ".",
                          "targetPrefix": "Pensé que podías ",
                          "targetTerm": "volar",
                          "sourceTerm": "fly",
                          "targetSuffix": "."
                        },
                        {
                          "sourcePrefix": "I was wondering what it would be like to ",
                          "sourceSuffix": ".",
                          "targetPrefix": "Me preguntaba cómo sería ",
                          "targetTerm": "volar",
                          "sourceTerm": "fly",
                          "targetSuffix": "."
                        },
                        {
                          "sourcePrefix": "But nobody else can ",
                          "sourceSuffix": ".",
                          "targetPrefix": "Pero nadie puede ",
                          "targetTerm": "volar",
                          "sourceTerm": "fly",
                          "targetSuffix": "."
                        }
                      ]
                    }
                  ],
                  "3": "You taught me to ",
                  "4": "fly",
                  "5": ".",
                  "6": "Me enseñaste a ",
                  "7": "volar",
                  "8": "."
                },
                {
                  "0": "fly",
                  "1": "volar",
                  "2": [
                    {
                      "normalizedSource": "fly",
                      "normalizedTarget": "volar",
                      "examples": [
                        {
                          "sourcePrefix": "I mean, for a guy who could ",
                          "sourceSuffix": ".",
                          "targetPrefix": "Quiero decir, para un tipo que podía ",
                          "targetTerm": "volar",
                          "sourceTerm": "fly",
                          "targetSuffix": "."
                        },
                        {
                          "sourcePrefix": "Now it's time to make you ",
                          "sourceSuffix": ".",
                          "targetPrefix": "Ahora es hora de que te haga ",
                          "targetTerm": "volar",
                          "sourceTerm": "fly",
                          "targetSuffix": "."
                        },
                        {
                          "sourcePrefix": "One happy thought will make you ",
                          "sourceSuffix": ".",
                          "targetPrefix": "Uno solo te hará ",
                          "targetTerm": "volar",
                          "sourceTerm": "fly",
                          "targetSuffix": "."
                        },
                        {
                          "sourcePrefix": "They need machines to ",
                          "sourceSuffix": ".",
                          "targetPrefix": "Necesitan máquinas para ",
                          "targetTerm": "volar",
                          "sourceTerm": "fly",
                          "targetSuffix": "."
                        },
                        {
                          "sourcePrefix": "That should really ",
                          "sourceSuffix": ".",
                          "targetPrefix": "Eso realmente debe ",
                          "targetTerm": "volar",
                          "sourceTerm": "fly",
                          "targetSuffix": "."
                        },
                        {
                          "sourcePrefix": "It sure takes longer when you can't ",
                          "sourceSuffix": ".",
                          "targetPrefix": "Lleva más tiempo cuando no puedes ",
                          "targetTerm": "volar",
                          "sourceTerm": "fly",
                          "targetSuffix": "."
                        },
                        {
                          "sourcePrefix": "I have to ",
                          "sourceSuffix": " home in the morning.",
                          "targetPrefix": "Tengo que ",
                          "targetTerm": "volar",
                          "sourceTerm": "fly",
                          "targetSuffix": " a casa por la mañana."
                        },
                        {
                          "sourcePrefix": "You taught me to ",
                          "sourceSuffix": ".",
                          "targetPrefix": "Me enseñaste a ",
                          "targetTerm": "volar",
                          "sourceTerm": "fly",
                          "targetSuffix": "."
                        },
                        {
                          "sourcePrefix": "I think you should ",
                          "sourceSuffix": " with the window closed.",
                          "targetPrefix": "Creo que debemos ",
                          "targetTerm": "volar",
                          "sourceTerm": "fly",
                          "targetSuffix": " con la ventana cerrada."
                        },
                        {
                          "sourcePrefix": "They look like they could ",
                          "sourceSuffix": ".",
                          "targetPrefix": "Parece que pudieran ",
                          "targetTerm": "volar",
                          "sourceTerm": "fly",
                          "targetSuffix": "."
                        },
                        {
                          "sourcePrefix": "But you can ",
                          "sourceSuffix": ", for instance?",
                          "targetPrefix": "Que puedes ",
                          "targetTerm": "volar",
                          "sourceTerm": "fly",
                          "targetSuffix": ", por ejemplo."
                        },
                        {
                          "sourcePrefix": "At least until her kids can be able to ",
                          "sourceSuffix": ".",
                          "targetPrefix": "Al menos hasta que sus hijos sean capaces de ",
                          "targetTerm": "volar",
                          "sourceTerm": "fly",
                          "targetSuffix": "."
                        },
                        {
                          "sourcePrefix": "I thought you could ",
                          "sourceSuffix": ".",
                          "targetPrefix": "Pensé que podías ",
                          "targetTerm": "volar",
                          "sourceTerm": "fly",
                          "targetSuffix": "."
                        },
                        {
                          "sourcePrefix": "I was wondering what it would be like to ",
                          "sourceSuffix": ".",
                          "targetPrefix": "Me preguntaba cómo sería ",
                          "targetTerm": "volar",
                          "sourceTerm": "fly",
                          "targetSuffix": "."
                        },
                        {
                          "sourcePrefix": "But nobody else can ",
                          "sourceSuffix": ".",
                          "targetPrefix": "Pero nadie puede ",
                          "targetTerm": "volar",
                          "sourceTerm": "fly",
                          "targetSuffix": "."
                        }
                      ]
                    }
                  ],
                  "3": "I think you should ",
                  "4": "fly",
                  "5": " with the window closed.",
                  "6": "Creo que debemos ",
                  "7": "volar",
                  "8": " con la ventana cerrada."
                },
                {
                  "0": "fly",
                  "1": "volar",
                  "2": [
                    {
                      "normalizedSource": "fly",
                      "normalizedTarget": "volar",
                      "examples": [
                        {
                          "sourcePrefix": "I mean, for a guy who could ",
                          "sourceSuffix": ".",
                          "targetPrefix": "Quiero decir, para un tipo que podía ",
                          "targetTerm": "volar",
                          "sourceTerm": "fly",
                          "targetSuffix": "."
                        },
                        {
                          "sourcePrefix": "Now it's time to make you ",
                          "sourceSuffix": ".",
                          "targetPrefix": "Ahora es hora de que te haga ",
                          "targetTerm": "volar",
                          "sourceTerm": "fly",
                          "targetSuffix": "."
                        },
                        {
                          "sourcePrefix": "One happy thought will make you ",
                          "sourceSuffix": ".",
                          "targetPrefix": "Uno solo te hará ",
                          "targetTerm": "volar",
                          "sourceTerm": "fly",
                          "targetSuffix": "."
                        },
                        {
                          "sourcePrefix": "They need machines to ",
                          "sourceSuffix": ".",
                          "targetPrefix": "Necesitan máquinas para ",
                          "targetTerm": "volar",
                          "sourceTerm": "fly",
                          "targetSuffix": "."
                        },
                        {
                          "sourcePrefix": "That should really ",
                          "sourceSuffix": ".",
                          "targetPrefix": "Eso realmente debe ",
                          "targetTerm": "volar",
                          "sourceTerm": "fly",
                          "targetSuffix": "."
                        },
                        {
                          "sourcePrefix": "It sure takes longer when you can't ",
                          "sourceSuffix": ".",
                          "targetPrefix": "Lleva más tiempo cuando no puedes ",
                          "targetTerm": "volar",
                          "sourceTerm": "fly",
                          "targetSuffix": "."
                        },
                        {
                          "sourcePrefix": "I have to ",
                          "sourceSuffix": " home in the morning.",
                          "targetPrefix": "Tengo que ",
                          "targetTerm": "volar",
                          "sourceTerm": "fly",
                          "targetSuffix": " a casa por la mañana."
                        },
                        {
                          "sourcePrefix": "You taught me to ",
                          "sourceSuffix": ".",
                          "targetPrefix": "Me enseñaste a ",
                          "targetTerm": "volar",
                          "sourceTerm": "fly",
                          "targetSuffix": "."
                        },
                        {
                          "sourcePrefix": "I think you should ",
                          "sourceSuffix": " with the window closed.",
                          "targetPrefix": "Creo que debemos ",
                          "targetTerm": "volar",
                          "sourceTerm": "fly",
                          "targetSuffix": " con la ventana cerrada."
                        },
                        {
                          "sourcePrefix": "They look like they could ",
                          "sourceSuffix": ".",
                          "targetPrefix": "Parece que pudieran ",
                          "targetTerm": "volar",
                          "sourceTerm": "fly",
                          "targetSuffix": "."
                        },
                        {
                          "sourcePrefix": "But you can ",
                          "sourceSuffix": ", for instance?",
                          "targetPrefix": "Que puedes ",
                          "targetTerm": "volar",
                          "sourceTerm": "fly",
                          "targetSuffix": ", por ejemplo."
                        },
                        {
                          "sourcePrefix": "At least until her kids can be able to ",
                          "sourceSuffix": ".",
                          "targetPrefix": "Al menos hasta que sus hijos sean capaces de ",
                          "targetTerm": "volar",
                          "sourceTerm": "fly",
                          "targetSuffix": "."
                        },
                        {
                          "sourcePrefix": "I thought you could ",
                          "sourceSuffix": ".",
                          "targetPrefix": "Pensé que podías ",
                          "targetTerm": "volar",
                          "sourceTerm": "fly",
                          "targetSuffix": "."
                        },
                        {
                          "sourcePrefix": "I was wondering what it would be like to ",
                          "sourceSuffix": ".",
                          "targetPrefix": "Me preguntaba cómo sería ",
                          "targetTerm": "volar",
                          "sourceTerm": "fly",
                          "targetSuffix": "."
                        },
                        {
                          "sourcePrefix": "But nobody else can ",
                          "sourceSuffix": ".",
                          "targetPrefix": "Pero nadie puede ",
                          "targetTerm": "volar",
                          "sourceTerm": "fly",
                          "targetSuffix": "."
                        }
                      ]
                    }
                  ],
                  "3": "They look like they could ",
                  "4": "fly",
                  "5": ".",
                  "6": "Parece que pudieran ",
                  "7": "volar",
                  "8": "."
                },
                {
                  "0": "fly",
                  "1": "volar",
                  "2": [
                    {
                      "normalizedSource": "fly",
                      "normalizedTarget": "volar",
                      "examples": [
                        {
                          "sourcePrefix": "I mean, for a guy who could ",
                          "sourceSuffix": ".",
                          "targetPrefix": "Quiero decir, para un tipo que podía ",
                          "targetTerm": "volar",
                          "sourceTerm": "fly",
                          "targetSuffix": "."
                        },
                        {
                          "sourcePrefix": "Now it's time to make you ",
                          "sourceSuffix": ".",
                          "targetPrefix": "Ahora es hora de que te haga ",
                          "targetTerm": "volar",
                          "sourceTerm": "fly",
                          "targetSuffix": "."
                        },
                        {
                          "sourcePrefix": "One happy thought will make you ",
                          "sourceSuffix": ".",
                          "targetPrefix": "Uno solo te hará ",
                          "targetTerm": "volar",
                          "sourceTerm": "fly",
                          "targetSuffix": "."
                        },
                        {
                          "sourcePrefix": "They need machines to ",
                          "sourceSuffix": ".",
                          "targetPrefix": "Necesitan máquinas para ",
                          "targetTerm": "volar",
                          "sourceTerm": "fly",
                          "targetSuffix": "."
                        },
                        {
                          "sourcePrefix": "That should really ",
                          "sourceSuffix": ".",
                          "targetPrefix": "Eso realmente debe ",
                          "targetTerm": "volar",
                          "sourceTerm": "fly",
                          "targetSuffix": "."
                        },
                        {
                          "sourcePrefix": "It sure takes longer when you can't ",
                          "sourceSuffix": ".",
                          "targetPrefix": "Lleva más tiempo cuando no puedes ",
                          "targetTerm": "volar",
                          "sourceTerm": "fly",
                          "targetSuffix": "."
                        },
                        {
                          "sourcePrefix": "I have to ",
                          "sourceSuffix": " home in the morning.",
                          "targetPrefix": "Tengo que ",
                          "targetTerm": "volar",
                          "sourceTerm": "fly",
                          "targetSuffix": " a casa por la mañana."
                        },
                        {
                          "sourcePrefix": "You taught me to ",
                          "sourceSuffix": ".",
                          "targetPrefix": "Me enseñaste a ",
                          "targetTerm": "volar",
                          "sourceTerm": "fly",
                          "targetSuffix": "."
                        },
                        {
                          "sourcePrefix": "I think you should ",
                          "sourceSuffix": " with the window closed.",
                          "targetPrefix": "Creo que debemos ",
                          "targetTerm": "volar",
                          "sourceTerm": "fly",
                          "targetSuffix": " con la ventana cerrada."
                        },
                        {
                          "sourcePrefix": "They look like they could ",
                          "sourceSuffix": ".",
                          "targetPrefix": "Parece que pudieran ",
                          "targetTerm": "volar",
                          "sourceTerm": "fly",
                          "targetSuffix": "."
                        },
                        {
                          "sourcePrefix": "But you can ",
                          "sourceSuffix": ", for instance?",
                          "targetPrefix": "Que puedes ",
                          "targetTerm": "volar",
                          "sourceTerm": "fly",
                          "targetSuffix": ", por ejemplo."
                        },
                        {
                          "sourcePrefix": "At least until her kids can be able to ",
                          "sourceSuffix": ".",
                          "targetPrefix": "Al menos hasta que sus hijos sean capaces de ",
                          "targetTerm": "volar",
                          "sourceTerm": "fly",
                          "targetSuffix": "."
                        },
                        {
                          "sourcePrefix": "I thought you could ",
                          "sourceSuffix": ".",
                          "targetPrefix": "Pensé que podías ",
                          "targetTerm": "volar",
                          "sourceTerm": "fly",
                          "targetSuffix": "."
                        },
                        {
                          "sourcePrefix": "I was wondering what it would be like to ",
                          "sourceSuffix": ".",
                          "targetPrefix": "Me preguntaba cómo sería ",
                          "targetTerm": "volar",
                          "sourceTerm": "fly",
                          "targetSuffix": "."
                        },
                        {
                          "sourcePrefix": "But nobody else can ",
                          "sourceSuffix": ".",
                          "targetPrefix": "Pero nadie puede ",
                          "targetTerm": "volar",
                          "sourceTerm": "fly",
                          "targetSuffix": "."
                        }
                      ]
                    }
                  ],
                  "3": "But you can ",
                  "4": "fly",
                  "5": ", for instance?",
                  "6": "Que puedes ",
                  "7": "volar",
                  "8": ", por ejemplo."
                },
                {
                  "0": "fly",
                  "1": "volar",
                  "2": [
                    {
                      "normalizedSource": "fly",
                      "normalizedTarget": "volar",
                      "examples": [
                        {
                          "sourcePrefix": "I mean, for a guy who could ",
                          "sourceSuffix": ".",
                          "targetPrefix": "Quiero decir, para un tipo que podía ",
                          "targetTerm": "volar",
                          "sourceTerm": "fly",
                          "targetSuffix": "."
                        },
                        {
                          "sourcePrefix": "Now it's time to make you ",
                          "sourceSuffix": ".",
                          "targetPrefix": "Ahora es hora de que te haga ",
                          "targetTerm": "volar",
                          "sourceTerm": "fly",
                          "targetSuffix": "."
                        },
                        {
                          "sourcePrefix": "One happy thought will make you ",
                          "sourceSuffix": ".",
                          "targetPrefix": "Uno solo te hará ",
                          "targetTerm": "volar",
                          "sourceTerm": "fly",
                          "targetSuffix": "."
                        },
                        {
                          "sourcePrefix": "They need machines to ",
                          "sourceSuffix": ".",
                          "targetPrefix": "Necesitan máquinas para ",
                          "targetTerm": "volar",
                          "sourceTerm": "fly",
                          "targetSuffix": "."
                        },
                        {
                          "sourcePrefix": "That should really ",
                          "sourceSuffix": ".",
                          "targetPrefix": "Eso realmente debe ",
                          "targetTerm": "volar",
                          "sourceTerm": "fly",
                          "targetSuffix": "."
                        },
                        {
                          "sourcePrefix": "It sure takes longer when you can't ",
                          "sourceSuffix": ".",
                          "targetPrefix": "Lleva más tiempo cuando no puedes ",
                          "targetTerm": "volar",
                          "sourceTerm": "fly",
                          "targetSuffix": "."
                        },
                        {
                          "sourcePrefix": "I have to ",
                          "sourceSuffix": " home in the morning.",
                          "targetPrefix": "Tengo que ",
                          "targetTerm": "volar",
                          "sourceTerm": "fly",
                          "targetSuffix": " a casa por la mañana."
                        },
                        {
                          "sourcePrefix": "You taught me to ",
                          "sourceSuffix": ".",
                          "targetPrefix": "Me enseñaste a ",
                          "targetTerm": "volar",
                          "sourceTerm": "fly",
                          "targetSuffix": "."
                        },
                        {
                          "sourcePrefix": "I think you should ",
                          "sourceSuffix": " with the window closed.",
                          "targetPrefix": "Creo que debemos ",
                          "targetTerm": "volar",
                          "sourceTerm": "fly",
                          "targetSuffix": " con la ventana cerrada."
                        },
                        {
                          "sourcePrefix": "They look like they could ",
                          "sourceSuffix": ".",
                          "targetPrefix": "Parece que pudieran ",
                          "targetTerm": "volar",
                          "sourceTerm": "fly",
                          "targetSuffix": "."
                        },
                        {
                          "sourcePrefix": "But you can ",
                          "sourceSuffix": ", for instance?",
                          "targetPrefix": "Que puedes ",
                          "targetTerm": "volar",
                          "sourceTerm": "fly",
                          "targetSuffix": ", por ejemplo."
                        },
                        {
                          "sourcePrefix": "At least until her kids can be able to ",
                          "sourceSuffix": ".",
                          "targetPrefix": "Al menos hasta que sus hijos sean capaces de ",
                          "targetTerm": "volar",
                          "sourceTerm": "fly",
                          "targetSuffix": "."
                        },
                        {
                          "sourcePrefix": "I thought you could ",
                          "sourceSuffix": ".",
                          "targetPrefix": "Pensé que podías ",
                          "targetTerm": "volar",
                          "sourceTerm": "fly",
                          "targetSuffix": "."
                        },
                        {
                          "sourcePrefix": "I was wondering what it would be like to ",
                          "sourceSuffix": ".",
                          "targetPrefix": "Me preguntaba cómo sería ",
                          "targetTerm": "volar",
                          "sourceTerm": "fly",
                          "targetSuffix": "."
                        },
                        {
                          "sourcePrefix": "But nobody else can ",
                          "sourceSuffix": ".",
                          "targetPrefix": "Pero nadie puede ",
                          "targetTerm": "volar",
                          "sourceTerm": "fly",
                          "targetSuffix": "."
                        }
                      ]
                    }
                  ],
                  "3": "At least until her kids can be able to ",
                  "4": "fly",
                  "5": ".",
                  "6": "Al menos hasta que sus hijos sean capaces de ",
                  "7": "volar",
                  "8": "."
                },
                {
                  "0": "fly",
                  "1": "volar",
                  "2": [
                    {
                      "normalizedSource": "fly",
                      "normalizedTarget": "volar",
                      "examples": [
                        {
                          "sourcePrefix": "I mean, for a guy who could ",
                          "sourceSuffix": ".",
                          "targetPrefix": "Quiero decir, para un tipo que podía ",
                          "targetTerm": "volar",
                          "sourceTerm": "fly",
                          "targetSuffix": "."
                        },
                        {
                          "sourcePrefix": "Now it's time to make you ",
                          "sourceSuffix": ".",
                          "targetPrefix": "Ahora es hora de que te haga ",
                          "targetTerm": "volar",
                          "sourceTerm": "fly",
                          "targetSuffix": "."
                        },
                        {
                          "sourcePrefix": "One happy thought will make you ",
                          "sourceSuffix": ".",
                          "targetPrefix": "Uno solo te hará ",
                          "targetTerm": "volar",
                          "sourceTerm": "fly",
                          "targetSuffix": "."
                        },
                        {
                          "sourcePrefix": "They need machines to ",
                          "sourceSuffix": ".",
                          "targetPrefix": "Necesitan máquinas para ",
                          "targetTerm": "volar",
                          "sourceTerm": "fly",
                          "targetSuffix": "."
                        },
                        {
                          "sourcePrefix": "That should really ",
                          "sourceSuffix": ".",
                          "targetPrefix": "Eso realmente debe ",
                          "targetTerm": "volar",
                          "sourceTerm": "fly",
                          "targetSuffix": "."
                        },
                        {
                          "sourcePrefix": "It sure takes longer when you can't ",
                          "sourceSuffix": ".",
                          "targetPrefix": "Lleva más tiempo cuando no puedes ",
                          "targetTerm": "volar",
                          "sourceTerm": "fly",
                          "targetSuffix": "."
                        },
                        {
                          "sourcePrefix": "I have to ",
                          "sourceSuffix": " home in the morning.",
                          "targetPrefix": "Tengo que ",
                          "targetTerm": "volar",
                          "sourceTerm": "fly",
                          "targetSuffix": " a casa por la mañana."
                        },
                        {
                          "sourcePrefix": "You taught me to ",
                          "sourceSuffix": ".",
                          "targetPrefix": "Me enseñaste a ",
                          "targetTerm": "volar",
                          "sourceTerm": "fly",
                          "targetSuffix": "."
                        },
                        {
                          "sourcePrefix": "I think you should ",
                          "sourceSuffix": " with the window closed.",
                          "targetPrefix": "Creo que debemos ",
                          "targetTerm": "volar",
                          "sourceTerm": "fly",
                          "targetSuffix": " con la ventana cerrada."
                        },
                        {
                          "sourcePrefix": "They look like they could ",
                          "sourceSuffix": ".",
                          "targetPrefix": "Parece que pudieran ",
                          "targetTerm": "volar",
                          "sourceTerm": "fly",
                          "targetSuffix": "."
                        },
                        {
                          "sourcePrefix": "But you can ",
                          "sourceSuffix": ", for instance?",
                          "targetPrefix": "Que puedes ",
                          "targetTerm": "volar",
                          "sourceTerm": "fly",
                          "targetSuffix": ", por ejemplo."
                        },
                        {
                          "sourcePrefix": "At least until her kids can be able to ",
                          "sourceSuffix": ".",
                          "targetPrefix": "Al menos hasta que sus hijos sean capaces de ",
                          "targetTerm": "volar",
                          "sourceTerm": "fly",
                          "targetSuffix": "."
                        },
                        {
                          "sourcePrefix": "I thought you could ",
                          "sourceSuffix": ".",
                          "targetPrefix": "Pensé que podías ",
                          "targetTerm": "volar",
                          "sourceTerm": "fly",
                          "targetSuffix": "."
                        },
                        {
                          "sourcePrefix": "I was wondering what it would be like to ",
                          "sourceSuffix": ".",
                          "targetPrefix": "Me preguntaba cómo sería ",
                          "targetTerm": "volar",
                          "sourceTerm": "fly",
                          "targetSuffix": "."
                        },
                        {
                          "sourcePrefix": "But nobody else can ",
                          "sourceSuffix": ".",
                          "targetPrefix": "Pero nadie puede ",
                          "targetTerm": "volar",
                          "sourceTerm": "fly",
                          "targetSuffix": "."
                        }
                      ]
                    }
                  ],
                  "3": "I thought you could ",
                  "4": "fly",
                  "5": ".",
                  "6": "Pensé que podías ",
                  "7": "volar",
                  "8": "."
                },
                {
                  "0": "fly",
                  "1": "volar",
                  "2": [
                    {
                      "normalizedSource": "fly",
                      "normalizedTarget": "volar",
                      "examples": [
                        {
                          "sourcePrefix": "I mean, for a guy who could ",
                          "sourceSuffix": ".",
                          "targetPrefix": "Quiero decir, para un tipo que podía ",
                          "targetTerm": "volar",
                          "sourceTerm": "fly",
                          "targetSuffix": "."
                        },
                        {
                          "sourcePrefix": "Now it's time to make you ",
                          "sourceSuffix": ".",
                          "targetPrefix": "Ahora es hora de que te haga ",
                          "targetTerm": "volar",
                          "sourceTerm": "fly",
                          "targetSuffix": "."
                        },
                        {
                          "sourcePrefix": "One happy thought will make you ",
                          "sourceSuffix": ".",
                          "targetPrefix": "Uno solo te hará ",
                          "targetTerm": "volar",
                          "sourceTerm": "fly",
                          "targetSuffix": "."
                        },
                        {
                          "sourcePrefix": "They need machines to ",
                          "sourceSuffix": ".",
                          "targetPrefix": "Necesitan máquinas para ",
                          "targetTerm": "volar",
                          "sourceTerm": "fly",
                          "targetSuffix": "."
                        },
                        {
                          "sourcePrefix": "That should really ",
                          "sourceSuffix": ".",
                          "targetPrefix": "Eso realmente debe ",
                          "targetTerm": "volar",
                          "sourceTerm": "fly",
                          "targetSuffix": "."
                        },
                        {
                          "sourcePrefix": "It sure takes longer when you can't ",
                          "sourceSuffix": ".",
                          "targetPrefix": "Lleva más tiempo cuando no puedes ",
                          "targetTerm": "volar",
                          "sourceTerm": "fly",
                          "targetSuffix": "."
                        },
                        {
                          "sourcePrefix": "I have to ",
                          "sourceSuffix": " home in the morning.",
                          "targetPrefix": "Tengo que ",
                          "targetTerm": "volar",
                          "sourceTerm": "fly",
                          "targetSuffix": " a casa por la mañana."
                        },
                        {
                          "sourcePrefix": "You taught me to ",
                          "sourceSuffix": ".",
                          "targetPrefix": "Me enseñaste a ",
                          "targetTerm": "volar",
                          "sourceTerm": "fly",
                          "targetSuffix": "."
                        },
                        {
                          "sourcePrefix": "I think you should ",
                          "sourceSuffix": " with the window closed.",
                          "targetPrefix": "Creo que debemos ",
                          "targetTerm": "volar",
                          "sourceTerm": "fly",
                          "targetSuffix": " con la ventana cerrada."
                        },
                        {
                          "sourcePrefix": "They look like they could ",
                          "sourceSuffix": ".",
                          "targetPrefix": "Parece que pudieran ",
                          "targetTerm": "volar",
                          "sourceTerm": "fly",
                          "targetSuffix": "."
                        },
                        {
                          "sourcePrefix": "But you can ",
                          "sourceSuffix": ", for instance?",
                          "targetPrefix": "Que puedes ",
                          "targetTerm": "volar",
                          "sourceTerm": "fly",
                          "targetSuffix": ", por ejemplo."
                        },
                        {
                          "sourcePrefix": "At least until her kids can be able to ",
                          "sourceSuffix": ".",
                          "targetPrefix": "Al menos hasta que sus hijos sean capaces de ",
                          "targetTerm": "volar",
                          "sourceTerm": "fly",
                          "targetSuffix": "."
                        },
                        {
                          "sourcePrefix": "I thought you could ",
                          "sourceSuffix": ".",
                          "targetPrefix": "Pensé que podías ",
                          "targetTerm": "volar",
                          "sourceTerm": "fly",
                          "targetSuffix": "."
                        },
                        {
                          "sourcePrefix": "I was wondering what it would be like to ",
                          "sourceSuffix": ".",
                          "targetPrefix": "Me preguntaba cómo sería ",
                          "targetTerm": "volar",
                          "sourceTerm": "fly",
                          "targetSuffix": "."
                        },
                        {
                          "sourcePrefix": "But nobody else can ",
                          "sourceSuffix": ".",
                          "targetPrefix": "Pero nadie puede ",
                          "targetTerm": "volar",
                          "sourceTerm": "fly",
                          "targetSuffix": "."
                        }
                      ]
                    }
                  ],
                  "3": "I was wondering what it would be like to ",
                  "4": "fly",
                  "5": ".",
                  "6": "Me preguntaba cómo sería ",
                  "7": "volar",
                  "8": "."
                },
                {
                  "0": "fly",
                  "1": "volar",
                  "2": [
                    {
                      "normalizedSource": "fly",
                      "normalizedTarget": "volar",
                      "examples": [
                        {
                          "sourcePrefix": "I mean, for a guy who could ",
                          "sourceSuffix": ".",
                          "targetPrefix": "Quiero decir, para un tipo que podía ",
                          "targetTerm": "volar",
                          "sourceTerm": "fly",
                          "targetSuffix": "."
                        },
                        {
                          "sourcePrefix": "Now it's time to make you ",
                          "sourceSuffix": ".",
                          "targetPrefix": "Ahora es hora de que te haga ",
                          "targetTerm": "volar",
                          "sourceTerm": "fly",
                          "targetSuffix": "."
                        },
                        {
                          "sourcePrefix": "One happy thought will make you ",
                          "sourceSuffix": ".",
                          "targetPrefix": "Uno solo te hará ",
                          "targetTerm": "volar",
                          "sourceTerm": "fly",
                          "targetSuffix": "."
                        },
                        {
                          "sourcePrefix": "They need machines to ",
                          "sourceSuffix": ".",
                          "targetPrefix": "Necesitan máquinas para ",
                          "targetTerm": "volar",
                          "sourceTerm": "fly",
                          "targetSuffix": "."
                        },
                        {
                          "sourcePrefix": "That should really ",
                          "sourceSuffix": ".",
                          "targetPrefix": "Eso realmente debe ",
                          "targetTerm": "volar",
                          "sourceTerm": "fly",
                          "targetSuffix": "."
                        },
                        {
                          "sourcePrefix": "It sure takes longer when you can't ",
                          "sourceSuffix": ".",
                          "targetPrefix": "Lleva más tiempo cuando no puedes ",
                          "targetTerm": "volar",
                          "sourceTerm": "fly",
                          "targetSuffix": "."
                        },
                        {
                          "sourcePrefix": "I have to ",
                          "sourceSuffix": " home in the morning.",
                          "targetPrefix": "Tengo que ",
                          "targetTerm": "volar",
                          "sourceTerm": "fly",
                          "targetSuffix": " a casa por la mañana."
                        },
                        {
                          "sourcePrefix": "You taught me to ",
                          "sourceSuffix": ".",
                          "targetPrefix": "Me enseñaste a ",
                          "targetTerm": "volar",
                          "sourceTerm": "fly",
                          "targetSuffix": "."
                        },
                        {
                          "sourcePrefix": "I think you should ",
                          "sourceSuffix": " with the window closed.",
                          "targetPrefix": "Creo que debemos ",
                          "targetTerm": "volar",
                          "sourceTerm": "fly",
                          "targetSuffix": " con la ventana cerrada."
                        },
                        {
                          "sourcePrefix": "They look like they could ",
                          "sourceSuffix": ".",
                          "targetPrefix": "Parece que pudieran ",
                          "targetTerm": "volar",
                          "sourceTerm": "fly",
                          "targetSuffix": "."
                        },
                        {
                          "sourcePrefix": "But you can ",
                          "sourceSuffix": ", for instance?",
                          "targetPrefix": "Que puedes ",
                          "targetTerm": "volar",
                          "sourceTerm": "fly",
                          "targetSuffix": ", por ejemplo."
                        },
                        {
                          "sourcePrefix": "At least until her kids can be able to ",
                          "sourceSuffix": ".",
                          "targetPrefix": "Al menos hasta que sus hijos sean capaces de ",
                          "targetTerm": "volar",
                          "sourceTerm": "fly",
                          "targetSuffix": "."
                        },
                        {
                          "sourcePrefix": "I thought you could ",
                          "sourceSuffix": ".",
                          "targetPrefix": "Pensé que podías ",
                          "targetTerm": "volar",
                          "sourceTerm": "fly",
                          "targetSuffix": "."
                        },
                        {
                          "sourcePrefix": "I was wondering what it would be like to ",
                          "sourceSuffix": ".",
                          "targetPrefix": "Me preguntaba cómo sería ",
                          "targetTerm": "volar",
                          "sourceTerm": "fly",
                          "targetSuffix": "."
                        },
                        {
                          "sourcePrefix": "But nobody else can ",
                          "sourceSuffix": ".",
                          "targetPrefix": "Pero nadie puede ",
                          "targetTerm": "volar",
                          "sourceTerm": "fly",
                          "targetSuffix": "."
                        }
                      ]
                    }
                  ],
                  "3": "But nobody else can ",
                  "4": "fly",
                  "5": ".",
                  "6": "Pero nadie puede ",
                  "7": "volar",
                  "8": "."
                },
                {
                  "0": "happy",
                  "1": "feliz",
                  "2": [
                    {
                      "normalizedSource": "happy",
                      "normalizedTarget": "feliz",
                      "examples": [
                        {
                          "sourcePrefix": "I want to make you ",
                          "sourceSuffix": ", darling.",
                          "targetPrefix": "Quiero hacerte muy ",
                          "targetTerm": "feliz",
                          "sourceTerm": "happy",
                          "targetSuffix": ", reina."
                        },
                        {
                          "sourcePrefix": "We wish you a ",
                          "sourceSuffix": " return to your homeland.",
                          "targetPrefix": "Les deseamos un ",
                          "targetTerm": "feliz",
                          "sourceTerm": "happy",
                          "targetSuffix": " regreso a su patria."
                        },
                        {
                          "sourcePrefix": "I am ",
                          "sourceSuffix": " with my size.",
                          "targetPrefix": "Estoy ",
                          "targetTerm": "feliz",
                          "sourceTerm": "happy",
                          "targetSuffix": " con mi tamaño."
                        },
                        {
                          "sourcePrefix": "I never saw him so ",
                          "sourceSuffix": ".",
                          "targetPrefix": "Nunca lo había visto tan ",
                          "targetTerm": "feliz",
                          "sourceTerm": "happy",
                          "targetSuffix": "."
                        },
                        {
                          "sourcePrefix": "On such occasions, he was like a ",
                          "sourceSuffix": " child.",
                          "targetPrefix": "Entonces, él se ponía como un niño ",
                          "targetTerm": "feliz",
                          "sourceTerm": "happy",
                          "targetSuffix": "."
                        },
                        {
                          "sourcePrefix": "If it can still make me ",
                          "sourceSuffix": ".",
                          "targetPrefix": "Si aun me hace ",
                          "targetTerm": "feliz",
                          "sourceTerm": "happy",
                          "targetSuffix": "."
                        },
                        {
                          "sourcePrefix": "You were ",
                          "sourceSuffix": " and you'll never know it.",
                          "targetPrefix": "Fuiste ",
                          "targetTerm": "feliz",
                          "sourceTerm": "happy",
                          "targetSuffix": " y nunca lo sabrás."
                        },
                        {
                          "sourcePrefix": "I am very ",
                          "sourceSuffix": " to see both of you together.",
                          "targetPrefix": "Estoy muy ",
                          "targetTerm": "feliz",
                          "sourceTerm": "happy",
                          "targetSuffix": " de veros juntas."
                        },
                        {
                          "sourcePrefix": "I live to make him ",
                          "sourceSuffix": ".",
                          "targetPrefix": "Vivo para hacerlo ",
                          "targetTerm": "feliz",
                          "sourceTerm": "happy",
                          "targetSuffix": "."
                        },
                        {
                          "sourcePrefix": "He is, therefore, a completely ",
                          "sourceSuffix": " man.",
                          "targetPrefix": "Por lo tanto, es un hombre totalmente ",
                          "targetTerm": "feliz",
                          "sourceTerm": "happy",
                          "targetSuffix": "."
                        },
                        {
                          "sourcePrefix": "Feels like ",
                          "sourceSuffix": " hour to me.",
                          "targetPrefix": "Parece la hora ",
                          "targetTerm": "feliz",
                          "sourceTerm": "happy",
                          "targetSuffix": "."
                        },
                        {
                          "sourcePrefix": "Give me your blessing for a ",
                          "sourceSuffix": " voyage.",
                          "targetPrefix": "Dame tu bendición para un viaje ",
                          "targetTerm": "feliz",
                          "sourceTerm": "happy",
                          "targetSuffix": "."
                        },
                        {
                          "sourcePrefix": "I like it better when you're ",
                          "sourceSuffix": ".",
                          "targetPrefix": "Me gusta más cuando estás ",
                          "targetTerm": "feliz",
                          "sourceTerm": "happy",
                          "targetSuffix": "."
                        },
                        {
                          "sourcePrefix": "Play your blues if it'll make you ",
                          "sourceSuffix": ".",
                          "targetPrefix": "Adelante, toca tu blues si eso te hace ",
                          "targetTerm": "feliz",
                          "sourceTerm": "happy",
                          "targetSuffix": "."
                        },
                        {
                          "sourcePrefix": "He makes me ",
                          "sourceSuffix": ".",
                          "targetPrefix": "Él me hace ",
                          "targetTerm": "feliz",
                          "sourceTerm": "happy",
                          "targetSuffix": "."
                        }
                      ]
                    }
                  ],
                  "3": "I want to make you ",
                  "4": "happy",
                  "5": ", darling.",
                  "6": "Quiero hacerte muy ",
                  "7": "feliz",
                  "8": ", reina."
                },
                {
                  "0": "happy",
                  "1": "feliz",
                  "2": [
                    {
                      "normalizedSource": "happy",
                      "normalizedTarget": "feliz",
                      "examples": [
                        {
                          "sourcePrefix": "I want to make you ",
                          "sourceSuffix": ", darling.",
                          "targetPrefix": "Quiero hacerte muy ",
                          "targetTerm": "feliz",
                          "sourceTerm": "happy",
                          "targetSuffix": ", reina."
                        },
                        {
                          "sourcePrefix": "We wish you a ",
                          "sourceSuffix": " return to your homeland.",
                          "targetPrefix": "Les deseamos un ",
                          "targetTerm": "feliz",
                          "sourceTerm": "happy",
                          "targetSuffix": " regreso a su patria."
                        },
                        {
                          "sourcePrefix": "I am ",
                          "sourceSuffix": " with my size.",
                          "targetPrefix": "Estoy ",
                          "targetTerm": "feliz",
                          "sourceTerm": "happy",
                          "targetSuffix": " con mi tamaño."
                        },
                        {
                          "sourcePrefix": "I never saw him so ",
                          "sourceSuffix": ".",
                          "targetPrefix": "Nunca lo había visto tan ",
                          "targetTerm": "feliz",
                          "sourceTerm": "happy",
                          "targetSuffix": "."
                        },
                        {
                          "sourcePrefix": "On such occasions, he was like a ",
                          "sourceSuffix": " child.",
                          "targetPrefix": "Entonces, él se ponía como un niño ",
                          "targetTerm": "feliz",
                          "sourceTerm": "happy",
                          "targetSuffix": "."
                        },
                        {
                          "sourcePrefix": "If it can still make me ",
                          "sourceSuffix": ".",
                          "targetPrefix": "Si aun me hace ",
                          "targetTerm": "feliz",
                          "sourceTerm": "happy",
                          "targetSuffix": "."
                        },
                        {
                          "sourcePrefix": "You were ",
                          "sourceSuffix": " and you'll never know it.",
                          "targetPrefix": "Fuiste ",
                          "targetTerm": "feliz",
                          "sourceTerm": "happy",
                          "targetSuffix": " y nunca lo sabrás."
                        },
                        {
                          "sourcePrefix": "I am very ",
                          "sourceSuffix": " to see both of you together.",
                          "targetPrefix": "Estoy muy ",
                          "targetTerm": "feliz",
                          "sourceTerm": "happy",
                          "targetSuffix": " de veros juntas."
                        },
                        {
                          "sourcePrefix": "I live to make him ",
                          "sourceSuffix": ".",
                          "targetPrefix": "Vivo para hacerlo ",
                          "targetTerm": "feliz",
                          "sourceTerm": "happy",
                          "targetSuffix": "."
                        },
                        {
                          "sourcePrefix": "He is, therefore, a completely ",
                          "sourceSuffix": " man.",
                          "targetPrefix": "Por lo tanto, es un hombre totalmente ",
                          "targetTerm": "feliz",
                          "sourceTerm": "happy",
                          "targetSuffix": "."
                        },
                        {
                          "sourcePrefix": "Feels like ",
                          "sourceSuffix": " hour to me.",
                          "targetPrefix": "Parece la hora ",
                          "targetTerm": "feliz",
                          "sourceTerm": "happy",
                          "targetSuffix": "."
                        },
                        {
                          "sourcePrefix": "Give me your blessing for a ",
                          "sourceSuffix": " voyage.",
                          "targetPrefix": "Dame tu bendición para un viaje ",
                          "targetTerm": "feliz",
                          "sourceTerm": "happy",
                          "targetSuffix": "."
                        },
                        {
                          "sourcePrefix": "I like it better when you're ",
                          "sourceSuffix": ".",
                          "targetPrefix": "Me gusta más cuando estás ",
                          "targetTerm": "feliz",
                          "sourceTerm": "happy",
                          "targetSuffix": "."
                        },
                        {
                          "sourcePrefix": "Play your blues if it'll make you ",
                          "sourceSuffix": ".",
                          "targetPrefix": "Adelante, toca tu blues si eso te hace ",
                          "targetTerm": "feliz",
                          "sourceTerm": "happy",
                          "targetSuffix": "."
                        },
                        {
                          "sourcePrefix": "He makes me ",
                          "sourceSuffix": ".",
                          "targetPrefix": "Él me hace ",
                          "targetTerm": "feliz",
                          "sourceTerm": "happy",
                          "targetSuffix": "."
                        }
                      ]
                    }
                  ],
                  "3": "We wish you a ",
                  "4": "happy",
                  "5": " return to your homeland.",
                  "6": "Les deseamos un ",
                  "7": "feliz",
                  "8": " regreso a su patria."
                },
                {
                  "0": "happy",
                  "1": "feliz",
                  "2": [
                    {
                      "normalizedSource": "happy",
                      "normalizedTarget": "feliz",
                      "examples": [
                        {
                          "sourcePrefix": "I want to make you ",
                          "sourceSuffix": ", darling.",
                          "targetPrefix": "Quiero hacerte muy ",
                          "targetTerm": "feliz",
                          "sourceTerm": "happy",
                          "targetSuffix": ", reina."
                        },
                        {
                          "sourcePrefix": "We wish you a ",
                          "sourceSuffix": " return to your homeland.",
                          "targetPrefix": "Les deseamos un ",
                          "targetTerm": "feliz",
                          "sourceTerm": "happy",
                          "targetSuffix": " regreso a su patria."
                        },
                        {
                          "sourcePrefix": "I am ",
                          "sourceSuffix": " with my size.",
                          "targetPrefix": "Estoy ",
                          "targetTerm": "feliz",
                          "sourceTerm": "happy",
                          "targetSuffix": " con mi tamaño."
                        },
                        {
                          "sourcePrefix": "I never saw him so ",
                          "sourceSuffix": ".",
                          "targetPrefix": "Nunca lo había visto tan ",
                          "targetTerm": "feliz",
                          "sourceTerm": "happy",
                          "targetSuffix": "."
                        },
                        {
                          "sourcePrefix": "On such occasions, he was like a ",
                          "sourceSuffix": " child.",
                          "targetPrefix": "Entonces, él se ponía como un niño ",
                          "targetTerm": "feliz",
                          "sourceTerm": "happy",
                          "targetSuffix": "."
                        },
                        {
                          "sourcePrefix": "If it can still make me ",
                          "sourceSuffix": ".",
                          "targetPrefix": "Si aun me hace ",
                          "targetTerm": "feliz",
                          "sourceTerm": "happy",
                          "targetSuffix": "."
                        },
                        {
                          "sourcePrefix": "You were ",
                          "sourceSuffix": " and you'll never know it.",
                          "targetPrefix": "Fuiste ",
                          "targetTerm": "feliz",
                          "sourceTerm": "happy",
                          "targetSuffix": " y nunca lo sabrás."
                        },
                        {
                          "sourcePrefix": "I am very ",
                          "sourceSuffix": " to see both of you together.",
                          "targetPrefix": "Estoy muy ",
                          "targetTerm": "feliz",
                          "sourceTerm": "happy",
                          "targetSuffix": " de veros juntas."
                        },
                        {
                          "sourcePrefix": "I live to make him ",
                          "sourceSuffix": ".",
                          "targetPrefix": "Vivo para hacerlo ",
                          "targetTerm": "feliz",
                          "sourceTerm": "happy",
                          "targetSuffix": "."
                        },
                        {
                          "sourcePrefix": "He is, therefore, a completely ",
                          "sourceSuffix": " man.",
                          "targetPrefix": "Por lo tanto, es un hombre totalmente ",
                          "targetTerm": "feliz",
                          "sourceTerm": "happy",
                          "targetSuffix": "."
                        },
                        {
                          "sourcePrefix": "Feels like ",
                          "sourceSuffix": " hour to me.",
                          "targetPrefix": "Parece la hora ",
                          "targetTerm": "feliz",
                          "sourceTerm": "happy",
                          "targetSuffix": "."
                        },
                        {
                          "sourcePrefix": "Give me your blessing for a ",
                          "sourceSuffix": " voyage.",
                          "targetPrefix": "Dame tu bendición para un viaje ",
                          "targetTerm": "feliz",
                          "sourceTerm": "happy",
                          "targetSuffix": "."
                        },
                        {
                          "sourcePrefix": "I like it better when you're ",
                          "sourceSuffix": ".",
                          "targetPrefix": "Me gusta más cuando estás ",
                          "targetTerm": "feliz",
                          "sourceTerm": "happy",
                          "targetSuffix": "."
                        },
                        {
                          "sourcePrefix": "Play your blues if it'll make you ",
                          "sourceSuffix": ".",
                          "targetPrefix": "Adelante, toca tu blues si eso te hace ",
                          "targetTerm": "feliz",
                          "sourceTerm": "happy",
                          "targetSuffix": "."
                        },
                        {
                          "sourcePrefix": "He makes me ",
                          "sourceSuffix": ".",
                          "targetPrefix": "Él me hace ",
                          "targetTerm": "feliz",
                          "sourceTerm": "happy",
                          "targetSuffix": "."
                        }
                      ]
                    }
                  ],
                  "3": "I am ",
                  "4": "happy",
                  "5": " with my size.",
                  "6": "Estoy ",
                  "7": "feliz",
                  "8": " con mi tamaño."
                },
                {
                  "0": "happy",
                  "1": "feliz",
                  "2": [
                    {
                      "normalizedSource": "happy",
                      "normalizedTarget": "feliz",
                      "examples": [
                        {
                          "sourcePrefix": "I want to make you ",
                          "sourceSuffix": ", darling.",
                          "targetPrefix": "Quiero hacerte muy ",
                          "targetTerm": "feliz",
                          "sourceTerm": "happy",
                          "targetSuffix": ", reina."
                        },
                        {
                          "sourcePrefix": "We wish you a ",
                          "sourceSuffix": " return to your homeland.",
                          "targetPrefix": "Les deseamos un ",
                          "targetTerm": "feliz",
                          "sourceTerm": "happy",
                          "targetSuffix": " regreso a su patria."
                        },
                        {
                          "sourcePrefix": "I am ",
                          "sourceSuffix": " with my size.",
                          "targetPrefix": "Estoy ",
                          "targetTerm": "feliz",
                          "sourceTerm": "happy",
                          "targetSuffix": " con mi tamaño."
                        },
                        {
                          "sourcePrefix": "I never saw him so ",
                          "sourceSuffix": ".",
                          "targetPrefix": "Nunca lo había visto tan ",
                          "targetTerm": "feliz",
                          "sourceTerm": "happy",
                          "targetSuffix": "."
                        },
                        {
                          "sourcePrefix": "On such occasions, he was like a ",
                          "sourceSuffix": " child.",
                          "targetPrefix": "Entonces, él se ponía como un niño ",
                          "targetTerm": "feliz",
                          "sourceTerm": "happy",
                          "targetSuffix": "."
                        },
                        {
                          "sourcePrefix": "If it can still make me ",
                          "sourceSuffix": ".",
                          "targetPrefix": "Si aun me hace ",
                          "targetTerm": "feliz",
                          "sourceTerm": "happy",
                          "targetSuffix": "."
                        },
                        {
                          "sourcePrefix": "You were ",
                          "sourceSuffix": " and you'll never know it.",
                          "targetPrefix": "Fuiste ",
                          "targetTerm": "feliz",
                          "sourceTerm": "happy",
                          "targetSuffix": " y nunca lo sabrás."
                        },
                        {
                          "sourcePrefix": "I am very ",
                          "sourceSuffix": " to see both of you together.",
                          "targetPrefix": "Estoy muy ",
                          "targetTerm": "feliz",
                          "sourceTerm": "happy",
                          "targetSuffix": " de veros juntas."
                        },
                        {
                          "sourcePrefix": "I live to make him ",
                          "sourceSuffix": ".",
                          "targetPrefix": "Vivo para hacerlo ",
                          "targetTerm": "feliz",
                          "sourceTerm": "happy",
                          "targetSuffix": "."
                        },
                        {
                          "sourcePrefix": "He is, therefore, a completely ",
                          "sourceSuffix": " man.",
                          "targetPrefix": "Por lo tanto, es un hombre totalmente ",
                          "targetTerm": "feliz",
                          "sourceTerm": "happy",
                          "targetSuffix": "."
                        },
                        {
                          "sourcePrefix": "Feels like ",
                          "sourceSuffix": " hour to me.",
                          "targetPrefix": "Parece la hora ",
                          "targetTerm": "feliz",
                          "sourceTerm": "happy",
                          "targetSuffix": "."
                        },
                        {
                          "sourcePrefix": "Give me your blessing for a ",
                          "sourceSuffix": " voyage.",
                          "targetPrefix": "Dame tu bendición para un viaje ",
                          "targetTerm": "feliz",
                          "sourceTerm": "happy",
                          "targetSuffix": "."
                        },
                        {
                          "sourcePrefix": "I like it better when you're ",
                          "sourceSuffix": ".",
                          "targetPrefix": "Me gusta más cuando estás ",
                          "targetTerm": "feliz",
                          "sourceTerm": "happy",
                          "targetSuffix": "."
                        },
                        {
                          "sourcePrefix": "Play your blues if it'll make you ",
                          "sourceSuffix": ".",
                          "targetPrefix": "Adelante, toca tu blues si eso te hace ",
                          "targetTerm": "feliz",
                          "sourceTerm": "happy",
                          "targetSuffix": "."
                        },
                        {
                          "sourcePrefix": "He makes me ",
                          "sourceSuffix": ".",
                          "targetPrefix": "Él me hace ",
                          "targetTerm": "feliz",
                          "sourceTerm": "happy",
                          "targetSuffix": "."
                        }
                      ]
                    }
                  ],
                  "3": "I never saw him so ",
                  "4": "happy",
                  "5": ".",
                  "6": "Nunca lo había visto tan ",
                  "7": "feliz",
                  "8": "."
                },
                {
                  "0": "happy",
                  "1": "feliz",
                  "2": [
                    {
                      "normalizedSource": "happy",
                      "normalizedTarget": "feliz",
                      "examples": [
                        {
                          "sourcePrefix": "I want to make you ",
                          "sourceSuffix": ", darling.",
                          "targetPrefix": "Quiero hacerte muy ",
                          "targetTerm": "feliz",
                          "sourceTerm": "happy",
                          "targetSuffix": ", reina."
                        },
                        {
                          "sourcePrefix": "We wish you a ",
                          "sourceSuffix": " return to your homeland.",
                          "targetPrefix": "Les deseamos un ",
                          "targetTerm": "feliz",
                          "sourceTerm": "happy",
                          "targetSuffix": " regreso a su patria."
                        },
                        {
                          "sourcePrefix": "I am ",
                          "sourceSuffix": " with my size.",
                          "targetPrefix": "Estoy ",
                          "targetTerm": "feliz",
                          "sourceTerm": "happy",
                          "targetSuffix": " con mi tamaño."
                        },
                        {
                          "sourcePrefix": "I never saw him so ",
                          "sourceSuffix": ".",
                          "targetPrefix": "Nunca lo había visto tan ",
                          "targetTerm": "feliz",
                          "sourceTerm": "happy",
                          "targetSuffix": "."
                        },
                        {
                          "sourcePrefix": "On such occasions, he was like a ",
                          "sourceSuffix": " child.",
                          "targetPrefix": "Entonces, él se ponía como un niño ",
                          "targetTerm": "feliz",
                          "sourceTerm": "happy",
                          "targetSuffix": "."
                        },
                        {
                          "sourcePrefix": "If it can still make me ",
                          "sourceSuffix": ".",
                          "targetPrefix": "Si aun me hace ",
                          "targetTerm": "feliz",
                          "sourceTerm": "happy",
                          "targetSuffix": "."
                        },
                        {
                          "sourcePrefix": "You were ",
                          "sourceSuffix": " and you'll never know it.",
                          "targetPrefix": "Fuiste ",
                          "targetTerm": "feliz",
                          "sourceTerm": "happy",
                          "targetSuffix": " y nunca lo sabrás."
                        },
                        {
                          "sourcePrefix": "I am very ",
                          "sourceSuffix": " to see both of you together.",
                          "targetPrefix": "Estoy muy ",
                          "targetTerm": "feliz",
                          "sourceTerm": "happy",
                          "targetSuffix": " de veros juntas."
                        },
                        {
                          "sourcePrefix": "I live to make him ",
                          "sourceSuffix": ".",
                          "targetPrefix": "Vivo para hacerlo ",
                          "targetTerm": "feliz",
                          "sourceTerm": "happy",
                          "targetSuffix": "."
                        },
                        {
                          "sourcePrefix": "He is, therefore, a completely ",
                          "sourceSuffix": " man.",
                          "targetPrefix": "Por lo tanto, es un hombre totalmente ",
                          "targetTerm": "feliz",
                          "sourceTerm": "happy",
                          "targetSuffix": "."
                        },
                        {
                          "sourcePrefix": "Feels like ",
                          "sourceSuffix": " hour to me.",
                          "targetPrefix": "Parece la hora ",
                          "targetTerm": "feliz",
                          "sourceTerm": "happy",
                          "targetSuffix": "."
                        },
                        {
                          "sourcePrefix": "Give me your blessing for a ",
                          "sourceSuffix": " voyage.",
                          "targetPrefix": "Dame tu bendición para un viaje ",
                          "targetTerm": "feliz",
                          "sourceTerm": "happy",
                          "targetSuffix": "."
                        },
                        {
                          "sourcePrefix": "I like it better when you're ",
                          "sourceSuffix": ".",
                          "targetPrefix": "Me gusta más cuando estás ",
                          "targetTerm": "feliz",
                          "sourceTerm": "happy",
                          "targetSuffix": "."
                        },
                        {
                          "sourcePrefix": "Play your blues if it'll make you ",
                          "sourceSuffix": ".",
                          "targetPrefix": "Adelante, toca tu blues si eso te hace ",
                          "targetTerm": "feliz",
                          "sourceTerm": "happy",
                          "targetSuffix": "."
                        },
                        {
                          "sourcePrefix": "He makes me ",
                          "sourceSuffix": ".",
                          "targetPrefix": "Él me hace ",
                          "targetTerm": "feliz",
                          "sourceTerm": "happy",
                          "targetSuffix": "."
                        }
                      ]
                    }
                  ],
                  "3": "On such occasions, he was like a ",
                  "4": "happy",
                  "5": " child.",
                  "6": "Entonces, él se ponía como un niño ",
                  "7": "feliz",
                  "8": "."
                },
                {
                  "0": "happy",
                  "1": "feliz",
                  "2": [
                    {
                      "normalizedSource": "happy",
                      "normalizedTarget": "feliz",
                      "examples": [
                        {
                          "sourcePrefix": "I want to make you ",
                          "sourceSuffix": ", darling.",
                          "targetPrefix": "Quiero hacerte muy ",
                          "targetTerm": "feliz",
                          "sourceTerm": "happy",
                          "targetSuffix": ", reina."
                        },
                        {
                          "sourcePrefix": "We wish you a ",
                          "sourceSuffix": " return to your homeland.",
                          "targetPrefix": "Les deseamos un ",
                          "targetTerm": "feliz",
                          "sourceTerm": "happy",
                          "targetSuffix": " regreso a su patria."
                        },
                        {
                          "sourcePrefix": "I am ",
                          "sourceSuffix": " with my size.",
                          "targetPrefix": "Estoy ",
                          "targetTerm": "feliz",
                          "sourceTerm": "happy",
                          "targetSuffix": " con mi tamaño."
                        },
                        {
                          "sourcePrefix": "I never saw him so ",
                          "sourceSuffix": ".",
                          "targetPrefix": "Nunca lo había visto tan ",
                          "targetTerm": "feliz",
                          "sourceTerm": "happy",
                          "targetSuffix": "."
                        },
                        {
                          "sourcePrefix": "On such occasions, he was like a ",
                          "sourceSuffix": " child.",
                          "targetPrefix": "Entonces, él se ponía como un niño ",
                          "targetTerm": "feliz",
                          "sourceTerm": "happy",
                          "targetSuffix": "."
                        },
                        {
                          "sourcePrefix": "If it can still make me ",
                          "sourceSuffix": ".",
                          "targetPrefix": "Si aun me hace ",
                          "targetTerm": "feliz",
                          "sourceTerm": "happy",
                          "targetSuffix": "."
                        },
                        {
                          "sourcePrefix": "You were ",
                          "sourceSuffix": " and you'll never know it.",
                          "targetPrefix": "Fuiste ",
                          "targetTerm": "feliz",
                          "sourceTerm": "happy",
                          "targetSuffix": " y nunca lo sabrás."
                        },
                        {
                          "sourcePrefix": "I am very ",
                          "sourceSuffix": " to see both of you together.",
                          "targetPrefix": "Estoy muy ",
                          "targetTerm": "feliz",
                          "sourceTerm": "happy",
                          "targetSuffix": " de veros juntas."
                        },
                        {
                          "sourcePrefix": "I live to make him ",
                          "sourceSuffix": ".",
                          "targetPrefix": "Vivo para hacerlo ",
                          "targetTerm": "feliz",
                          "sourceTerm": "happy",
                          "targetSuffix": "."
                        },
                        {
                          "sourcePrefix": "He is, therefore, a completely ",
                          "sourceSuffix": " man.",
                          "targetPrefix": "Por lo tanto, es un hombre totalmente ",
                          "targetTerm": "feliz",
                          "sourceTerm": "happy",
                          "targetSuffix": "."
                        },
                        {
                          "sourcePrefix": "Feels like ",
                          "sourceSuffix": " hour to me.",
                          "targetPrefix": "Parece la hora ",
                          "targetTerm": "feliz",
                          "sourceTerm": "happy",
                          "targetSuffix": "."
                        },
                        {
                          "sourcePrefix": "Give me your blessing for a ",
                          "sourceSuffix": " voyage.",
                          "targetPrefix": "Dame tu bendición para un viaje ",
                          "targetTerm": "feliz",
                          "sourceTerm": "happy",
                          "targetSuffix": "."
                        },
                        {
                          "sourcePrefix": "I like it better when you're ",
                          "sourceSuffix": ".",
                          "targetPrefix": "Me gusta más cuando estás ",
                          "targetTerm": "feliz",
                          "sourceTerm": "happy",
                          "targetSuffix": "."
                        },
                        {
                          "sourcePrefix": "Play your blues if it'll make you ",
                          "sourceSuffix": ".",
                          "targetPrefix": "Adelante, toca tu blues si eso te hace ",
                          "targetTerm": "feliz",
                          "sourceTerm": "happy",
                          "targetSuffix": "."
                        },
                        {
                          "sourcePrefix": "He makes me ",
                          "sourceSuffix": ".",
                          "targetPrefix": "Él me hace ",
                          "targetTerm": "feliz",
                          "sourceTerm": "happy",
                          "targetSuffix": "."
                        }
                      ]
                    }
                  ],
                  "3": "If it can still make me ",
                  "4": "happy",
                  "5": ".",
                  "6": "Si aun me hace ",
                  "7": "feliz",
                  "8": "."
                },
                {
                  "0": "happy",
                  "1": "feliz",
                  "2": [
                    {
                      "normalizedSource": "happy",
                      "normalizedTarget": "feliz",
                      "examples": [
                        {
                          "sourcePrefix": "I want to make you ",
                          "sourceSuffix": ", darling.",
                          "targetPrefix": "Quiero hacerte muy ",
                          "targetTerm": "feliz",
                          "sourceTerm": "happy",
                          "targetSuffix": ", reina."
                        },
                        {
                          "sourcePrefix": "We wish you a ",
                          "sourceSuffix": " return to your homeland.",
                          "targetPrefix": "Les deseamos un ",
                          "targetTerm": "feliz",
                          "sourceTerm": "happy",
                          "targetSuffix": " regreso a su patria."
                        },
                        {
                          "sourcePrefix": "I am ",
                          "sourceSuffix": " with my size.",
                          "targetPrefix": "Estoy ",
                          "targetTerm": "feliz",
                          "sourceTerm": "happy",
                          "targetSuffix": " con mi tamaño."
                        },
                        {
                          "sourcePrefix": "I never saw him so ",
                          "sourceSuffix": ".",
                          "targetPrefix": "Nunca lo había visto tan ",
                          "targetTerm": "feliz",
                          "sourceTerm": "happy",
                          "targetSuffix": "."
                        },
                        {
                          "sourcePrefix": "On such occasions, he was like a ",
                          "sourceSuffix": " child.",
                          "targetPrefix": "Entonces, él se ponía como un niño ",
                          "targetTerm": "feliz",
                          "sourceTerm": "happy",
                          "targetSuffix": "."
                        },
                        {
                          "sourcePrefix": "If it can still make me ",
                          "sourceSuffix": ".",
                          "targetPrefix": "Si aun me hace ",
                          "targetTerm": "feliz",
                          "sourceTerm": "happy",
                          "targetSuffix": "."
                        },
                        {
                          "sourcePrefix": "You were ",
                          "sourceSuffix": " and you'll never know it.",
                          "targetPrefix": "Fuiste ",
                          "targetTerm": "feliz",
                          "sourceTerm": "happy",
                          "targetSuffix": " y nunca lo sabrás."
                        },
                        {
                          "sourcePrefix": "I am very ",
                          "sourceSuffix": " to see both of you together.",
                          "targetPrefix": "Estoy muy ",
                          "targetTerm": "feliz",
                          "sourceTerm": "happy",
                          "targetSuffix": " de veros juntas."
                        },
                        {
                          "sourcePrefix": "I live to make him ",
                          "sourceSuffix": ".",
                          "targetPrefix": "Vivo para hacerlo ",
                          "targetTerm": "feliz",
                          "sourceTerm": "happy",
                          "targetSuffix": "."
                        },
                        {
                          "sourcePrefix": "He is, therefore, a completely ",
                          "sourceSuffix": " man.",
                          "targetPrefix": "Por lo tanto, es un hombre totalmente ",
                          "targetTerm": "feliz",
                          "sourceTerm": "happy",
                          "targetSuffix": "."
                        },
                        {
                          "sourcePrefix": "Feels like ",
                          "sourceSuffix": " hour to me.",
                          "targetPrefix": "Parece la hora ",
                          "targetTerm": "feliz",
                          "sourceTerm": "happy",
                          "targetSuffix": "."
                        },
                        {
                          "sourcePrefix": "Give me your blessing for a ",
                          "sourceSuffix": " voyage.",
                          "targetPrefix": "Dame tu bendición para un viaje ",
                          "targetTerm": "feliz",
                          "sourceTerm": "happy",
                          "targetSuffix": "."
                        },
                        {
                          "sourcePrefix": "I like it better when you're ",
                          "sourceSuffix": ".",
                          "targetPrefix": "Me gusta más cuando estás ",
                          "targetTerm": "feliz",
                          "sourceTerm": "happy",
                          "targetSuffix": "."
                        },
                        {
                          "sourcePrefix": "Play your blues if it'll make you ",
                          "sourceSuffix": ".",
                          "targetPrefix": "Adelante, toca tu blues si eso te hace ",
                          "targetTerm": "feliz",
                          "sourceTerm": "happy",
                          "targetSuffix": "."
                        },
                        {
                          "sourcePrefix": "He makes me ",
                          "sourceSuffix": ".",
                          "targetPrefix": "Él me hace ",
                          "targetTerm": "feliz",
                          "sourceTerm": "happy",
                          "targetSuffix": "."
                        }
                      ]
                    }
                  ],
                  "3": "You were ",
                  "4": "happy",
                  "5": " and you'll never know it.",
                  "6": "Fuiste ",
                  "7": "feliz",
                  "8": " y nunca lo sabrás."
                },
                {
                  "0": "happy",
                  "1": "feliz",
                  "2": [
                    {
                      "normalizedSource": "happy",
                      "normalizedTarget": "feliz",
                      "examples": [
                        {
                          "sourcePrefix": "I want to make you ",
                          "sourceSuffix": ", darling.",
                          "targetPrefix": "Quiero hacerte muy ",
                          "targetTerm": "feliz",
                          "sourceTerm": "happy",
                          "targetSuffix": ", reina."
                        },
                        {
                          "sourcePrefix": "We wish you a ",
                          "sourceSuffix": " return to your homeland.",
                          "targetPrefix": "Les deseamos un ",
                          "targetTerm": "feliz",
                          "sourceTerm": "happy",
                          "targetSuffix": " regreso a su patria."
                        },
                        {
                          "sourcePrefix": "I am ",
                          "sourceSuffix": " with my size.",
                          "targetPrefix": "Estoy ",
                          "targetTerm": "feliz",
                          "sourceTerm": "happy",
                          "targetSuffix": " con mi tamaño."
                        },
                        {
                          "sourcePrefix": "I never saw him so ",
                          "sourceSuffix": ".",
                          "targetPrefix": "Nunca lo había visto tan ",
                          "targetTerm": "feliz",
                          "sourceTerm": "happy",
                          "targetSuffix": "."
                        },
                        {
                          "sourcePrefix": "On such occasions, he was like a ",
                          "sourceSuffix": " child.",
                          "targetPrefix": "Entonces, él se ponía como un niño ",
                          "targetTerm": "feliz",
                          "sourceTerm": "happy",
                          "targetSuffix": "."
                        },
                        {
                          "sourcePrefix": "If it can still make me ",
                          "sourceSuffix": ".",
                          "targetPrefix": "Si aun me hace ",
                          "targetTerm": "feliz",
                          "sourceTerm": "happy",
                          "targetSuffix": "."
                        },
                        {
                          "sourcePrefix": "You were ",
                          "sourceSuffix": " and you'll never know it.",
                          "targetPrefix": "Fuiste ",
                          "targetTerm": "feliz",
                          "sourceTerm": "happy",
                          "targetSuffix": " y nunca lo sabrás."
                        },
                        {
                          "sourcePrefix": "I am very ",
                          "sourceSuffix": " to see both of you together.",
                          "targetPrefix": "Estoy muy ",
                          "targetTerm": "feliz",
                          "sourceTerm": "happy",
                          "targetSuffix": " de veros juntas."
                        },
                        {
                          "sourcePrefix": "I live to make him ",
                          "sourceSuffix": ".",
                          "targetPrefix": "Vivo para hacerlo ",
                          "targetTerm": "feliz",
                          "sourceTerm": "happy",
                          "targetSuffix": "."
                        },
                        {
                          "sourcePrefix": "He is, therefore, a completely ",
                          "sourceSuffix": " man.",
                          "targetPrefix": "Por lo tanto, es un hombre totalmente ",
                          "targetTerm": "feliz",
                          "sourceTerm": "happy",
                          "targetSuffix": "."
                        },
                        {
                          "sourcePrefix": "Feels like ",
                          "sourceSuffix": " hour to me.",
                          "targetPrefix": "Parece la hora ",
                          "targetTerm": "feliz",
                          "sourceTerm": "happy",
                          "targetSuffix": "."
                        },
                        {
                          "sourcePrefix": "Give me your blessing for a ",
                          "sourceSuffix": " voyage.",
                          "targetPrefix": "Dame tu bendición para un viaje ",
                          "targetTerm": "feliz",
                          "sourceTerm": "happy",
                          "targetSuffix": "."
                        },
                        {
                          "sourcePrefix": "I like it better when you're ",
                          "sourceSuffix": ".",
                          "targetPrefix": "Me gusta más cuando estás ",
                          "targetTerm": "feliz",
                          "sourceTerm": "happy",
                          "targetSuffix": "."
                        },
                        {
                          "sourcePrefix": "Play your blues if it'll make you ",
                          "sourceSuffix": ".",
                          "targetPrefix": "Adelante, toca tu blues si eso te hace ",
                          "targetTerm": "feliz",
                          "sourceTerm": "happy",
                          "targetSuffix": "."
                        },
                        {
                          "sourcePrefix": "He makes me ",
                          "sourceSuffix": ".",
                          "targetPrefix": "Él me hace ",
                          "targetTerm": "feliz",
                          "sourceTerm": "happy",
                          "targetSuffix": "."
                        }
                      ]
                    }
                  ],
                  "3": "I am very ",
                  "4": "happy",
                  "5": " to see both of you together.",
                  "6": "Estoy muy ",
                  "7": "feliz",
                  "8": " de veros juntas."
                },
                {
                  "0": "happy",
                  "1": "feliz",
                  "2": [
                    {
                      "normalizedSource": "happy",
                      "normalizedTarget": "feliz",
                      "examples": [
                        {
                          "sourcePrefix": "I want to make you ",
                          "sourceSuffix": ", darling.",
                          "targetPrefix": "Quiero hacerte muy ",
                          "targetTerm": "feliz",
                          "sourceTerm": "happy",
                          "targetSuffix": ", reina."
                        },
                        {
                          "sourcePrefix": "We wish you a ",
                          "sourceSuffix": " return to your homeland.",
                          "targetPrefix": "Les deseamos un ",
                          "targetTerm": "feliz",
                          "sourceTerm": "happy",
                          "targetSuffix": " regreso a su patria."
                        },
                        {
                          "sourcePrefix": "I am ",
                          "sourceSuffix": " with my size.",
                          "targetPrefix": "Estoy ",
                          "targetTerm": "feliz",
                          "sourceTerm": "happy",
                          "targetSuffix": " con mi tamaño."
                        },
                        {
                          "sourcePrefix": "I never saw him so ",
                          "sourceSuffix": ".",
                          "targetPrefix": "Nunca lo había visto tan ",
                          "targetTerm": "feliz",
                          "sourceTerm": "happy",
                          "targetSuffix": "."
                        },
                        {
                          "sourcePrefix": "On such occasions, he was like a ",
                          "sourceSuffix": " child.",
                          "targetPrefix": "Entonces, él se ponía como un niño ",
                          "targetTerm": "feliz",
                          "sourceTerm": "happy",
                          "targetSuffix": "."
                        },
                        {
                          "sourcePrefix": "If it can still make me ",
                          "sourceSuffix": ".",
                          "targetPrefix": "Si aun me hace ",
                          "targetTerm": "feliz",
                          "sourceTerm": "happy",
                          "targetSuffix": "."
                        },
                        {
                          "sourcePrefix": "You were ",
                          "sourceSuffix": " and you'll never know it.",
                          "targetPrefix": "Fuiste ",
                          "targetTerm": "feliz",
                          "sourceTerm": "happy",
                          "targetSuffix": " y nunca lo sabrás."
                        },
                        {
                          "sourcePrefix": "I am very ",
                          "sourceSuffix": " to see both of you together.",
                          "targetPrefix": "Estoy muy ",
                          "targetTerm": "feliz",
                          "sourceTerm": "happy",
                          "targetSuffix": " de veros juntas."
                        },
                        {
                          "sourcePrefix": "I live to make him ",
                          "sourceSuffix": ".",
                          "targetPrefix": "Vivo para hacerlo ",
                          "targetTerm": "feliz",
                          "sourceTerm": "happy",
                          "targetSuffix": "."
                        },
                        {
                          "sourcePrefix": "He is, therefore, a completely ",
                          "sourceSuffix": " man.",
                          "targetPrefix": "Por lo tanto, es un hombre totalmente ",
                          "targetTerm": "feliz",
                          "sourceTerm": "happy",
                          "targetSuffix": "."
                        },
                        {
                          "sourcePrefix": "Feels like ",
                          "sourceSuffix": " hour to me.",
                          "targetPrefix": "Parece la hora ",
                          "targetTerm": "feliz",
                          "sourceTerm": "happy",
                          "targetSuffix": "."
                        },
                        {
                          "sourcePrefix": "Give me your blessing for a ",
                          "sourceSuffix": " voyage.",
                          "targetPrefix": "Dame tu bendición para un viaje ",
                          "targetTerm": "feliz",
                          "sourceTerm": "happy",
                          "targetSuffix": "."
                        },
                        {
                          "sourcePrefix": "I like it better when you're ",
                          "sourceSuffix": ".",
                          "targetPrefix": "Me gusta más cuando estás ",
                          "targetTerm": "feliz",
                          "sourceTerm": "happy",
                          "targetSuffix": "."
                        },
                        {
                          "sourcePrefix": "Play your blues if it'll make you ",
                          "sourceSuffix": ".",
                          "targetPrefix": "Adelante, toca tu blues si eso te hace ",
                          "targetTerm": "feliz",
                          "sourceTerm": "happy",
                          "targetSuffix": "."
                        },
                        {
                          "sourcePrefix": "He makes me ",
                          "sourceSuffix": ".",
                          "targetPrefix": "Él me hace ",
                          "targetTerm": "feliz",
                          "sourceTerm": "happy",
                          "targetSuffix": "."
                        }
                      ]
                    }
                  ],
                  "3": "I live to make him ",
                  "4": "happy",
                  "5": ".",
                  "6": "Vivo para hacerlo ",
                  "7": "feliz",
                  "8": "."
                },
                {
                  "0": "happy",
                  "1": "feliz",
                  "2": [
                    {
                      "normalizedSource": "happy",
                      "normalizedTarget": "feliz",
                      "examples": [
                        {
                          "sourcePrefix": "I want to make you ",
                          "sourceSuffix": ", darling.",
                          "targetPrefix": "Quiero hacerte muy ",
                          "targetTerm": "feliz",
                          "sourceTerm": "happy",
                          "targetSuffix": ", reina."
                        },
                        {
                          "sourcePrefix": "We wish you a ",
                          "sourceSuffix": " return to your homeland.",
                          "targetPrefix": "Les deseamos un ",
                          "targetTerm": "feliz",
                          "sourceTerm": "happy",
                          "targetSuffix": " regreso a su patria."
                        },
                        {
                          "sourcePrefix": "I am ",
                          "sourceSuffix": " with my size.",
                          "targetPrefix": "Estoy ",
                          "targetTerm": "feliz",
                          "sourceTerm": "happy",
                          "targetSuffix": " con mi tamaño."
                        },
                        {
                          "sourcePrefix": "I never saw him so ",
                          "sourceSuffix": ".",
                          "targetPrefix": "Nunca lo había visto tan ",
                          "targetTerm": "feliz",
                          "sourceTerm": "happy",
                          "targetSuffix": "."
                        },
                        {
                          "sourcePrefix": "On such occasions, he was like a ",
                          "sourceSuffix": " child.",
                          "targetPrefix": "Entonces, él se ponía como un niño ",
                          "targetTerm": "feliz",
                          "sourceTerm": "happy",
                          "targetSuffix": "."
                        },
                        {
                          "sourcePrefix": "If it can still make me ",
                          "sourceSuffix": ".",
                          "targetPrefix": "Si aun me hace ",
                          "targetTerm": "feliz",
                          "sourceTerm": "happy",
                          "targetSuffix": "."
                        },
                        {
                          "sourcePrefix": "You were ",
                          "sourceSuffix": " and you'll never know it.",
                          "targetPrefix": "Fuiste ",
                          "targetTerm": "feliz",
                          "sourceTerm": "happy",
                          "targetSuffix": " y nunca lo sabrás."
                        },
                        {
                          "sourcePrefix": "I am very ",
                          "sourceSuffix": " to see both of you together.",
                          "targetPrefix": "Estoy muy ",
                          "targetTerm": "feliz",
                          "sourceTerm": "happy",
                          "targetSuffix": " de veros juntas."
                        },
                        {
                          "sourcePrefix": "I live to make him ",
                          "sourceSuffix": ".",
                          "targetPrefix": "Vivo para hacerlo ",
                          "targetTerm": "feliz",
                          "sourceTerm": "happy",
                          "targetSuffix": "."
                        },
                        {
                          "sourcePrefix": "He is, therefore, a completely ",
                          "sourceSuffix": " man.",
                          "targetPrefix": "Por lo tanto, es un hombre totalmente ",
                          "targetTerm": "feliz",
                          "sourceTerm": "happy",
                          "targetSuffix": "."
                        },
                        {
                          "sourcePrefix": "Feels like ",
                          "sourceSuffix": " hour to me.",
                          "targetPrefix": "Parece la hora ",
                          "targetTerm": "feliz",
                          "sourceTerm": "happy",
                          "targetSuffix": "."
                        },
                        {
                          "sourcePrefix": "Give me your blessing for a ",
                          "sourceSuffix": " voyage.",
                          "targetPrefix": "Dame tu bendición para un viaje ",
                          "targetTerm": "feliz",
                          "sourceTerm": "happy",
                          "targetSuffix": "."
                        },
                        {
                          "sourcePrefix": "I like it better when you're ",
                          "sourceSuffix": ".",
                          "targetPrefix": "Me gusta más cuando estás ",
                          "targetTerm": "feliz",
                          "sourceTerm": "happy",
                          "targetSuffix": "."
                        },
                        {
                          "sourcePrefix": "Play your blues if it'll make you ",
                          "sourceSuffix": ".",
                          "targetPrefix": "Adelante, toca tu blues si eso te hace ",
                          "targetTerm": "feliz",
                          "sourceTerm": "happy",
                          "targetSuffix": "."
                        },
                        {
                          "sourcePrefix": "He makes me ",
                          "sourceSuffix": ".",
                          "targetPrefix": "Él me hace ",
                          "targetTerm": "feliz",
                          "sourceTerm": "happy",
                          "targetSuffix": "."
                        }
                      ]
                    }
                  ],
                  "3": "He is, therefore, a completely ",
                  "4": "happy",
                  "5": " man.",
                  "6": "Por lo tanto, es un hombre totalmente ",
                  "7": "feliz",
                  "8": "."
                },
                {
                  "0": "happy",
                  "1": "feliz",
                  "2": [
                    {
                      "normalizedSource": "happy",
                      "normalizedTarget": "feliz",
                      "examples": [
                        {
                          "sourcePrefix": "I want to make you ",
                          "sourceSuffix": ", darling.",
                          "targetPrefix": "Quiero hacerte muy ",
                          "targetTerm": "feliz",
                          "sourceTerm": "happy",
                          "targetSuffix": ", reina."
                        },
                        {
                          "sourcePrefix": "We wish you a ",
                          "sourceSuffix": " return to your homeland.",
                          "targetPrefix": "Les deseamos un ",
                          "targetTerm": "feliz",
                          "sourceTerm": "happy",
                          "targetSuffix": " regreso a su patria."
                        },
                        {
                          "sourcePrefix": "I am ",
                          "sourceSuffix": " with my size.",
                          "targetPrefix": "Estoy ",
                          "targetTerm": "feliz",
                          "sourceTerm": "happy",
                          "targetSuffix": " con mi tamaño."
                        },
                        {
                          "sourcePrefix": "I never saw him so ",
                          "sourceSuffix": ".",
                          "targetPrefix": "Nunca lo había visto tan ",
                          "targetTerm": "feliz",
                          "sourceTerm": "happy",
                          "targetSuffix": "."
                        },
                        {
                          "sourcePrefix": "On such occasions, he was like a ",
                          "sourceSuffix": " child.",
                          "targetPrefix": "Entonces, él se ponía como un niño ",
                          "targetTerm": "feliz",
                          "sourceTerm": "happy",
                          "targetSuffix": "."
                        },
                        {
                          "sourcePrefix": "If it can still make me ",
                          "sourceSuffix": ".",
                          "targetPrefix": "Si aun me hace ",
                          "targetTerm": "feliz",
                          "sourceTerm": "happy",
                          "targetSuffix": "."
                        },
                        {
                          "sourcePrefix": "You were ",
                          "sourceSuffix": " and you'll never know it.",
                          "targetPrefix": "Fuiste ",
                          "targetTerm": "feliz",
                          "sourceTerm": "happy",
                          "targetSuffix": " y nunca lo sabrás."
                        },
                        {
                          "sourcePrefix": "I am very ",
                          "sourceSuffix": " to see both of you together.",
                          "targetPrefix": "Estoy muy ",
                          "targetTerm": "feliz",
                          "sourceTerm": "happy",
                          "targetSuffix": " de veros juntas."
                        },
                        {
                          "sourcePrefix": "I live to make him ",
                          "sourceSuffix": ".",
                          "targetPrefix": "Vivo para hacerlo ",
                          "targetTerm": "feliz",
                          "sourceTerm": "happy",
                          "targetSuffix": "."
                        },
                        {
                          "sourcePrefix": "He is, therefore, a completely ",
                          "sourceSuffix": " man.",
                          "targetPrefix": "Por lo tanto, es un hombre totalmente ",
                          "targetTerm": "feliz",
                          "sourceTerm": "happy",
                          "targetSuffix": "."
                        },
                        {
                          "sourcePrefix": "Feels like ",
                          "sourceSuffix": " hour to me.",
                          "targetPrefix": "Parece la hora ",
                          "targetTerm": "feliz",
                          "sourceTerm": "happy",
                          "targetSuffix": "."
                        },
                        {
                          "sourcePrefix": "Give me your blessing for a ",
                          "sourceSuffix": " voyage.",
                          "targetPrefix": "Dame tu bendición para un viaje ",
                          "targetTerm": "feliz",
                          "sourceTerm": "happy",
                          "targetSuffix": "."
                        },
                        {
                          "sourcePrefix": "I like it better when you're ",
                          "sourceSuffix": ".",
                          "targetPrefix": "Me gusta más cuando estás ",
                          "targetTerm": "feliz",
                          "sourceTerm": "happy",
                          "targetSuffix": "."
                        },
                        {
                          "sourcePrefix": "Play your blues if it'll make you ",
                          "sourceSuffix": ".",
                          "targetPrefix": "Adelante, toca tu blues si eso te hace ",
                          "targetTerm": "feliz",
                          "sourceTerm": "happy",
                          "targetSuffix": "."
                        },
                        {
                          "sourcePrefix": "He makes me ",
                          "sourceSuffix": ".",
                          "targetPrefix": "Él me hace ",
                          "targetTerm": "feliz",
                          "sourceTerm": "happy",
                          "targetSuffix": "."
                        }
                      ]
                    }
                  ],
                  "3": "Feels like ",
                  "4": "happy",
                  "5": " hour to me.",
                  "6": "Parece la hora ",
                  "7": "feliz",
                  "8": "."
                },
                {
                  "0": "happy",
                  "1": "feliz",
                  "2": [
                    {
                      "normalizedSource": "happy",
                      "normalizedTarget": "feliz",
                      "examples": [
                        {
                          "sourcePrefix": "I want to make you ",
                          "sourceSuffix": ", darling.",
                          "targetPrefix": "Quiero hacerte muy ",
                          "targetTerm": "feliz",
                          "sourceTerm": "happy",
                          "targetSuffix": ", reina."
                        },
                        {
                          "sourcePrefix": "We wish you a ",
                          "sourceSuffix": " return to your homeland.",
                          "targetPrefix": "Les deseamos un ",
                          "targetTerm": "feliz",
                          "sourceTerm": "happy",
                          "targetSuffix": " regreso a su patria."
                        },
                        {
                          "sourcePrefix": "I am ",
                          "sourceSuffix": " with my size.",
                          "targetPrefix": "Estoy ",
                          "targetTerm": "feliz",
                          "sourceTerm": "happy",
                          "targetSuffix": " con mi tamaño."
                        },
                        {
                          "sourcePrefix": "I never saw him so ",
                          "sourceSuffix": ".",
                          "targetPrefix": "Nunca lo había visto tan ",
                          "targetTerm": "feliz",
                          "sourceTerm": "happy",
                          "targetSuffix": "."
                        },
                        {
                          "sourcePrefix": "On such occasions, he was like a ",
                          "sourceSuffix": " child.",
                          "targetPrefix": "Entonces, él se ponía como un niño ",
                          "targetTerm": "feliz",
                          "sourceTerm": "happy",
                          "targetSuffix": "."
                        },
                        {
                          "sourcePrefix": "If it can still make me ",
                          "sourceSuffix": ".",
                          "targetPrefix": "Si aun me hace ",
                          "targetTerm": "feliz",
                          "sourceTerm": "happy",
                          "targetSuffix": "."
                        },
                        {
                          "sourcePrefix": "You were ",
                          "sourceSuffix": " and you'll never know it.",
                          "targetPrefix": "Fuiste ",
                          "targetTerm": "feliz",
                          "sourceTerm": "happy",
                          "targetSuffix": " y nunca lo sabrás."
                        },
                        {
                          "sourcePrefix": "I am very ",
                          "sourceSuffix": " to see both of you together.",
                          "targetPrefix": "Estoy muy ",
                          "targetTerm": "feliz",
                          "sourceTerm": "happy",
                          "targetSuffix": " de veros juntas."
                        },
                        {
                          "sourcePrefix": "I live to make him ",
                          "sourceSuffix": ".",
                          "targetPrefix": "Vivo para hacerlo ",
                          "targetTerm": "feliz",
                          "sourceTerm": "happy",
                          "targetSuffix": "."
                        },
                        {
                          "sourcePrefix": "He is, therefore, a completely ",
                          "sourceSuffix": " man.",
                          "targetPrefix": "Por lo tanto, es un hombre totalmente ",
                          "targetTerm": "feliz",
                          "sourceTerm": "happy",
                          "targetSuffix": "."
                        },
                        {
                          "sourcePrefix": "Feels like ",
                          "sourceSuffix": " hour to me.",
                          "targetPrefix": "Parece la hora ",
                          "targetTerm": "feliz",
                          "sourceTerm": "happy",
                          "targetSuffix": "."
                        },
                        {
                          "sourcePrefix": "Give me your blessing for a ",
                          "sourceSuffix": " voyage.",
                          "targetPrefix": "Dame tu bendición para un viaje ",
                          "targetTerm": "feliz",
                          "sourceTerm": "happy",
                          "targetSuffix": "."
                        },
                        {
                          "sourcePrefix": "I like it better when you're ",
                          "sourceSuffix": ".",
                          "targetPrefix": "Me gusta más cuando estás ",
                          "targetTerm": "feliz",
                          "sourceTerm": "happy",
                          "targetSuffix": "."
                        },
                        {
                          "sourcePrefix": "Play your blues if it'll make you ",
                          "sourceSuffix": ".",
                          "targetPrefix": "Adelante, toca tu blues si eso te hace ",
                          "targetTerm": "feliz",
                          "sourceTerm": "happy",
                          "targetSuffix": "."
                        },
                        {
                          "sourcePrefix": "He makes me ",
                          "sourceSuffix": ".",
                          "targetPrefix": "Él me hace ",
                          "targetTerm": "feliz",
                          "sourceTerm": "happy",
                          "targetSuffix": "."
                        }
                      ]
                    }
                  ],
                  "3": "Give me your blessing for a ",
                  "4": "happy",
                  "5": " voyage.",
                  "6": "Dame tu bendición para un viaje ",
                  "7": "feliz",
                  "8": "."
                },
                {
                  "0": "happy",
                  "1": "feliz",
                  "2": [
                    {
                      "normalizedSource": "happy",
                      "normalizedTarget": "feliz",
                      "examples": [
                        {
                          "sourcePrefix": "I want to make you ",
                          "sourceSuffix": ", darling.",
                          "targetPrefix": "Quiero hacerte muy ",
                          "targetTerm": "feliz",
                          "sourceTerm": "happy",
                          "targetSuffix": ", reina."
                        },
                        {
                          "sourcePrefix": "We wish you a ",
                          "sourceSuffix": " return to your homeland.",
                          "targetPrefix": "Les deseamos un ",
                          "targetTerm": "feliz",
                          "sourceTerm": "happy",
                          "targetSuffix": " regreso a su patria."
                        },
                        {
                          "sourcePrefix": "I am ",
                          "sourceSuffix": " with my size.",
                          "targetPrefix": "Estoy ",
                          "targetTerm": "feliz",
                          "sourceTerm": "happy",
                          "targetSuffix": " con mi tamaño."
                        },
                        {
                          "sourcePrefix": "I never saw him so ",
                          "sourceSuffix": ".",
                          "targetPrefix": "Nunca lo había visto tan ",
                          "targetTerm": "feliz",
                          "sourceTerm": "happy",
                          "targetSuffix": "."
                        },
                        {
                          "sourcePrefix": "On such occasions, he was like a ",
                          "sourceSuffix": " child.",
                          "targetPrefix": "Entonces, él se ponía como un niño ",
                          "targetTerm": "feliz",
                          "sourceTerm": "happy",
                          "targetSuffix": "."
                        },
                        {
                          "sourcePrefix": "If it can still make me ",
                          "sourceSuffix": ".",
                          "targetPrefix": "Si aun me hace ",
                          "targetTerm": "feliz",
                          "sourceTerm": "happy",
                          "targetSuffix": "."
                        },
                        {
                          "sourcePrefix": "You were ",
                          "sourceSuffix": " and you'll never know it.",
                          "targetPrefix": "Fuiste ",
                          "targetTerm": "feliz",
                          "sourceTerm": "happy",
                          "targetSuffix": " y nunca lo sabrás."
                        },
                        {
                          "sourcePrefix": "I am very ",
                          "sourceSuffix": " to see both of you together.",
                          "targetPrefix": "Estoy muy ",
                          "targetTerm": "feliz",
                          "sourceTerm": "happy",
                          "targetSuffix": " de veros juntas."
                        },
                        {
                          "sourcePrefix": "I live to make him ",
                          "sourceSuffix": ".",
                          "targetPrefix": "Vivo para hacerlo ",
                          "targetTerm": "feliz",
                          "sourceTerm": "happy",
                          "targetSuffix": "."
                        },
                        {
                          "sourcePrefix": "He is, therefore, a completely ",
                          "sourceSuffix": " man.",
                          "targetPrefix": "Por lo tanto, es un hombre totalmente ",
                          "targetTerm": "feliz",
                          "sourceTerm": "happy",
                          "targetSuffix": "."
                        },
                        {
                          "sourcePrefix": "Feels like ",
                          "sourceSuffix": " hour to me.",
                          "targetPrefix": "Parece la hora ",
                          "targetTerm": "feliz",
                          "sourceTerm": "happy",
                          "targetSuffix": "."
                        },
                        {
                          "sourcePrefix": "Give me your blessing for a ",
                          "sourceSuffix": " voyage.",
                          "targetPrefix": "Dame tu bendición para un viaje ",
                          "targetTerm": "feliz",
                          "sourceTerm": "happy",
                          "targetSuffix": "."
                        },
                        {
                          "sourcePrefix": "I like it better when you're ",
                          "sourceSuffix": ".",
                          "targetPrefix": "Me gusta más cuando estás ",
                          "targetTerm": "feliz",
                          "sourceTerm": "happy",
                          "targetSuffix": "."
                        },
                        {
                          "sourcePrefix": "Play your blues if it'll make you ",
                          "sourceSuffix": ".",
                          "targetPrefix": "Adelante, toca tu blues si eso te hace ",
                          "targetTerm": "feliz",
                          "sourceTerm": "happy",
                          "targetSuffix": "."
                        },
                        {
                          "sourcePrefix": "He makes me ",
                          "sourceSuffix": ".",
                          "targetPrefix": "Él me hace ",
                          "targetTerm": "feliz",
                          "sourceTerm": "happy",
                          "targetSuffix": "."
                        }
                      ]
                    }
                  ],
                  "3": "I like it better when you're ",
                  "4": "happy",
                  "5": ".",
                  "6": "Me gusta más cuando estás ",
                  "7": "feliz",
                  "8": "."
                },
                {
                  "0": "happy",
                  "1": "feliz",
                  "2": [
                    {
                      "normalizedSource": "happy",
                      "normalizedTarget": "feliz",
                      "examples": [
                        {
                          "sourcePrefix": "I want to make you ",
                          "sourceSuffix": ", darling.",
                          "targetPrefix": "Quiero hacerte muy ",
                          "targetTerm": "feliz",
                          "sourceTerm": "happy",
                          "targetSuffix": ", reina."
                        },
                        {
                          "sourcePrefix": "We wish you a ",
                          "sourceSuffix": " return to your homeland.",
                          "targetPrefix": "Les deseamos un ",
                          "targetTerm": "feliz",
                          "sourceTerm": "happy",
                          "targetSuffix": " regreso a su patria."
                        },
                        {
                          "sourcePrefix": "I am ",
                          "sourceSuffix": " with my size.",
                          "targetPrefix": "Estoy ",
                          "targetTerm": "feliz",
                          "sourceTerm": "happy",
                          "targetSuffix": " con mi tamaño."
                        },
                        {
                          "sourcePrefix": "I never saw him so ",
                          "sourceSuffix": ".",
                          "targetPrefix": "Nunca lo había visto tan ",
                          "targetTerm": "feliz",
                          "sourceTerm": "happy",
                          "targetSuffix": "."
                        },
                        {
                          "sourcePrefix": "On such occasions, he was like a ",
                          "sourceSuffix": " child.",
                          "targetPrefix": "Entonces, él se ponía como un niño ",
                          "targetTerm": "feliz",
                          "sourceTerm": "happy",
                          "targetSuffix": "."
                        },
                        {
                          "sourcePrefix": "If it can still make me ",
                          "sourceSuffix": ".",
                          "targetPrefix": "Si aun me hace ",
                          "targetTerm": "feliz",
                          "sourceTerm": "happy",
                          "targetSuffix": "."
                        },
                        {
                          "sourcePrefix": "You were ",
                          "sourceSuffix": " and you'll never know it.",
                          "targetPrefix": "Fuiste ",
                          "targetTerm": "feliz",
                          "sourceTerm": "happy",
                          "targetSuffix": " y nunca lo sabrás."
                        },
                        {
                          "sourcePrefix": "I am very ",
                          "sourceSuffix": " to see both of you together.",
                          "targetPrefix": "Estoy muy ",
                          "targetTerm": "feliz",
                          "sourceTerm": "happy",
                          "targetSuffix": " de veros juntas."
                        },
                        {
                          "sourcePrefix": "I live to make him ",
                          "sourceSuffix": ".",
                          "targetPrefix": "Vivo para hacerlo ",
                          "targetTerm": "feliz",
                          "sourceTerm": "happy",
                          "targetSuffix": "."
                        },
                        {
                          "sourcePrefix": "He is, therefore, a completely ",
                          "sourceSuffix": " man.",
                          "targetPrefix": "Por lo tanto, es un hombre totalmente ",
                          "targetTerm": "feliz",
                          "sourceTerm": "happy",
                          "targetSuffix": "."
                        },
                        {
                          "sourcePrefix": "Feels like ",
                          "sourceSuffix": " hour to me.",
                          "targetPrefix": "Parece la hora ",
                          "targetTerm": "feliz",
                          "sourceTerm": "happy",
                          "targetSuffix": "."
                        },
                        {
                          "sourcePrefix": "Give me your blessing for a ",
                          "sourceSuffix": " voyage.",
                          "targetPrefix": "Dame tu bendición para un viaje ",
                          "targetTerm": "feliz",
                          "sourceTerm": "happy",
                          "targetSuffix": "."
                        },
                        {
                          "sourcePrefix": "I like it better when you're ",
                          "sourceSuffix": ".",
                          "targetPrefix": "Me gusta más cuando estás ",
                          "targetTerm": "feliz",
                          "sourceTerm": "happy",
                          "targetSuffix": "."
                        },
                        {
                          "sourcePrefix": "Play your blues if it'll make you ",
                          "sourceSuffix": ".",
                          "targetPrefix": "Adelante, toca tu blues si eso te hace ",
                          "targetTerm": "feliz",
                          "sourceTerm": "happy",
                          "targetSuffix": "."
                        },
                        {
                          "sourcePrefix": "He makes me ",
                          "sourceSuffix": ".",
                          "targetPrefix": "Él me hace ",
                          "targetTerm": "feliz",
                          "sourceTerm": "happy",
                          "targetSuffix": "."
                        }
                      ]
                    }
                  ],
                  "3": "Play your blues if it'll make you ",
                  "4": "happy",
                  "5": ".",
                  "6": "Adelante, toca tu blues si eso te hace ",
                  "7": "feliz",
                  "8": "."
                },
                {
                  "0": "happy",
                  "1": "feliz",
                  "2": [
                    {
                      "normalizedSource": "happy",
                      "normalizedTarget": "feliz",
                      "examples": [
                        {
                          "sourcePrefix": "I want to make you ",
                          "sourceSuffix": ", darling.",
                          "targetPrefix": "Quiero hacerte muy ",
                          "targetTerm": "feliz",
                          "sourceTerm": "happy",
                          "targetSuffix": ", reina."
                        },
                        {
                          "sourcePrefix": "We wish you a ",
                          "sourceSuffix": " return to your homeland.",
                          "targetPrefix": "Les deseamos un ",
                          "targetTerm": "feliz",
                          "sourceTerm": "happy",
                          "targetSuffix": " regreso a su patria."
                        },
                        {
                          "sourcePrefix": "I am ",
                          "sourceSuffix": " with my size.",
                          "targetPrefix": "Estoy ",
                          "targetTerm": "feliz",
                          "sourceTerm": "happy",
                          "targetSuffix": " con mi tamaño."
                        },
                        {
                          "sourcePrefix": "I never saw him so ",
                          "sourceSuffix": ".",
                          "targetPrefix": "Nunca lo había visto tan ",
                          "targetTerm": "feliz",
                          "sourceTerm": "happy",
                          "targetSuffix": "."
                        },
                        {
                          "sourcePrefix": "On such occasions, he was like a ",
                          "sourceSuffix": " child.",
                          "targetPrefix": "Entonces, él se ponía como un niño ",
                          "targetTerm": "feliz",
                          "sourceTerm": "happy",
                          "targetSuffix": "."
                        },
                        {
                          "sourcePrefix": "If it can still make me ",
                          "sourceSuffix": ".",
                          "targetPrefix": "Si aun me hace ",
                          "targetTerm": "feliz",
                          "sourceTerm": "happy",
                          "targetSuffix": "."
                        },
                        {
                          "sourcePrefix": "You were ",
                          "sourceSuffix": " and you'll never know it.",
                          "targetPrefix": "Fuiste ",
                          "targetTerm": "feliz",
                          "sourceTerm": "happy",
                          "targetSuffix": " y nunca lo sabrás."
                        },
                        {
                          "sourcePrefix": "I am very ",
                          "sourceSuffix": " to see both of you together.",
                          "targetPrefix": "Estoy muy ",
                          "targetTerm": "feliz",
                          "sourceTerm": "happy",
                          "targetSuffix": " de veros juntas."
                        },
                        {
                          "sourcePrefix": "I live to make him ",
                          "sourceSuffix": ".",
                          "targetPrefix": "Vivo para hacerlo ",
                          "targetTerm": "feliz",
                          "sourceTerm": "happy",
                          "targetSuffix": "."
                        },
                        {
                          "sourcePrefix": "He is, therefore, a completely ",
                          "sourceSuffix": " man.",
                          "targetPrefix": "Por lo tanto, es un hombre totalmente ",
                          "targetTerm": "feliz",
                          "sourceTerm": "happy",
                          "targetSuffix": "."
                        },
                        {
                          "sourcePrefix": "Feels like ",
                          "sourceSuffix": " hour to me.",
                          "targetPrefix": "Parece la hora ",
                          "targetTerm": "feliz",
                          "sourceTerm": "happy",
                          "targetSuffix": "."
                        },
                        {
                          "sourcePrefix": "Give me your blessing for a ",
                          "sourceSuffix": " voyage.",
                          "targetPrefix": "Dame tu bendición para un viaje ",
                          "targetTerm": "feliz",
                          "sourceTerm": "happy",
                          "targetSuffix": "."
                        },
                        {
                          "sourcePrefix": "I like it better when you're ",
                          "sourceSuffix": ".",
                          "targetPrefix": "Me gusta más cuando estás ",
                          "targetTerm": "feliz",
                          "sourceTerm": "happy",
                          "targetSuffix": "."
                        },
                        {
                          "sourcePrefix": "Play your blues if it'll make you ",
                          "sourceSuffix": ".",
                          "targetPrefix": "Adelante, toca tu blues si eso te hace ",
                          "targetTerm": "feliz",
                          "sourceTerm": "happy",
                          "targetSuffix": "."
                        },
                        {
                          "sourcePrefix": "He makes me ",
                          "sourceSuffix": ".",
                          "targetPrefix": "Él me hace ",
                          "targetTerm": "feliz",
                          "sourceTerm": "happy",
                          "targetSuffix": "."
                        }
                      ]
                    }
                  ],
                  "3": "He makes me ",
                  "4": "happy",
                  "5": ".",
                  "6": "Él me hace ",
                  "7": "feliz",
                  "8": "."
                },
                {
                  "0": "unpredictable",
                  "1": "impredecible",
                  "2": [
                    {
                      "normalizedSource": "unpredictable",
                      "normalizedTarget": "impredecible",
                      "examples": [
                        {
                          "sourcePrefix": "Laughter is very ",
                          "sourceSuffix": ".",
                          "targetPrefix": "La risa es ",
                          "targetTerm": "impredecible",
                          "sourceTerm": "unpredictable",
                          "targetSuffix": "."
                        },
                        {
                          "sourcePrefix": "Because doing it is both dangerous and ",
                          "sourceSuffix": ".",
                          "targetPrefix": "Porque hacerlo es peligroso a la par que ",
                          "targetTerm": "impredecible",
                          "sourceTerm": "unpredictable",
                          "targetSuffix": "."
                        },
                        {
                          "sourcePrefix": "A nebula can be very ",
                          "sourceSuffix": ".",
                          "targetPrefix": "Una nebulosa puede ser más que ",
                          "targetTerm": "impredecible",
                          "sourceTerm": "unpredictable",
                          "targetSuffix": "."
                        },
                        {
                          "sourcePrefix": "The outcome is variable and ",
                          "sourceSuffix": ".",
                          "targetPrefix": "El pronóstico es variable e ",
                          "targetTerm": "impredecible",
                          "sourceTerm": "unpredictable",
                          "targetSuffix": "."
                        },
                        {
                          "sourcePrefix": "A powerful and ",
                          "sourceSuffix": " entity.",
                          "targetPrefix": "Una entidad ",
                          "targetTerm": "impredecible",
                          "sourceTerm": "unpredictable",
                          "targetSuffix": " y poderosa."
                        }
                      ]
                    }
                  ],
                  "3": "Laughter is very ",
                  "4": "unpredictable",
                  "5": ".",
                  "6": "La risa es ",
                  "7": "impredecible",
                  "8": "."
                },
                {
                  "0": "unpredictable",
                  "1": "impredecible",
                  "2": [
                    {
                      "normalizedSource": "unpredictable",
                      "normalizedTarget": "impredecible",
                      "examples": [
                        {
                          "sourcePrefix": "Laughter is very ",
                          "sourceSuffix": ".",
                          "targetPrefix": "La risa es ",
                          "targetTerm": "impredecible",
                          "sourceTerm": "unpredictable",
                          "targetSuffix": "."
                        },
                        {
                          "sourcePrefix": "Because doing it is both dangerous and ",
                          "sourceSuffix": ".",
                          "targetPrefix": "Porque hacerlo es peligroso a la par que ",
                          "targetTerm": "impredecible",
                          "sourceTerm": "unpredictable",
                          "targetSuffix": "."
                        },
                        {
                          "sourcePrefix": "A nebula can be very ",
                          "sourceSuffix": ".",
                          "targetPrefix": "Una nebulosa puede ser más que ",
                          "targetTerm": "impredecible",
                          "sourceTerm": "unpredictable",
                          "targetSuffix": "."
                        },
                        {
                          "sourcePrefix": "The outcome is variable and ",
                          "sourceSuffix": ".",
                          "targetPrefix": "El pronóstico es variable e ",
                          "targetTerm": "impredecible",
                          "sourceTerm": "unpredictable",
                          "targetSuffix": "."
                        },
                        {
                          "sourcePrefix": "A powerful and ",
                          "sourceSuffix": " entity.",
                          "targetPrefix": "Una entidad ",
                          "targetTerm": "impredecible",
                          "sourceTerm": "unpredictable",
                          "targetSuffix": " y poderosa."
                        }
                      ]
                    }
                  ],
                  "3": "Because doing it is both dangerous and ",
                  "4": "unpredictable",
                  "5": ".",
                  "6": "Porque hacerlo es peligroso a la par que ",
                  "7": "impredecible",
                  "8": "."
                },
                {
                  "0": "unpredictable",
                  "1": "impredecible",
                  "2": [
                    {
                      "normalizedSource": "unpredictable",
                      "normalizedTarget": "impredecible",
                      "examples": [
                        {
                          "sourcePrefix": "Laughter is very ",
                          "sourceSuffix": ".",
                          "targetPrefix": "La risa es ",
                          "targetTerm": "impredecible",
                          "sourceTerm": "unpredictable",
                          "targetSuffix": "."
                        },
                        {
                          "sourcePrefix": "Because doing it is both dangerous and ",
                          "sourceSuffix": ".",
                          "targetPrefix": "Porque hacerlo es peligroso a la par que ",
                          "targetTerm": "impredecible",
                          "sourceTerm": "unpredictable",
                          "targetSuffix": "."
                        },
                        {
                          "sourcePrefix": "A nebula can be very ",
                          "sourceSuffix": ".",
                          "targetPrefix": "Una nebulosa puede ser más que ",
                          "targetTerm": "impredecible",
                          "sourceTerm": "unpredictable",
                          "targetSuffix": "."
                        },
                        {
                          "sourcePrefix": "The outcome is variable and ",
                          "sourceSuffix": ".",
                          "targetPrefix": "El pronóstico es variable e ",
                          "targetTerm": "impredecible",
                          "sourceTerm": "unpredictable",
                          "targetSuffix": "."
                        },
                        {
                          "sourcePrefix": "A powerful and ",
                          "sourceSuffix": " entity.",
                          "targetPrefix": "Una entidad ",
                          "targetTerm": "impredecible",
                          "sourceTerm": "unpredictable",
                          "targetSuffix": " y poderosa."
                        }
                      ]
                    }
                  ],
                  "3": "A nebula can be very ",
                  "4": "unpredictable",
                  "5": ".",
                  "6": "Una nebulosa puede ser más que ",
                  "7": "impredecible",
                  "8": "."
                },
                {
                  "0": "unpredictable",
                  "1": "impredecible",
                  "2": [
                    {
                      "normalizedSource": "unpredictable",
                      "normalizedTarget": "impredecible",
                      "examples": [
                        {
                          "sourcePrefix": "Laughter is very ",
                          "sourceSuffix": ".",
                          "targetPrefix": "La risa es ",
                          "targetTerm": "impredecible",
                          "sourceTerm": "unpredictable",
                          "targetSuffix": "."
                        },
                        {
                          "sourcePrefix": "Because doing it is both dangerous and ",
                          "sourceSuffix": ".",
                          "targetPrefix": "Porque hacerlo es peligroso a la par que ",
                          "targetTerm": "impredecible",
                          "sourceTerm": "unpredictable",
                          "targetSuffix": "."
                        },
                        {
                          "sourcePrefix": "A nebula can be very ",
                          "sourceSuffix": ".",
                          "targetPrefix": "Una nebulosa puede ser más que ",
                          "targetTerm": "impredecible",
                          "sourceTerm": "unpredictable",
                          "targetSuffix": "."
                        },
                        {
                          "sourcePrefix": "The outcome is variable and ",
                          "sourceSuffix": ".",
                          "targetPrefix": "El pronóstico es variable e ",
                          "targetTerm": "impredecible",
                          "sourceTerm": "unpredictable",
                          "targetSuffix": "."
                        },
                        {
                          "sourcePrefix": "A powerful and ",
                          "sourceSuffix": " entity.",
                          "targetPrefix": "Una entidad ",
                          "targetTerm": "impredecible",
                          "sourceTerm": "unpredictable",
                          "targetSuffix": " y poderosa."
                        }
                      ]
                    }
                  ],
                  "3": "The outcome is variable and ",
                  "4": "unpredictable",
                  "5": ".",
                  "6": "El pronóstico es variable e ",
                  "7": "impredecible",
                  "8": "."
                },
                {
                  "0": "unpredictable",
                  "1": "impredecible",
                  "2": [
                    {
                      "normalizedSource": "unpredictable",
                      "normalizedTarget": "impredecible",
                      "examples": [
                        {
                          "sourcePrefix": "Laughter is very ",
                          "sourceSuffix": ".",
                          "targetPrefix": "La risa es ",
                          "targetTerm": "impredecible",
                          "sourceTerm": "unpredictable",
                          "targetSuffix": "."
                        },
                        {
                          "sourcePrefix": "Because doing it is both dangerous and ",
                          "sourceSuffix": ".",
                          "targetPrefix": "Porque hacerlo es peligroso a la par que ",
                          "targetTerm": "impredecible",
                          "sourceTerm": "unpredictable",
                          "targetSuffix": "."
                        },
                        {
                          "sourcePrefix": "A nebula can be very ",
                          "sourceSuffix": ".",
                          "targetPrefix": "Una nebulosa puede ser más que ",
                          "targetTerm": "impredecible",
                          "sourceTerm": "unpredictable",
                          "targetSuffix": "."
                        },
                        {
                          "sourcePrefix": "The outcome is variable and ",
                          "sourceSuffix": ".",
                          "targetPrefix": "El pronóstico es variable e ",
                          "targetTerm": "impredecible",
                          "sourceTerm": "unpredictable",
                          "targetSuffix": "."
                        },
                        {
                          "sourcePrefix": "A powerful and ",
                          "sourceSuffix": " entity.",
                          "targetPrefix": "Una entidad ",
                          "targetTerm": "impredecible",
                          "sourceTerm": "unpredictable",
                          "targetSuffix": " y poderosa."
                        }
                      ]
                    }
                  ],
                  "3": "A powerful and ",
                  "4": "unpredictable",
                  "5": " entity.",
                  "6": "Una entidad ",
                  "7": "impredecible",
                  "8": " y poderosa."
                }
              ],
              "schema": [
                {
                  "key": "0",
                  "name": "text",
                  "type": "string"
                },
                {
                  "key": "1",
                  "name": "translation",
                  "type": "string"
                },
                {
                  "key": "2",
                  "name": "result",
                  "type": "ArrayType(StructType(StructField(normalizedSource,StringType,true), StructField(normalizedTarget,StringType,true), StructField(examples,ArrayType(StructType(StructField(sourcePrefix,StringType,true), StructField(sourceTerm,StringType,true), StructField(sourceSuffix,StringType,true), StructField(targetPrefix,StringType,true), StructField(targetTerm,StringType,true), StructField(targetSuffix,StringType,true)),true),true)),true)"
                },
                {
                  "key": "3",
                  "name": "sourcePrefix",
                  "type": "string"
                },
                {
                  "key": "4",
                  "name": "sourceTerm",
                  "type": "string"
                },
                {
                  "key": "5",
                  "name": "sourceSuffix",
                  "type": "string"
                },
                {
                  "key": "6",
                  "name": "targetPrefix",
                  "type": "string"
                },
                {
                  "key": "7",
                  "name": "targetTerm",
                  "type": "string"
                },
                {
                  "key": "8",
                  "name": "targetSuffix",
                  "type": "string"
                }
              ],
              "truncated": false
            },
            "isSummary": false,
            "language": "scala"
          },
          "persist_state": {
            "view": {
              "type": "details",
              "tableOptions": {},
              "chartOptions": {
                "chartType": "bar",
                "aggregationType": "count",
                "categoryFieldKeys": [
                  "0"
                ],
                "seriesFieldKeys": [
                  "0"
                ],
                "isStacked": false
              }
            }
          }
        },
        "5e576b66-ac75-45a4-bc77-7b3c655ea699": {
          "type": "Synapse.DataFrame",
          "sync_state": {
            "table": {
              "rows": [
                {
                  "0": "20mg of ibuprofen twice a day",
                  "1": "0",
                  "2": [
                    {
                      "confidenceScore": 0.99,
                      "text": "20mg",
                      "offset": 0,
                      "category": "Dosage",
                      "length": 4
                    },
                    {
                      "confidenceScore": 1,
                      "text": "ibuprofen",
                      "offset": 8,
                      "category": "MedicationName",
                      "length": 9
                    },
                    {
                      "confidenceScore": 1,
                      "text": "twice a day",
                      "offset": 18,
                      "category": "Frequency",
                      "length": 11
                    }
                  ],
                  "3": [
                    {
                      "relationType": "DosageOfMedication",
                      "entities": [
                        {
                          "ref": "#/results/documents/0/entities/0",
                          "role": "Dosage"
                        },
                        {
                          "ref": "#/results/documents/0/entities/1",
                          "role": "Medication"
                        }
                      ]
                    },
                    {
                      "relationType": "FrequencyOfMedication",
                      "entities": [
                        {
                          "ref": "#/results/documents/0/entities/1",
                          "role": "Medication"
                        },
                        {
                          "ref": "#/results/documents/0/entities/2",
                          "role": "Frequency"
                        }
                      ]
                    }
                  ],
                  "4": []
                },
                {
                  "0": "1tsp of Tylenol every 4 hours",
                  "1": "0",
                  "2": [
                    {
                      "confidenceScore": 1,
                      "text": "1tsp",
                      "offset": 0,
                      "category": "Dosage",
                      "length": 4
                    },
                    {
                      "confidenceScore": 1,
                      "text": "Tylenol",
                      "offset": 8,
                      "category": "MedicationName",
                      "length": 7
                    },
                    {
                      "confidenceScore": 1,
                      "text": "every 4 hours",
                      "offset": 16,
                      "category": "Frequency",
                      "length": 13
                    }
                  ],
                  "3": [
                    {
                      "relationType": "DosageOfMedication",
                      "entities": [
                        {
                          "ref": "#/results/documents/0/entities/0",
                          "role": "Dosage"
                        },
                        {
                          "ref": "#/results/documents/0/entities/1",
                          "role": "Medication"
                        }
                      ]
                    },
                    {
                      "relationType": "FrequencyOfMedication",
                      "entities": [
                        {
                          "ref": "#/results/documents/0/entities/1",
                          "role": "Medication"
                        },
                        {
                          "ref": "#/results/documents/0/entities/2",
                          "role": "Frequency"
                        }
                      ]
                    }
                  ],
                  "4": []
                },
                {
                  "0": "6-drops of Vitamin B-12 every evening",
                  "1": "0",
                  "2": [
                    {
                      "confidenceScore": 0.97,
                      "text": "6-drops",
                      "offset": 0,
                      "category": "Dosage",
                      "length": 7
                    },
                    {
                      "confidenceScore": 0.99,
                      "text": "Vitamin B-12",
                      "offset": 11,
                      "category": "MedicationName",
                      "length": 12
                    },
                    {
                      "confidenceScore": 1,
                      "text": "every evening",
                      "offset": 24,
                      "category": "Frequency",
                      "length": 13
                    }
                  ],
                  "3": [
                    {
                      "relationType": "DosageOfMedication",
                      "entities": [
                        {
                          "ref": "#/results/documents/0/entities/0",
                          "role": "Dosage"
                        },
                        {
                          "ref": "#/results/documents/0/entities/1",
                          "role": "Medication"
                        }
                      ]
                    },
                    {
                      "relationType": "FrequencyOfMedication",
                      "entities": [
                        {
                          "ref": "#/results/documents/0/entities/1",
                          "role": "Medication"
                        },
                        {
                          "ref": "#/results/documents/0/entities/2",
                          "role": "Frequency"
                        }
                      ]
                    }
                  ],
                  "4": []
                }
              ],
              "schema": [
                {
                  "key": "0",
                  "name": "text",
                  "type": "string"
                },
                {
                  "key": "1",
                  "name": "id",
                  "type": "string"
                },
                {
                  "key": "2",
                  "name": "entities",
                  "type": "ArrayType(StructType(StructField(offset,IntegerType,false), StructField(length,IntegerType,false), StructField(text,StringType,true), StructField(category,StringType,true), StructField(confidenceScore,DoubleType,false)),true)"
                },
                {
                  "key": "3",
                  "name": "relations",
                  "type": "ArrayType(StructType(StructField(relationType,StringType,true), StructField(entities,ArrayType(StructType(StructField(ref,StringType,true), StructField(role,StringType,true)),true),true)),true)"
                },
                {
                  "key": "4",
                  "name": "warnings",
                  "type": "ArrayType(StructType(StructField(code,StringType,true), StructField(message,StringType,true), StructField(targetRef,StringType,true)),true)"
                },
                {
                  "key": "5",
                  "name": "statistics",
                  "type": "StructType(StructField(charactersCount,IntegerType,false), StructField(transactionsCount,IntegerType,false))"
                }
              ],
              "truncated": false
            },
            "isSummary": false,
            "language": "scala"
          },
          "persist_state": {
            "view": {
              "type": "details",
              "tableOptions": {},
              "chartOptions": {
                "chartType": "bar",
                "aggregationType": "count",
                "categoryFieldKeys": [
                  "0"
                ],
                "seriesFieldKeys": [
                  "0"
                ],
                "isStacked": false
              }
            }
          }
        }
      }
    }
  },
  "cells": [
    {
      "cell_type": "markdown",
      "metadata": {
        "nteract": {
          "transient": {
            "deleting": false
          }
        }
      },
      "source": [
        "# Tutorial: Build intelligent applications using Azure Cognitive Services in Microsoft Machine Learning for Apache Spark\r\n",
        "\r\n",
        "In this article, you will learn how to use Microsoft Machine Learning for Apache Spark ([SynapseML ](https://github.com/microsoft/SynapseML)) to create machine learning applications. \r\n",
        "SynapseML expands the distributed machine learning solution of Apache Spark by adding many deep learning and data science tools, such as [Azure Cognitive Services](../../cognitive-services/big-data/cognitive-services-for-big-data.md), [OpenCV](https://opencv.org/), [LightGBM](https://github.com/Microsoft/LightGBM) and more.  \r\n",
        "\r\n",
        "SynapseML allows you to build powerful and highly scalable predictive and analytical models from various Spark data sources.\r\n",
        "\r\n",
        "\r\n",
        "\r\n",
        ""
      ]
    },
    {
      "cell_type": "markdown",
      "metadata": {
        "nteract": {
          "transient": {
            "deleting": false
          }
        }
      },
      "source": [
        "<img width=\"200\"  src=\"https://mmlspark.blob.core.windows.net/graphics/Readme/cog_services_on_spark_2.svg\">\r\n",
        "\r\n",
        "This tutorial covers samples using [Azure Cognitive Services](https://azure.microsoft.com/services/cognitive-services/) in SynapseML for \r\n",
        "\r\n",
        "- Text Analytics - get the sentiment (or mood) of a set of sentences.\r\n",
        "- Computer Vision - get the tags (one-word descriptions) associated with a set of images.\r\n",
        "- Bing Image Search - search the web for images related to a natural language query.\r\n",
        "- Anomaly Detector - detect anomalies within a time series data.\r\n",
        "- Speech to Text - convert streams or files of spoken audio to text.\r\n",
        "\r\n",
        "If you don't have an Azure subscription, [create a free account before you begin](https://azure.microsoft.com/free/).\r\n",
        ""
      ]
    },
    {
      "cell_type": "markdown",
      "metadata": {
        "nteract": {
          "transient": {
            "deleting": false
          }
        }
      },
      "source": [
        "## Prerequisites \r\n",
        "\r\n",
        "- [Azure Synapse Analytics workspace](https://docs.microsoft.com/azure/synapse-analytics/get-started-create-workspace) with an Azure Data Lake Storage Gen2 storage account configured as the default storage. You need to be the *Storage Blob Data Contributor* of the Data Lake Storage Gen2 file system that you work with.\r\n",
        "- Spark pool in your Azure Synapse Analytics workspace. For details, see [Create a Spark pool in Azure Synapse](https://docs.microsoft.com/azure/synapse-analytics/get-started-analyze-spark).\r\n",
        "- Pre-configuration steps described in the tutorial [Configure Cognitive Services in Azure Synapse](https://docs.microsoft.com/azure/synapse-analytics/machine-learning/tutorial-configure-cognitive-services-synapse)."
      ]
    },
    {
      "cell_type": "markdown",
      "metadata": {
        "nteract": {
          "transient": {
            "deleting": false
          }
        }
      },
      "source": [
        "## Get started\r\n",
        "To get started, import mmlspark and configurate service keys. "
      ]
    },
    {
      "cell_type": "code",
      "execution_count": 6,
      "outputs": [
        {
          "output_type": "display_data",
          "data": {
            "application/vnd.livy.statement-meta+json": {
              "spark_pool": "testspark2",
              "session_id": "7",
              "statement_id": 5,
              "state": "finished",
              "livy_statement_state": "available",
              "queued_time": "2023-02-22T18:50:50.7405567Z",
              "session_start_time": null,
              "execution_start_time": "2023-02-22T18:50:50.8628009Z",
              "execution_finish_time": "2023-02-22T18:50:51.0151118Z",
              "spark_jobs": null,
              "parent_msg_id": "8ffa0476-f08a-4e65-9b12-35cab9ef3136"
            },
            "text/plain": "StatementMeta(testspark2, 7, 5, Finished, Available)"
          },
          "metadata": {}
        }
      ],
      "metadata": {},
      "source": [
        "\r\n",
        "from synapse.ml.cognitive import *\r\n",
        "from notebookutils import mssparkutils\r\n",
        "\r\n",
        "# A general Cognitive Services key for Text Analytics and Computer Vision (or use separate keys that belong to each service)\r\n",
        "cognitive_service_key = mssparkutils.credentials.getSecret(\"ezzat-keyvault\", \"ez-cog-lang\")\r\n",
        "cognitive_service_translator_key = mssparkutils.credentials.getSecret(\"ezzat-keyvault\", \"ez-cog-translate\")\r\n",
        "\r\n",
        "# A Bing Search v7 subscription key\r\n",
        "#bingsearch_service_key = mssparkutils.credentials.getSecret(\"ADD_YOUR_KEY_VAULT_NAME\", \"ADD_YOUR_BING_SEARCH_KEY\",\"ADD_YOUR_KEY_VAULT_LINKED_SERVICE_NAME\")\r\n",
        "# An Anomaly Dectector subscription key\r\n",
        "#anomalydetector_key = mssparkutils.credentials.getSecret(\"ADD_YOUR_KEY_VAULT_NAME\", \"ADD_YOUR_ANOMALY_KEY\",\"ADD_YOUR_KEY_VAULT_LINKED_SERVICE_NAME\")"
      ]
    },
    {
      "cell_type": "markdown",
      "metadata": {
        "nteract": {
          "transient": {
            "deleting": false
          }
        }
      },
      "source": [
        "## Text analytics sample\r\n",
        "\r\n",
        "The [Text Analytics](https://docs.microsoft.com/azure/cognitive-services/text-analytics/) service provides several algorithms for extracting intelligent insights from text. For example, we can find the sentiment of given input text. The service will return a score between 0.0 and 1.0 where low scores indicate negative sentiment and high score indicates positive sentiment. This sample uses three simple sentences and returns the sentiment for each.\r\n",
        ""
      ]
    },
    {
      "cell_type": "markdown",
      "metadata": {
        "nteract": {
          "transient": {
            "deleting": false
          }
        }
      },
      "source": [
        "### Sentiment analysis"
      ]
    },
    {
      "cell_type": "code",
      "execution_count": 98,
      "outputs": [
        {
          "output_type": "display_data",
          "data": {
            "application/vnd.livy.statement-meta+json": {
              "spark_pool": "testspark2",
              "session_id": "1",
              "statement_id": 98,
              "state": "finished",
              "livy_statement_state": "available",
              "queued_time": "2023-02-20T19:59:37.1312702Z",
              "session_start_time": null,
              "execution_start_time": "2023-02-20T19:59:37.2716129Z",
              "execution_finish_time": "2023-02-20T19:59:38.3486417Z",
              "spark_jobs": null,
              "parent_msg_id": "844f38f5-241e-46fc-b335-a4829b229616"
            },
            "text/plain": "StatementMeta(testspark2, 1, 98, Finished, Available)"
          },
          "metadata": {}
        },
        {
          "output_type": "display_data",
          "data": {
            "application/vnd.synapse.widget-view+json": {
              "widget_id": "cf3c2adc-bbe7-4f0b-95f4-193d790d0d80",
              "widget_type": "Synapse.DataFrame"
            },
            "text/plain": "SynapseWidget(Synapse.DataFrame, cf3c2adc-bbe7-4f0b-95f4-193d790d0d80)"
          },
          "metadata": {}
        }
      ],
      "metadata": {
        "jupyter": {
          "source_hidden": false,
          "outputs_hidden": false
        },
        "nteract": {
          "transient": {
            "deleting": false
          }
        },
        "collapsed": false
      },
      "source": [
        "from pyspark.sql.functions import col\r\n",
        "\r\n",
        "# Create a dataframe that's tied to it's column names\r\n",
        "df_sentences = spark.createDataFrame([\r\n",
        "  (\"I am so happy today, its sunny!\", \"en-US\"), \r\n",
        "  (\"this is a dog\", \"en-US\"), \r\n",
        "  (\"I am frustrated by this rush hour traffic!\", \"en-US\") \r\n",
        "], [\"text\", \"language\"])\r\n",
        "\r\n",
        "# Run the Text Analytics service with options\r\n",
        "sentiment = (TextSentiment()\r\n",
        "    .setTextCol(\"text\")\r\n",
        "    .setLocation(\"eastus\") # Set the location of your cognitive service\r\n",
        "    .setSubscriptionKey(cognitive_service_translator_key)\r\n",
        "    .setOutputCol(\"sentiment\")\r\n",
        "    .setErrorCol(\"error\")\r\n",
        "    .setLanguageCol(\"language\"))\r\n",
        "\r\n",
        "# Show the results of your text query in a table format\r\n",
        "#display(sentiment.transform(df_sentences))\r\n",
        "#sentiment.transform(df_sentences).printSchema()\r\n",
        "display(sentiment.transform(df_sentences).select(\"text\",\"language\", \"sentiment.document.sentiment\",\"sentiment.document.confidenceScores.*\"))"
      ]
    },
    {
      "cell_type": "markdown",
      "metadata": {
        "nteract": {
          "transient": {
            "deleting": false
          }
        }
      },
      "source": [
        "## Opinion mining"
      ]
    },
    {
      "cell_type": "code",
      "execution_count": null,
      "outputs": [],
      "metadata": {
        "jupyter": {
          "source_hidden": false,
          "outputs_hidden": false
        },
        "nteract": {
          "transient": {
            "deleting": false
          }
        }
      },
      "source": [
        "import  pyspark.sql.functions as f\r\n",
        "\r\n",
        "# Create a dataframe that's tied to it's column names\r\n",
        "df = spark.createDataFrame([\r\n",
        "  (\"Bill Clinton is so happy today, its sunny!\", \"en-US\"),\r\n",
        "  (\"The room was great, but the staff was unfriendly\", \"en-US\"),\r\n",
        "  (\"The cognitive services on spark aint bad\", \"en-US\"),\r\n",
        "], [\"text\", \"language\"])\r\n",
        "\r\n",
        "# Run the Text Analytics service with options\r\n",
        "sentiment = (TextSentiment()\r\n",
        "            .setLocation(\"eastus\") # Set the location of your cognitive service\r\n",
        "            .setSubscriptionKey(cognitive_service_key)\r\n",
        "            .setTextCol(\"text\")\r\n",
        "            .setOutputCol(\"sentiment\")\r\n",
        "            .setErrorCol(\"error\")\r\n",
        "            .setLanguageCol(\"language\")\r\n",
        "            .setOpinionMining(True)\r\n",
        "            )\r\n",
        "\r\n",
        "# Show the results of your text query in a table format\r\n",
        "#display(sentiment.transform(df))\r\n",
        "display(sentiment.transform(df)\r\n",
        "      .select(\"text\",\"language\", \"sentiment.document.*\")\r\n",
        "      .withColumn(\"sentences\",f.explode_outer(\"sentences\"))\r\n",
        "      .select(f.col(\"text\").alias(\"original_text\"),\"sentiment\"\r\n",
        "            ,f.col(\"sentences.sentiment\").alias(\"sentences_sentiment\")\r\n",
        "            ,f.col(\"sentences.confidenceScores\").alias(\"sentences_conf_score\")\r\n",
        "            ,f.col(\"sentences.text\").alias(\"sentences_text\")\r\n",
        "            ,f.col(\"sentences.targets\").alias(\"sentences_targets\")\r\n",
        "            ,f.col(\"sentences.assessments\").alias(\"sentences_assessments\")\r\n",
        "      )\r\n",
        "     \r\n",
        ")"
      ]
    },
    {
      "cell_type": "markdown",
      "metadata": {
        "nteract": {
          "transient": {
            "deleting": false
          }
        }
      },
      "source": [
        "## Language detector"
      ]
    },
    {
      "cell_type": "code",
      "execution_count": 32,
      "outputs": [
        {
          "output_type": "display_data",
          "data": {
            "application/vnd.livy.statement-meta+json": {
              "spark_pool": "testspark2",
              "session_id": "0",
              "statement_id": 32,
              "state": "finished",
              "livy_statement_state": "available",
              "queued_time": "2023-02-20T14:07:59.6405761Z",
              "session_start_time": null,
              "execution_start_time": "2023-02-20T14:07:59.8090436Z",
              "execution_finish_time": "2023-02-20T14:08:01.6906367Z",
              "spark_jobs": null,
              "parent_msg_id": "db9590b6-dceb-43a9-bf6f-a5e6c141fc2b"
            },
            "text/plain": "StatementMeta(testspark2, 0, 32, Finished, Available)"
          },
          "metadata": {}
        },
        {
          "output_type": "display_data",
          "data": {
            "application/vnd.synapse.widget-view+json": {
              "widget_id": "43f4ee72-8346-4ce5-a923-29c966800352",
              "widget_type": "Synapse.DataFrame"
            },
            "text/plain": "SynapseWidget(Synapse.DataFrame, 43f4ee72-8346-4ce5-a923-29c966800352)"
          },
          "metadata": {}
        }
      ],
      "metadata": {
        "jupyter": {
          "source_hidden": false,
          "outputs_hidden": false
        },
        "nteract": {
          "transient": {
            "deleting": false
          }
        },
        "collapsed": false
      },
      "source": [
        "# Create a dataframe that's tied to it's column names\r\n",
        "df = spark.createDataFrame([\r\n",
        "  (\"Hello World\",),\r\n",
        "  (\"Bonjour tout le monde\",),\r\n",
        "  (\"Bonjour tout le monde, my name is John\",),\r\n",
        "  (\"La carretera estaba atascada. Había mucho tráfico el día de ayer.\",),\r\n",
        "  (\"你好\",),\r\n",
        "  (\"こんにちは\",),\r\n",
        "  (\":) :( :D\",)\r\n",
        "], [\"text\",])\r\n",
        "\r\n",
        "# Run the Text Analytics service with options\r\n",
        "language = (LanguageDetector()\r\n",
        "            .setLocation(\"eastus\") # Set the location of your cognitive service\r\n",
        "            .setSubscriptionKey(cognitive_service_key)\r\n",
        "            .setTextCol(\"text\")\r\n",
        "            .setOutputCol(\"language\")\r\n",
        "            .setErrorCol(\"error\")\r\n",
        "            )\r\n",
        "\r\n",
        "# Show the results of your text query in a table format\r\n",
        "display(language.transform(df).select(\"text\",\"language.document.detectedLanguage.*\"))"
      ]
    },
    {
      "cell_type": "markdown",
      "metadata": {
        "nteract": {
          "transient": {
            "deleting": false
          }
        }
      },
      "source": [
        "### Translate text"
      ]
    },
    {
      "cell_type": "code",
      "execution_count": null,
      "outputs": [],
      "metadata": {
        "jupyter": {
          "source_hidden": false,
          "outputs_hidden": false
        },
        "nteract": {
          "transient": {
            "deleting": false
          }
        }
      },
      "source": [
        "from synapse.ml.cognitive import *\r\n",
        "import pyspark.sql.functions as f\r\n",
        "\r\n",
        "\r\n",
        "translate = (Translate()\r\n",
        "            .setLocation(\"eastus\") # Set the location of your cognitive service\r\n",
        "            .setSubscriptionKey(cognitive_service_translator_key)\r\n",
        "            .setTextCol(\"text\")\r\n",
        "            .setFromLanguageCol(\"lang\")\r\n",
        "            .setToLanguage([\"en-US\"])\r\n",
        "            .setOutputCol(\"translation\")\r\n",
        "            .setConcurrency(5))\r\n",
        "\r\n",
        "\r\n",
        "df = spark.createDataFrame([\r\n",
        "  ([\"Hello, what is your name?\", \"Bye\"],\"en-US\"),\r\n",
        "  ([\"Bonjour, comment ca va?\"],\"fr\"),\r\n",
        "  ([\"Como estas?\",],\"es\"),\r\n",
        "], [\"text\",\"lang\"])\r\n",
        "\r\n",
        "display(translate.transform(df)\r\n",
        "        .withColumn(\"translation\",f.explode_outer(\"translation\"))\r\n",
        "        .withColumn(\"translations\",f.explode_outer(\"translation.translations\"))\r\n",
        "        .select(\"text\",\"lang\",f.col(\"translations.text\").alias(\"translated_text\"),)\r\n",
        "        )"
      ]
    },
    {
      "cell_type": "code",
      "execution_count": 170,
      "outputs": [
        {
          "output_type": "display_data",
          "data": {
            "application/vnd.livy.statement-meta+json": {
              "spark_pool": "testspark2",
              "session_id": "1",
              "statement_id": 170,
              "state": "finished",
              "livy_statement_state": "available",
              "queued_time": "2023-02-20T20:25:35.4371679Z",
              "session_start_time": null,
              "execution_start_time": "2023-02-20T20:25:35.5869671Z",
              "execution_finish_time": "2023-02-20T20:25:36.6788589Z",
              "spark_jobs": null,
              "parent_msg_id": "d39bb02d-23e3-46d9-97d2-bb7170f6bc93"
            },
            "text/plain": "StatementMeta(testspark2, 1, 170, Finished, Available)"
          },
          "metadata": {}
        },
        {
          "output_type": "display_data",
          "data": {
            "application/vnd.synapse.widget-view+json": {
              "widget_id": "0d0dbbfd-fc17-4063-a973-f81be63cd088",
              "widget_type": "Synapse.DataFrame"
            },
            "text/plain": "SynapseWidget(Synapse.DataFrame, 0d0dbbfd-fc17-4063-a973-f81be63cd088)"
          },
          "metadata": {}
        }
      ],
      "metadata": {
        "jupyter": {
          "source_hidden": false,
          "outputs_hidden": false
        },
        "nteract": {
          "transient": {
            "deleting": false
          }
        },
        "collapsed": false
      },
      "source": [
        "from synapse.ml.cognitive import *\r\n",
        "df = spark.createDataFrame([\r\n",
        "  (\"happy\", \"en-US\"),\r\n",
        "  (\"unfriendly\", \"en-US\"),\r\n",
        "  (\"unpredictable\", \"en\"),\r\n",
        "], [\"text\", \"language\"])\r\n",
        "\r\n",
        "\r\n",
        "dictionaryLookup = (DictionaryLookup()\r\n",
        "                  .setSubscriptionKey(cognitive_service_translator_key)\r\n",
        "                  .setLocation(\"eastus\")\r\n",
        "                  .setFromLanguageCol(\"language\")\r\n",
        "                  .setToLanguage(\"es\")\r\n",
        "                  .setTextCol(\"text\")\r\n",
        "                  .setOutputCol(\"result\"))\r\n",
        "display(dictionaryLookup\r\n",
        "    .transform(df)\r\n",
        "    .withColumn(\"translations\", f.flatten(col(\"result.translations\")))\r\n",
        "    .withColumn(\"normalizedTarget\", col(\"translations.normalizedTarget\"))\r\n",
        "    .select(\"text\",\"language\",\"normalizedTarget\")\r\n",
        "    \r\n",
        "    )"
      ]
    },
    {
      "cell_type": "code",
      "execution_count": 182,
      "outputs": [
        {
          "output_type": "display_data",
          "data": {
            "application/vnd.livy.statement-meta+json": {
              "spark_pool": "testspark2",
              "session_id": "1",
              "statement_id": 182,
              "state": "finished",
              "livy_statement_state": "available",
              "queued_time": "2023-02-20T20:30:54.6890847Z",
              "session_start_time": null,
              "execution_start_time": "2023-02-20T20:30:54.8784556Z",
              "execution_finish_time": "2023-02-20T20:30:56.0375884Z",
              "spark_jobs": null,
              "parent_msg_id": "3f596caf-73fb-432a-ae7a-592af251c485"
            },
            "text/plain": "StatementMeta(testspark2, 1, 182, Finished, Available)"
          },
          "metadata": {}
        },
        {
          "output_type": "display_data",
          "data": {
            "application/vnd.synapse.widget-view+json": {
              "widget_id": "ad6bbe3e-9335-4635-825c-2fa8b8f88501",
              "widget_type": "Synapse.DataFrame"
            },
            "text/plain": "SynapseWidget(Synapse.DataFrame, ad6bbe3e-9335-4635-825c-2fa8b8f88501)"
          },
          "metadata": {}
        }
      ],
      "metadata": {
        "jupyter": {
          "source_hidden": false,
          "outputs_hidden": false
        },
        "nteract": {
          "transient": {
            "deleting": false
          }
        },
        "collapsed": false
      },
      "source": [
        "from synapse.ml.cognitive import *\r\n",
        "df = (spark.createDataFrame([\r\n",
        "  (\"fly\", \"volar\"),(\"happy\", \"feliz\"),(\"unpredictable\", \"impredecible\")\r\n",
        "], [\"text\", \"translation\"])\r\n",
        "    .withColumn(\"textAndTranslation\", f.array(f.struct(col(\"text\"), col(\"translation\")))))\r\n",
        "\r\n",
        "\r\n",
        "dictionaryExamples = (DictionaryExamples()\r\n",
        "                  .setSubscriptionKey(cognitive_service_translator_key)\r\n",
        "                  .setLocation(\"eastus\")\r\n",
        "                  .setFromLanguage(\"en\")\r\n",
        "                  .setToLanguage(\"es\")\r\n",
        "                  .setTextAndTranslationCol(\"textAndTranslation\")\r\n",
        "                  .setOutputCol(\"result\"))\r\n",
        "display(dictionaryExamples\r\n",
        "    .transform(df)\r\n",
        "    .withColumn(\"examples\", f.explode(f.flatten(col(\"result.examples\"))))\r\n",
        "    .select(\"text\",\"translation\",\"result\",\"examples.*\"))"
      ]
    },
    {
      "cell_type": "markdown",
      "metadata": {
        "nteract": {
          "transient": {
            "deleting": false
          }
        }
      },
      "source": [
        "## Entity detector"
      ]
    },
    {
      "cell_type": "code",
      "execution_count": 75,
      "outputs": [
        {
          "output_type": "display_data",
          "data": {
            "application/vnd.livy.statement-meta+json": {
              "spark_pool": "testspark2",
              "session_id": "0",
              "statement_id": 75,
              "state": "finished",
              "livy_statement_state": "available",
              "queued_time": "2023-02-20T14:23:44.7724937Z",
              "session_start_time": null,
              "execution_start_time": "2023-02-20T14:23:44.910928Z",
              "execution_finish_time": "2023-02-20T14:23:46.8073984Z",
              "spark_jobs": null,
              "parent_msg_id": "7fb60868-e44d-4d81-9082-0b652efdcae6"
            },
            "text/plain": "StatementMeta(testspark2, 0, 75, Finished, Available)"
          },
          "metadata": {}
        },
        {
          "output_type": "stream",
          "name": "stdout",
          "text": [
            "root\n |-- if: string (nullable = true)\n |-- text: string (nullable = true)\n |-- error: struct (nullable = true)\n |    |-- response: string (nullable = true)\n |    |-- status: struct (nullable = true)\n |    |    |-- protocolVersion: struct (nullable = true)\n |    |    |    |-- protocol: string (nullable = true)\n |    |    |    |-- major: integer (nullable = false)\n |    |    |    |-- minor: integer (nullable = false)\n |    |    |-- statusCode: integer (nullable = false)\n |    |    |-- reasonPhrase: string (nullable = true)\n |-- replies: struct (nullable = true)\n |    |-- statistics: struct (nullable = true)\n |    |    |-- documentsCount: integer (nullable = false)\n |    |    |-- validDocumentsCount: integer (nullable = false)\n |    |    |-- erroneousDocumentsCount: integer (nullable = false)\n |    |    |-- transactionsCount: integer (nullable = false)\n |    |-- document: struct (nullable = true)\n |    |    |-- id: string (nullable = true)\n |    |    |-- entities: array (nullable = true)\n |    |    |    |-- element: struct (containsNull = true)\n |    |    |    |    |-- name: string (nullable = true)\n |    |    |    |    |-- matches: array (nullable = true)\n |    |    |    |    |    |-- element: struct (containsNull = true)\n |    |    |    |    |    |    |-- confidenceScore: double (nullable = false)\n |    |    |    |    |    |    |-- text: string (nullable = true)\n |    |    |    |    |    |    |-- offset: integer (nullable = false)\n |    |    |    |    |    |    |-- length: integer (nullable = false)\n |    |    |    |    |-- language: string (nullable = true)\n |    |    |    |    |-- id: string (nullable = true)\n |    |    |    |    |-- url: string (nullable = true)\n |    |    |    |    |-- dataSource: string (nullable = true)\n |    |    |-- warnings: array (nullable = true)\n |    |    |    |-- element: struct (containsNull = true)\n |    |    |    |    |-- code: string (nullable = true)\n |    |    |    |    |-- message: string (nullable = true)\n |    |    |    |    |-- targetRef: string (nullable = true)\n |    |    |-- statistics: struct (nullable = true)\n |    |    |    |-- charactersCount: integer (nullable = false)\n |    |    |    |-- transactionsCount: integer (nullable = false)\n |    |-- error: struct (nullable = true)\n |    |    |-- id: string (nullable = true)\n |    |    |-- error: string (nullable = true)\n |    |-- modelVersion: string (nullable = true)\n\n"
          ]
        },
        {
          "output_type": "display_data",
          "data": {
            "application/vnd.synapse.widget-view+json": {
              "widget_id": "b90acc22-1573-47c0-afdc-7ab8cf1a3270",
              "widget_type": "Synapse.DataFrame"
            },
            "text/plain": "SynapseWidget(Synapse.DataFrame, b90acc22-1573-47c0-afdc-7ab8cf1a3270)"
          },
          "metadata": {}
        }
      ],
      "metadata": {
        "jupyter": {
          "source_hidden": false,
          "outputs_hidden": false
        },
        "nteract": {
          "transient": {
            "deleting": false
          }
        },
        "collapsed": false
      },
      "source": [
        "import pyspark.sql.functions as f\r\n",
        "\r\n",
        "\r\n",
        "df = spark.createDataFrame([\r\n",
        "    (\"1\", \"Microsoft released Windows 10\"),\r\n",
        "    (\"2\", \"In 1975, Bill Gates III and Paul Allen founded the company.\")\r\n",
        "], [\"if\", \"text\"])\r\n",
        "\r\n",
        "entity = (EntityDetector()\r\n",
        "        .setLocation(\"eastus\") # Set the location of your cognitive service\r\n",
        "        .setSubscriptionKey(cognitive_service_key)\r\n",
        "        .setLanguage(\"en\")\r\n",
        "        .setOutputCol(\"replies\")\r\n",
        "        .setErrorCol(\"error\"))\r\n",
        "\r\n",
        "entity.transform(df).printSchema()\r\n",
        "display(entity.transform(df)\r\n",
        "        .select(\"text\",\"replies.document.*\")\r\n",
        "        .withColumn(\"entities\",f.explode(\"entities\"))\r\n",
        "        .select(\"text\",\"entities.name\",\"entities.language\",\"entities.matches\",\"entities.id\",\"entities.url\",)\r\n",
        "        #.withColumn(\"matches\",f.explode(\"matches\"))\r\n",
        "        #.select(\"text\",\"name\",\"matches.*\",\"id\",\"url\",)\r\n",
        "        )"
      ]
    },
    {
      "cell_type": "markdown",
      "metadata": {
        "nteract": {
          "transient": {
            "deleting": false
          }
        }
      },
      "source": [
        "## Key phrase extractor"
      ]
    },
    {
      "cell_type": "code",
      "execution_count": 59,
      "outputs": [
        {
          "output_type": "display_data",
          "data": {
            "application/vnd.livy.statement-meta+json": {
              "spark_pool": "testspark2",
              "session_id": "0",
              "statement_id": 59,
              "state": "finished",
              "livy_statement_state": "available",
              "queued_time": "2023-02-20T14:18:41.7865186Z",
              "session_start_time": null,
              "execution_start_time": "2023-02-20T14:18:41.9287036Z",
              "execution_finish_time": "2023-02-20T14:18:43.7488573Z",
              "spark_jobs": null,
              "parent_msg_id": "e8d44216-dcd7-45d8-944b-200dd54ab6b5"
            },
            "text/plain": "StatementMeta(testspark2, 0, 59, Finished, Available)"
          },
          "metadata": {}
        },
        {
          "output_type": "display_data",
          "data": {
            "application/vnd.synapse.widget-view+json": {
              "widget_id": "19d6d4b1-f093-4823-98d0-fa0ae5685065",
              "widget_type": "Synapse.DataFrame"
            },
            "text/plain": "SynapseWidget(Synapse.DataFrame, 19d6d4b1-f093-4823-98d0-fa0ae5685065)"
          },
          "metadata": {}
        }
      ],
      "metadata": {
        "jupyter": {
          "source_hidden": false,
          "outputs_hidden": false
        },
        "nteract": {
          "transient": {
            "deleting": false
          }
        },
        "collapsed": false
      },
      "source": [
        "df = spark.createDataFrame([\r\n",
        "    (\"en\", \"Hello world. This is some input text that I love.\"),\r\n",
        "    (\"fr\", \"Bonjour tout le monde\"),\r\n",
        "    (\"es\", \"La carretera estaba atascada. Había mucho tráfico el día de ayer.\")\r\n",
        "], [\"lang\", \"text\"])\r\n",
        "\r\n",
        "keyPhrase = (KeyPhraseExtractor()\r\n",
        "            .setLocation(\"eastus\") # Set the location of your cognitive service\r\n",
        "            .setSubscriptionKey(cognitive_service_key)\r\n",
        "            .setLanguageCol(\"lang\")\r\n",
        "            .setOutputCol(\"replies\")\r\n",
        "            .setErrorCol(\"error\"))\r\n",
        "\r\n",
        "display(keyPhrase.transform(df).select(\"text\",\"lang\",\"replies.document.*\"))"
      ]
    },
    {
      "cell_type": "markdown",
      "metadata": {
        "nteract": {
          "transient": {
            "deleting": false
          }
        }
      },
      "source": [
        "# Named Entity Recognition\r\n",
        ""
      ]
    },
    {
      "cell_type": "code",
      "execution_count": 71,
      "outputs": [
        {
          "output_type": "display_data",
          "data": {
            "application/vnd.livy.statement-meta+json": {
              "spark_pool": "testspark2",
              "session_id": "0",
              "statement_id": 71,
              "state": "finished",
              "livy_statement_state": "available",
              "queued_time": "2023-02-20T14:22:38.9037426Z",
              "session_start_time": null,
              "execution_start_time": "2023-02-20T14:22:39.0366877Z",
              "execution_finish_time": "2023-02-20T14:22:40.1547759Z",
              "spark_jobs": null,
              "parent_msg_id": "20c52989-2adc-4e34-8603-d674097b5693"
            },
            "text/plain": "StatementMeta(testspark2, 0, 71, Finished, Available)"
          },
          "metadata": {}
        },
        {
          "output_type": "display_data",
          "data": {
            "application/vnd.synapse.widget-view+json": {
              "widget_id": "0a694d39-e486-49d1-bfce-82a060027992",
              "widget_type": "Synapse.DataFrame"
            },
            "text/plain": "SynapseWidget(Synapse.DataFrame, 0a694d39-e486-49d1-bfce-82a060027992)"
          },
          "metadata": {}
        }
      ],
      "metadata": {
        "jupyter": {
          "source_hidden": false,
          "outputs_hidden": false
        },
        "nteract": {
          "transient": {
            "deleting": false
          }
        },
        "collapsed": false
      },
      "source": [
        "df = spark.createDataFrame([\r\n",
        "    (\"1\", \"en\", \"I had a wonderful trip to Seattle last week.\"),\r\n",
        "    (\"2\", \"en\", \"I visited Space Needle 2 times.\")\r\n",
        "], [\"id\", \"language\", \"text\"])\r\n",
        "\r\n",
        "ner = (NER()\r\n",
        "        .setLocation(\"eastus\") # Set the location of your cognitive service\r\n",
        "        .setSubscriptionKey(cognitive_service_key)\r\n",
        "        .setLanguageCol(\"language\")\r\n",
        "        .setOutputCol(\"replies\")\r\n",
        "        .setErrorCol(\"error\")\r\n",
        "        )\r\n",
        "\r\n",
        "display(ner.transform(df)\r\n",
        "        .select(\"text\",\"language\",\"replies.document.*\")\r\n",
        "        .withColumn(\"entities\",f.explode(\"entities\"))\r\n",
        "        .select(\"text\",\"language\",\"entities.*\")\r\n",
        "        )"
      ]
    },
    {
      "cell_type": "markdown",
      "metadata": {
        "nteract": {
          "transient": {
            "deleting": false
          }
        }
      },
      "source": [
        "# Personally Identifiable Information (PII)"
      ]
    },
    {
      "cell_type": "code",
      "execution_count": 83,
      "outputs": [
        {
          "output_type": "display_data",
          "data": {
            "application/vnd.livy.statement-meta+json": {
              "spark_pool": "testspark2",
              "session_id": "0",
              "statement_id": 83,
              "state": "finished",
              "livy_statement_state": "available",
              "queued_time": "2023-02-20T14:29:47.3846807Z",
              "session_start_time": null,
              "execution_start_time": "2023-02-20T14:29:47.543116Z",
              "execution_finish_time": "2023-02-20T14:29:49.3589512Z",
              "spark_jobs": null,
              "parent_msg_id": "36f88f3d-9d9a-4440-af6c-974547f49750"
            },
            "text/plain": "StatementMeta(testspark2, 0, 83, Finished, Available)"
          },
          "metadata": {}
        },
        {
          "output_type": "display_data",
          "data": {
            "application/vnd.synapse.widget-view+json": {
              "widget_id": "8ac46ce2-a861-45ce-9088-624431a071a4",
              "widget_type": "Synapse.DataFrame"
            },
            "text/plain": "SynapseWidget(Synapse.DataFrame, 8ac46ce2-a861-45ce-9088-624431a071a4)"
          },
          "metadata": {}
        }
      ],
      "metadata": {
        "jupyter": {
          "source_hidden": false,
          "outputs_hidden": false
        },
        "nteract": {
          "transient": {
            "deleting": false
          }
        },
        "collapsed": false
      },
      "source": [
        "df = spark.createDataFrame([\r\n",
        "    (\"1\", \"en\", \"My SSN is 859-98-0987\"),\r\n",
        "    (\"2\", \"en\", \"Your ABA number - 111000025 - is the first 9 digits in the lower left hand corner of your personal check.\"),\r\n",
        "    (\"3\", \"en\", \"Is 998.214.865-68 your Brazilian CPF number?\")\r\n",
        "], [\"id\", \"language\", \"text\"])\r\n",
        "\r\n",
        "pii = (PII()\r\n",
        "    .setLocation(\"eastus\") # Set the location of your cognitive service\r\n",
        "    .setSubscriptionKey(cognitive_service_key)\r\n",
        "    .setLanguageCol(\"language\")\r\n",
        "    .setOutputCol(\"replies\")\r\n",
        "    .setErrorCol(\"error\"))\r\n",
        "\r\n",
        "display(pii.transform(df)\r\n",
        "        .select(\"text\",\"language\",\"replies.document.*\")\r\n",
        "        #.withColumn(\"entities\",f.explode(\"entities\"))\r\n",
        "        .select(\"text\",\"redactedText\",\"language\",\"entities\")\r\n",
        "\r\n",
        ")"
      ]
    },
    {
      "cell_type": "markdown",
      "metadata": {
        "nteract": {
          "transient": {
            "deleting": false
          }
        }
      },
      "source": [
        "## Text Analytics for Health"
      ]
    },
    {
      "cell_type": "code",
      "execution_count": 20,
      "outputs": [
        {
          "output_type": "display_data",
          "data": {
            "application/vnd.livy.statement-meta+json": {
              "spark_pool": "testspark2",
              "session_id": "7",
              "statement_id": 19,
              "state": "finished",
              "livy_statement_state": "available",
              "queued_time": "2023-02-22T18:56:33.0368267Z",
              "session_start_time": null,
              "execution_start_time": "2023-02-22T18:56:33.1779297Z",
              "execution_finish_time": "2023-02-22T18:58:47.1293241Z",
              "spark_jobs": null,
              "parent_msg_id": "27688ddc-cacf-49e4-aee2-c41d959c6d33"
            },
            "text/plain": "StatementMeta(testspark2, 7, 19, Finished, Available)"
          },
          "metadata": {}
        },
        {
          "output_type": "display_data",
          "data": {
            "application/vnd.synapse.widget-view+json": {
              "widget_id": "5e576b66-ac75-45a4-bc77-7b3c655ea699",
              "widget_type": "Synapse.DataFrame"
            },
            "text/plain": "SynapseWidget(Synapse.DataFrame, 5e576b66-ac75-45a4-bc77-7b3c655ea699)"
          },
          "metadata": {}
        }
      ],
      "metadata": {
        "jupyter": {
          "source_hidden": false,
          "outputs_hidden": false
        },
        "nteract": {
          "transient": {
            "deleting": false
          }
        },
        "collapsed": false
      },
      "source": [
        "df = spark.createDataFrame(\r\n",
        "    [\r\n",
        "        (\"20mg of ibuprofen twice a day\",),\r\n",
        "        (\"1tsp of Tylenol every 4 hours\",),\r\n",
        "        (\"6-drops of Vitamin B-12 every evening\",),\r\n",
        "    ],\r\n",
        "    [\"text\"],\r\n",
        ")\r\n",
        "\r\n",
        "healthcare = (\r\n",
        "    AnalyzeHealthText()\r\n",
        "    .setLocation(\"eastus\") # Set the location of your cognitive service\r\n",
        "    .setSubscriptionKey(cognitive_service_key)\r\n",
        "    .setLanguage(\"en\")\r\n",
        "    .setOutputCol(\"response\")\r\n",
        ")\r\n",
        "\r\n",
        "display(healthcare.transform(df)\r\n",
        "            .select(\"text\",\"response.document.*\")\r\n",
        "        )"
      ]
    },
    {
      "cell_type": "markdown",
      "metadata": {
        "nteract": {
          "transient": {
            "deleting": false
          }
        }
      },
      "source": [
        "## Clean up resources\r\n",
        "To ensure the Spark instance is shut down, end any connected sessions(notebooks). The pool shuts down when the **idle time** specified in the Apache Spark pool is reached. You can also select **stop session** from the status bar at the upper right of the notebook.\r\n",
        "\r\n",
        "![stopsession](https://adsnotebookrelease.blob.core.windows.net/adsnotebookrelease/adsnotebook/image/stopsession.png)"
      ]
    },
    {
      "cell_type": "markdown",
      "metadata": {
        "nteract": {
          "transient": {
            "deleting": false
          }
        }
      },
      "source": [
        "## Next steps\r\n",
        "\r\n",
        "* [Check out Synapse sample notebooks](https://github.com/Azure-Samples/Synapse/tree/main/MachineLearning) \r\n",
        "* [SynapseML GitHub Repo](https://github.com/microsoft/SynapseML)\r\n",
        ""
      ]
    }
  ]
}